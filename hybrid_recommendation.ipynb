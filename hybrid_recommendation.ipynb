{
 "cells": [
  {
   "cell_type": "code",
   "execution_count": 19,
   "id": "62f30dd1",
   "metadata": {},
   "outputs": [],
   "source": [
    "import pandas as pd \n",
    "import numpy as np"
   ]
  },
  {
   "cell_type": "code",
   "execution_count": 20,
   "id": "affd59e0",
   "metadata": {},
   "outputs": [],
   "source": [
    "pd.set_option('display.max_rows', 500)\n",
    "pd.set_option('display.max_columns', 50)"
   ]
  },
  {
   "cell_type": "code",
   "execution_count": 21,
   "id": "e55d7169",
   "metadata": {},
   "outputs": [],
   "source": [
    "df = pd.read_csv('data/jikan_final.csv')"
   ]
  },
  {
   "cell_type": "code",
   "execution_count": 22,
   "id": "f304f098",
   "metadata": {},
   "outputs": [
    {
     "data": {
      "text/plain": [
       "(26720, 36)"
      ]
     },
     "execution_count": 22,
     "metadata": {},
     "output_type": "execute_result"
    }
   ],
   "source": [
    "df.shape"
   ]
  },
  {
   "cell_type": "code",
   "execution_count": 23,
   "id": "f1cb6966",
   "metadata": {},
   "outputs": [
    {
     "data": {
      "text/plain": [
       "mal_id             26564\n",
       "url                26564\n",
       "images             26364\n",
       "trailer             4920\n",
       "approved               1\n",
       "titles             26564\n",
       "title              26563\n",
       "title_english      10998\n",
       "title_japanese     25462\n",
       "title_synonyms     12463\n",
       "type                   9\n",
       "source                17\n",
       "episodes             250\n",
       "status                 3\n",
       "airing                 2\n",
       "aired              16116\n",
       "duration             333\n",
       "rating                 6\n",
       "score                559\n",
       "scored_by           8712\n",
       "rank               16055\n",
       "popularity         20364\n",
       "members            11508\n",
       "favorites           1901\n",
       "synopsis           21510\n",
       "background          2556\n",
       "season                 4\n",
       "year                  65\n",
       "broadcast            623\n",
       "producers           4701\n",
       "licensors            265\n",
       "studios             1681\n",
       "genres               962\n",
       "explicit_genres        1\n",
       "themes               948\n",
       "demographics           8\n",
       "dtype: int64"
      ]
     },
     "execution_count": 23,
     "metadata": {},
     "output_type": "execute_result"
    }
   ],
   "source": [
    "df.nunique()"
   ]
  },
  {
   "cell_type": "code",
   "execution_count": 369,
   "id": "42404b4a",
   "metadata": {},
   "outputs": [],
   "source": [
    "user = pd.read_csv(\"data/user.csv\")"
   ]
  },
  {
   "cell_type": "code",
   "execution_count": 370,
   "id": "0fd29c09",
   "metadata": {},
   "outputs": [
    {
     "data": {
      "text/plain": [
       "User ID        35141\n",
       "Username       35140\n",
       "Anime ID       14037\n",
       "Anime Title    14067\n",
       "Score             10\n",
       "dtype: int64"
      ]
     },
     "execution_count": 370,
     "metadata": {},
     "output_type": "execute_result"
    }
   ],
   "source": [
    "user.nunique()"
   ]
  },
  {
   "cell_type": "code",
   "execution_count": 371,
   "id": "1bb5d4f9",
   "metadata": {},
   "outputs": [
    {
     "data": {
      "text/plain": [
       "(3752106, 5)"
      ]
     },
     "execution_count": 371,
     "metadata": {},
     "output_type": "execute_result"
    }
   ],
   "source": [
    "user.shape"
   ]
  },
  {
   "cell_type": "code",
   "execution_count": 27,
   "id": "16a50c82",
   "metadata": {},
   "outputs": [],
   "source": [
    "df.drop_duplicates(inplace=True)"
   ]
  },
  {
   "cell_type": "code",
   "execution_count": 372,
   "id": "fdd29a7e",
   "metadata": {},
   "outputs": [],
   "source": [
    "user.drop_duplicates(inplace=True)"
   ]
  },
  {
   "cell_type": "code",
   "execution_count": null,
   "id": "df89f41c",
   "metadata": {},
   "outputs": [],
   "source": []
  },
  {
   "cell_type": "code",
   "execution_count": 373,
   "id": "743edc56",
   "metadata": {},
   "outputs": [],
   "source": [
    "counts1 = user['Anime ID'].value_counts()\n",
    "filtered_user = user[user[\"Anime ID\"].isin(counts1[counts1>=5].index)]"
   ]
  },
  {
   "cell_type": "code",
   "execution_count": 374,
   "id": "423c184e",
   "metadata": {},
   "outputs": [
    {
     "data": {
      "text/plain": [
       "(3743711, 5)"
      ]
     },
     "execution_count": 374,
     "metadata": {},
     "output_type": "execute_result"
    }
   ],
   "source": [
    "filtered_user.shape"
   ]
  },
  {
   "cell_type": "code",
   "execution_count": 375,
   "id": "fc603c38",
   "metadata": {},
   "outputs": [
    {
     "data": {
      "text/plain": [
       "User ID        35139\n",
       "Username       35138\n",
       "Anime ID       10347\n",
       "Anime Title    10378\n",
       "Score             10\n",
       "dtype: int64"
      ]
     },
     "execution_count": 375,
     "metadata": {},
     "output_type": "execute_result"
    }
   ],
   "source": [
    "filtered_user.nunique()"
   ]
  },
  {
   "cell_type": "code",
   "execution_count": null,
   "id": "dab40941",
   "metadata": {},
   "outputs": [],
   "source": []
  },
  {
   "cell_type": "code",
   "execution_count": 32,
   "id": "d747bec1",
   "metadata": {},
   "outputs": [],
   "source": [
    "not_yet_aired = df[df.status == \"Not yet aired\"]"
   ]
  },
  {
   "cell_type": "code",
   "execution_count": 33,
   "id": "34d9edfc",
   "metadata": {},
   "outputs": [],
   "source": [
    "df1 = df[df['mal_id'].isin(filtered_user['Anime ID'])]"
   ]
  },
  {
   "cell_type": "code",
   "execution_count": 34,
   "id": "16d28dba",
   "metadata": {},
   "outputs": [
    {
     "data": {
      "text/plain": [
       "(10347, 36)"
      ]
     },
     "execution_count": 34,
     "metadata": {},
     "output_type": "execute_result"
    }
   ],
   "source": [
    "df1.shape"
   ]
  },
  {
   "cell_type": "code",
   "execution_count": 35,
   "id": "18767614",
   "metadata": {},
   "outputs": [
    {
     "data": {
      "text/plain": [
       "mal_id                0\n",
       "url                   0\n",
       "images                0\n",
       "trailer               0\n",
       "approved              0\n",
       "titles                0\n",
       "title                 0\n",
       "title_english      3830\n",
       "title_japanese       12\n",
       "title_synonyms        0\n",
       "type                  0\n",
       "source                0\n",
       "episodes             22\n",
       "status                0\n",
       "airing                0\n",
       "aired                 0\n",
       "duration              0\n",
       "rating               10\n",
       "score                 3\n",
       "scored_by             3\n",
       "rank               1426\n",
       "popularity            0\n",
       "members               0\n",
       "favorites             0\n",
       "synopsis             72\n",
       "background         8527\n",
       "season             6310\n",
       "year               6310\n",
       "broadcast             0\n",
       "producers             0\n",
       "licensors             0\n",
       "studios               0\n",
       "genres                0\n",
       "explicit_genres       0\n",
       "themes                0\n",
       "demographics          0\n",
       "dtype: int64"
      ]
     },
     "execution_count": 35,
     "metadata": {},
     "output_type": "execute_result"
    }
   ],
   "source": [
    "df1.isna().sum()"
   ]
  },
  {
   "cell_type": "code",
   "execution_count": 36,
   "id": "afd4949f",
   "metadata": {},
   "outputs": [],
   "source": [
    "import warnings\n",
    "warnings.filterwarnings('ignore')\n"
   ]
  },
  {
   "cell_type": "code",
   "execution_count": 37,
   "id": "2c8af94b",
   "metadata": {},
   "outputs": [],
   "source": [
    "df1.dropna(subset=['synopsis','rating'],inplace=True)"
   ]
  },
  {
   "cell_type": "code",
   "execution_count": 38,
   "id": "162cf459",
   "metadata": {},
   "outputs": [],
   "source": [
    "import ast \n",
    "df1.producers = df1.producers.apply(ast.literal_eval)\n",
    "df1.images = df1.images.apply(ast.literal_eval)\n",
    "df1.trailer = df1.trailer.apply(ast.literal_eval)\n",
    "df1.titles = df1.titles.apply(ast.literal_eval)\n",
    "df1.aired = df1.aired.apply(ast.literal_eval)\n",
    "df1.broadcast = df1.broadcast.apply(ast.literal_eval)\n",
    "df1.licensors = df1.licensors.apply(ast.literal_eval)\n",
    "df1.studios = df1.studios.apply(ast.literal_eval)\n",
    "df1.genres = df1.genres.apply(ast.literal_eval)\n",
    "df1.themes = df1.themes.apply(ast.literal_eval)\n",
    "df1.demographics = df1.demographics.apply(ast.literal_eval)\n"
   ]
  },
  {
   "cell_type": "code",
   "execution_count": 39,
   "id": "403c37f6",
   "metadata": {},
   "outputs": [],
   "source": [
    "def extract_info(row):\n",
    "    # Extract producer names\n",
    "    producer_names = [producer['name'] for producer in row['producers']]\n",
    "    licensors_names = [licensor['name'] for licensor in row['licensors']]\n",
    "    studios_names = [studio['name'] for studio in row['studios']]\n",
    "    genres = [genre['name'] for genre in row['genres']]\n",
    "    themes = [theme['name'] for theme in row['themes']]\n",
    "    demographics = [dg['name'] for dg in row['demographics']]\n",
    "    \n",
    "    # Extract embed_url from trailer\n",
    "    embed_url = row['trailer']['embed_url'] if row['trailer'] else None\n",
    "    aired = row['aired']['string'] if row['aired'] else None\n",
    "    # Extract large_image_url from images\n",
    "    large_image_url = row['images']['jpg']['large_image_url'] if row['images'] else None\n",
    "    \n",
    "    return pd.Series([producer_names, licensors_names,studios_names,genres,themes,demographics,embed_url,aired, large_image_url])\n",
    "\n",
    "# Apply the function to each row of the DataFrame\n",
    "df1[['producers','licensors','studios','genres','themes','demographics','trailer','aired','image']] = df1.apply(extract_info, axis=1)\n"
   ]
  },
  {
   "cell_type": "code",
   "execution_count": 46,
   "id": "18296857",
   "metadata": {},
   "outputs": [
    {
     "data": {
      "text/plain": [
       "(10265, 38)"
      ]
     },
     "execution_count": 46,
     "metadata": {},
     "output_type": "execute_result"
    }
   ],
   "source": [
    "df1.shape"
   ]
  },
  {
   "cell_type": "code",
   "execution_count": null,
   "id": "f7ab81e8",
   "metadata": {},
   "outputs": [],
   "source": []
  },
  {
   "cell_type": "code",
   "execution_count": 47,
   "id": "5b784fad",
   "metadata": {},
   "outputs": [],
   "source": [
    "\n",
    "df1 = df1[~df1['genres'].apply(lambda x: x == [])]"
   ]
  },
  {
   "cell_type": "code",
   "execution_count": 48,
   "id": "ce6fe9e1",
   "metadata": {},
   "outputs": [
    {
     "data": {
      "text/plain": [
       "(9895, 38)"
      ]
     },
     "execution_count": 48,
     "metadata": {},
     "output_type": "execute_result"
    }
   ],
   "source": [
    "df1.shape"
   ]
  },
  {
   "cell_type": "code",
   "execution_count": 49,
   "id": "083ad4b0",
   "metadata": {},
   "outputs": [],
   "source": [
    "df1 = df1.reset_index(drop=True)"
   ]
  },
  {
   "cell_type": "code",
   "execution_count": 50,
   "id": "9b36ea8f",
   "metadata": {},
   "outputs": [],
   "source": [
    "import re\n",
    "\n",
    "pattern = r\"\\[Written by MAL Rewrite\\]|\\(.*Source:.*\\)\" \n",
    "\n",
    "# Removing the pattern using regular expressions\n",
    "df1['synopsis'] = df1['synopsis'].str.replace(pattern, '', regex=True).values\n"
   ]
  },
  {
   "cell_type": "code",
   "execution_count": 51,
   "id": "5419638b",
   "metadata": {},
   "outputs": [],
   "source": [
    "def remove_newline_numbers(text):\n",
    "    text = text.replace('\\n', ' ')\n",
    "    text = re.sub(r'\\d+', ' ', text)\n",
    "    text = re.sub(r'[^\\w\\s]', ' ', text)\n",
    "    return text.lower()"
   ]
  },
  {
   "cell_type": "code",
   "execution_count": 52,
   "id": "93fae0fe",
   "metadata": {},
   "outputs": [],
   "source": [
    "df1['synopsis_cleaned'] = df1.synopsis.apply(remove_newline_numbers)"
   ]
  },
  {
   "cell_type": "code",
   "execution_count": 53,
   "id": "52777973",
   "metadata": {},
   "outputs": [],
   "source": [
    "import spacy\n",
    "nlp = spacy.load('en_core_web_sm')\n",
    "df1['synopsis_cleaned'] = df1['synopsis_cleaned'].apply(lambda x: \" \".join([token.lemma_ for token in nlp(x) if not token.is_stop]))"
   ]
  },
  {
   "cell_type": "code",
   "execution_count": 54,
   "id": "a428bb4f",
   "metadata": {},
   "outputs": [],
   "source": [
    "rating_map = {\n",
    "    \"PG-13 - Teens 13 or older\": \"PG-13\",\n",
    "    \"R - 17+ (violence & profanity)\": \"R17\",\n",
    "    \"Rx - Hentai\": \"Rx\",\n",
    "    \"R+ - Mild Nudity\": \"R+\",\n",
    "    \"G - All Ages\": \"G\",\n",
    "    \"PG - Children\": \"PG\"\n",
    "}\n",
    "\n",
    "# Use the map to replace the values in the 'rating' column\n",
    "df1['rating'] = df1['rating'].replace(rating_map)"
   ]
  },
  {
   "cell_type": "code",
   "execution_count": 55,
   "id": "ce19f3d1",
   "metadata": {},
   "outputs": [],
   "source": [
    "df1['themes'] = df1['themes'].apply(lambda x:[\"unknown_theme\"] if x == [] else x )\n",
    "df1['demographics'] = df1['demographics'].apply(lambda x:[\"unknown_demographics\"] if x == [] else x )\n",
    "\n"
   ]
  },
  {
   "cell_type": "code",
   "execution_count": 56,
   "id": "ef926db5",
   "metadata": {},
   "outputs": [],
   "source": [
    "def get_season(x):\n",
    "    spring = [\"Mar\",\"Apr\",\"May\"]\n",
    "    summer = [\"Jun\",\"Jul\",\"Aug\"]\n",
    "    fall = [\"Sep\",\"Oct\",\"Nov\"]\n",
    "    winter = [\"Dec\",\"Jan\",\"Feb\"]\n",
    "    y = x[:3]\n",
    "    if y in spring:\n",
    "        return \"spring\"\n",
    "    elif y in winter:\n",
    "        return \"winter\"\n",
    "    elif y in fall:\n",
    "        return \"fall\"\n",
    "    elif y in summer:\n",
    "        return \"summer\""
   ]
  },
  {
   "cell_type": "code",
   "execution_count": 57,
   "id": "0f0d618f",
   "metadata": {},
   "outputs": [],
   "source": [
    "df1.season = df1.aired.apply(get_season)"
   ]
  },
  {
   "cell_type": "code",
   "execution_count": 58,
   "id": "7b3af658",
   "metadata": {},
   "outputs": [],
   "source": [
    "df1.year = df1.aired.str.split(',').str[1].str[1:5]"
   ]
  },
  {
   "cell_type": "code",
   "execution_count": 59,
   "id": "83b0e8e7",
   "metadata": {},
   "outputs": [],
   "source": [
    "def fill_na(row):\n",
    "    if pd.isna(row['year']):\n",
    "        if len(row['aired']) == 4:\n",
    "            return row['aired']\n",
    "        elif len(row['aired']) == 12:\n",
    "            return row['aired'][:4]\n",
    "        else:\n",
    "            return row['aired'][4:8]\n",
    "    else:\n",
    "        return row['year']\n",
    "\n",
    "# Apply the function to each row of the DataFrame\n",
    "df1['year'] = df1.apply(fill_na, axis=1)"
   ]
  },
  {
   "cell_type": "code",
   "execution_count": 60,
   "id": "84d5be60",
   "metadata": {},
   "outputs": [],
   "source": [
    "df1.season = df1.season.fillna(\"unknownseason\")"
   ]
  },
  {
   "cell_type": "code",
   "execution_count": 117,
   "id": "b631879e",
   "metadata": {},
   "outputs": [],
   "source": [
    "data = df1[['mal_id', 'url', 'trailer', 'title',\n",
    "       'title_english', 'type', 'source',\n",
    "       'episodes', 'status', 'aired', 'duration', 'rating', 'score',\n",
    "       'scored_by', 'rank', 'popularity', 'members', 'favorites', 'synopsis','synopsis_cleaned',\n",
    "       'background', 'season', 'year', 'producers', 'licensors',\n",
    "       'studios', 'genres', 'themes', 'demographics',\n",
    "       'image']] "
   ]
  },
  {
   "cell_type": "code",
   "execution_count": 118,
   "id": "e64e214f",
   "metadata": {},
   "outputs": [],
   "source": [
    "data['producers'] = data['producers'].apply(lambda x: ','.join(x))\n",
    "data['licensors'] = data['licensors'].apply(lambda x: ','.join(x))\n",
    "data['genres'] = data['genres'].apply(lambda x: ','.join(x))\n",
    "data['studios'] = data['studios'].apply(lambda x: ','.join(x))\n",
    "data['themes'] = data['themes'].apply(lambda x: ','.join(x))\n",
    "data['demographics'] = data['demographics'].apply(lambda x: ','.join(x))"
   ]
  },
  {
   "cell_type": "code",
   "execution_count": 119,
   "id": "3212569b",
   "metadata": {},
   "outputs": [],
   "source": [
    "data = data[~(data.genres.str.contains(\"Hentai\")|data.genres.str.contains(\"Erotica\")|data.genres.str.contains(\"Boys Love\")|data.genres.str.contains(\"Girls Love\"))]"
   ]
  },
  {
   "cell_type": "code",
   "execution_count": 120,
   "id": "6bc5fc65",
   "metadata": {},
   "outputs": [
    {
     "name": "stdout",
     "output_type": "stream",
     "text": [
      "{'Action': 3239, 'Award Winning': 192, 'Sci-Fi': 2025, 'Adventure': 2006, 'Drama': 1702, 'Mystery': 668, 'Supernatural': 899, 'Fantasy': 2435, 'Sports': 386, 'Comedy': 3501, 'Romance': 1490, 'Slice of Life': 655, 'Suspense': 276, 'Ecchi': 699, 'Gourmet': 82, 'Avant Garde': 134, 'Horror': 318}\n"
     ]
    }
   ],
   "source": [
    "# Assuming df is your DataFrame and 'genres' is your column with the genres\n",
    "genre_counts = {}\n",
    "for row in data['genres']:\n",
    "    for genre in row.split(','):\n",
    "        if genre in genre_counts:\n",
    "            genre_counts[genre] += 1\n",
    "        else:\n",
    "            genre_counts[genre] = 1\n",
    "\n",
    "print(genre_counts)"
   ]
  },
  {
   "cell_type": "code",
   "execution_count": 121,
   "id": "6d480c9c",
   "metadata": {},
   "outputs": [],
   "source": [
    "data = data[data.favorites != 0]\n"
   ]
  },
  {
   "cell_type": "code",
   "execution_count": 122,
   "id": "c8841aeb",
   "metadata": {},
   "outputs": [],
   "source": [
    "data = data.reset_index(drop=True)"
   ]
  },
  {
   "cell_type": "code",
   "execution_count": 123,
   "id": "04857148",
   "metadata": {},
   "outputs": [],
   "source": [
    "genres_df = data.genres.str.get_dummies(sep=',')\n",
    "\n",
    "studios_df = data.studios.str.get_dummies(sep=',')\n",
    "themes_df = data.themes.str.get_dummies(sep=',')\n",
    "demographics_df = data.demographics.str.get_dummies(sep=',')\n"
   ]
  },
  {
   "cell_type": "code",
   "execution_count": 124,
   "id": "6f62ebdd",
   "metadata": {},
   "outputs": [],
   "source": [
    "status_df = data.status.str.get_dummies()\n",
    "season_df = data.season.str.get_dummies()\n",
    "type_df = data.type.str.get_dummies()\n",
    "source_df = data.source.str.get_dummies()\n",
    "rating_df = data.rating.str.get_dummies()"
   ]
  },
  {
   "cell_type": "code",
   "execution_count": 219,
   "id": "86133ee1",
   "metadata": {},
   "outputs": [],
   "source": [
    "data.year = data.year.astype('int')"
   ]
  },
  {
   "cell_type": "code",
   "execution_count": 125,
   "id": "cc1ba9d6",
   "metadata": {},
   "outputs": [],
   "source": [
    "from sklearn.feature_extraction.text import TfidfVectorizer"
   ]
  },
  {
   "cell_type": "code",
   "execution_count": 126,
   "id": "6b19e8b2",
   "metadata": {},
   "outputs": [],
   "source": [
    "vectorizer = TfidfVectorizer()  # Adjust max_features as needed\n",
    "overview_matrix = vectorizer.fit_transform(data['synopsis_cleaned'])"
   ]
  },
  {
   "cell_type": "code",
   "execution_count": 127,
   "id": "bd1a65bf",
   "metadata": {},
   "outputs": [
    {
     "data": {
      "text/plain": [
       "(8282, 30104)"
      ]
     },
     "execution_count": 127,
     "metadata": {},
     "output_type": "execute_result"
    }
   ],
   "source": [
    "overview_matrix.shape"
   ]
  },
  {
   "cell_type": "code",
   "execution_count": 128,
   "id": "3d88e0d1",
   "metadata": {},
   "outputs": [],
   "source": [
    "overview_matrix = overview_matrix.toarray()\n",
    "overview_df = pd.DataFrame(overview_matrix)"
   ]
  },
  {
   "cell_type": "code",
   "execution_count": 129,
   "id": "573ae205",
   "metadata": {},
   "outputs": [
    {
     "data": {
      "text/plain": [
       "(8282, 30)"
      ]
     },
     "execution_count": 129,
     "metadata": {},
     "output_type": "execute_result"
    }
   ],
   "source": [
    "data.shape"
   ]
  },
  {
   "cell_type": "code",
   "execution_count": 130,
   "id": "80c17474",
   "metadata": {},
   "outputs": [],
   "source": [
    "from sklearn.decomposition import PCA\n",
    "num_components = 1000\n",
    "\n",
    "# Apply PCA for dimensionality reduction\n",
    "pca = PCA(n_components=num_components)\n",
    "pca_data = pca.fit_transform(overview_df)"
   ]
  },
  {
   "cell_type": "code",
   "execution_count": 131,
   "id": "6dc9065e",
   "metadata": {},
   "outputs": [],
   "source": [
    "pca_data = pd.DataFrame(pca_data)"
   ]
  },
  {
   "cell_type": "code",
   "execution_count": 132,
   "id": "62e366de",
   "metadata": {},
   "outputs": [
    {
     "data": {
      "text/plain": [
       "(8282, 1000)"
      ]
     },
     "execution_count": 132,
     "metadata": {},
     "output_type": "execute_result"
    }
   ],
   "source": [
    "pca_data.shape"
   ]
  },
  {
   "cell_type": "code",
   "execution_count": 245,
   "id": "89cd79f6",
   "metadata": {},
   "outputs": [],
   "source": [
    "combined_features = pd.concat([pca_data,source_df,type_df,genres_df,demographics_df,themes_df],axis=1)"
   ]
  },
  {
   "cell_type": "code",
   "execution_count": 246,
   "id": "d57d3f3f",
   "metadata": {},
   "outputs": [
    {
     "data": {
      "text/plain": [
       "(8282, 1100)"
      ]
     },
     "execution_count": 246,
     "metadata": {},
     "output_type": "execute_result"
    }
   ],
   "source": [
    "combined_features.shape"
   ]
  },
  {
   "cell_type": "code",
   "execution_count": 247,
   "id": "35413bcc",
   "metadata": {},
   "outputs": [],
   "source": [
    "from sklearn.metrics.pairwise import cosine_similarity\n",
    "similarity_matrix = cosine_similarity(combined_features)"
   ]
  },
  {
   "cell_type": "code",
   "execution_count": 248,
   "id": "474492ca",
   "metadata": {},
   "outputs": [],
   "source": [
    "def recommend(anime):\n",
    "    index = data[(data['title'] == anime) | (data['title_english'] == anime)].index[0]\n",
    "    distances = sorted(list(enumerate(similarity_matrix[index])),reverse=True,key= lambda x:x[1])\n",
    "    for i in distances[1:20]:\n",
    "        \n",
    "        print(data.iloc[i[0]].title,\"---\",i[1])"
   ]
  },
  {
   "cell_type": "code",
   "execution_count": 249,
   "id": "33929004",
   "metadata": {},
   "outputs": [
    {
     "data": {
      "text/plain": [
       "(8282, 8282)"
      ]
     },
     "execution_count": 249,
     "metadata": {},
     "output_type": "execute_result"
    }
   ],
   "source": [
    "similarity_matrix.shape"
   ]
  },
  {
   "cell_type": "code",
   "execution_count": 250,
   "id": "7c8779ca",
   "metadata": {},
   "outputs": [
    {
     "name": "stdout",
     "output_type": "stream",
     "text": [
      "Kimetsu no Yaiba: Katanakaji no Sato-hen --- 0.9029745973111379\n",
      "Kimetsu no Yaiba: Yuukaku-hen --- 0.8993539104236159\n",
      "Kimetsu no Yaiba: Mugen Ressha-hen --- 0.8920817240419622\n",
      "Nokemono-tachi no Yoru --- 0.8140860267253746\n",
      "Senkaiden Houshin Engi --- 0.8076703168190676\n",
      "Jujutsu Kaisen --- 0.805488671097358\n",
      "Kuroshitsuji II --- 0.7689676364706065\n",
      "Vanitas no Karte Part 2 --- 0.7655582068597917\n",
      "Orient: Awajishima Gekitou-hen --- 0.7640430319220438\n",
      "Orient --- 0.7610618337923427\n",
      "Vanitas no Karte --- 0.759925404830874\n",
      "Kuroshitsuji: Book of Circus --- 0.7599226106825091\n",
      "Sengoku Youko: Yonaoshi Kyoudai-hen --- 0.7559346361598986\n",
      "Kuroshitsuji --- 0.7529338159596949\n",
      "Kimetsu no Yaiba Movie: Mugen Ressha-hen --- 0.7519118146342139\n",
      "Ragna Crimson --- 0.737570486515731\n",
      "Chainsaw Man --- 0.7337489082872317\n",
      "Yu☆Gi☆Oh! Zexal Second --- 0.7327128184040176\n",
      "Jigokuraku --- 0.7271858415391513\n"
     ]
    }
   ],
   "source": [
    "recommend(\"Kimetsu no Yaiba\")"
   ]
  },
  {
   "cell_type": "code",
   "execution_count": 251,
   "id": "b031df18",
   "metadata": {},
   "outputs": [
    {
     "name": "stdout",
     "output_type": "stream",
     "text": [
      "Kuroko no Basket --- 0.9691568972602083\n",
      "Kuroko no Basket 3rd Season --- 0.9687037260848341\n",
      "Slam Dunk --- 0.9439673446049535\n",
      "Diamond no Ace --- 0.93550232388149\n",
      "Ahiru no Sora --- 0.934448680491423\n",
      "Diamond no Ace: Second Season --- 0.9340136132602974\n",
      "Haikyuu!! To the Top Part 2 --- 0.9302775634989314\n",
      "Diamond no Ace: Act II --- 0.9265694734604045\n",
      "Haikyuu!! Second Season --- 0.9256945364715556\n",
      "Haikyuu!! --- 0.9216046686427005\n",
      "Haikyuu!! Karasuno Koukou vs. Shiratorizawa Gakuen Koukou --- 0.9214556282627179\n",
      "Whistle! --- 0.9211156944114792\n",
      "Days (TV) --- 0.9187966364459417\n",
      "Haikyuu!! To the Top --- 0.9161523672294373\n",
      "Boukyaku Battery (TV) --- 0.9146680564328475\n",
      "Eyeshield 21 --- 0.855457549995078\n",
      "Major 2nd 2nd Season --- 0.8516103184401271\n",
      "Area no Kishi --- 0.8505417088329088\n",
      "Blue Lock --- 0.8493604356880786\n"
     ]
    }
   ],
   "source": [
    "recommend(\"Kuroko no Basket 2nd Season\")"
   ]
  },
  {
   "cell_type": "code",
   "execution_count": 252,
   "id": "f6d69082",
   "metadata": {},
   "outputs": [
    {
     "name": "stdout",
     "output_type": "stream",
     "text": [
      "Magi: Sinbad no Bouken (TV) --- 0.9452598135230995\n",
      "Nanatsu no Taizai: Mokushiroku no Yonkishi --- 0.9443174234699682\n",
      "Magi: The Labyrinth of Magic --- 0.9436854209752565\n",
      "Dragon Quest: Dai no Daibouken (TV) --- 0.9430641750624058\n",
      "Magi: The Kingdom of Magic --- 0.9374976055778587\n",
      "Fairy Tail (2014) --- 0.9346276844349698\n",
      "Bleach: Sennen Kessen-hen --- 0.933754737332413\n",
      "Bleach: Sennen Kessen-hen - Ketsubetsu-tan --- 0.9325351125259214\n",
      "Nanatsu no Taizai: Seisen no Shirushi --- 0.9319725272022331\n",
      "Nanatsu no Taizai: Imashime no Fukkatsu --- 0.9303485466587573\n",
      "Fairy Tail: Final Series --- 0.9302970043233261\n",
      "Hunter x Hunter --- 0.9298131615300326\n",
      "Hunter x Hunter (2011) --- 0.928512205875408\n",
      "Fairy Tail --- 0.9280766630761886\n",
      "Nanatsu no Taizai: Kamigami no Gekirin --- 0.9280511388452618\n",
      "Nanatsu no Taizai: Funnu no Shinpan --- 0.9244205861938114\n",
      "Dragon Quest: Dai no Daibouken (2020) --- 0.9243487350851174\n",
      "Bleach --- 0.9235907784165057\n",
      "Nanatsu no Taizai --- 0.9220673434788279\n"
     ]
    }
   ],
   "source": [
    "recommend(\"One Piece\")"
   ]
  },
  {
   "cell_type": "code",
   "execution_count": 253,
   "id": "90daead0",
   "metadata": {},
   "outputs": [],
   "source": [
    "import pickle\n",
    "pickle.dump(data,open('anime.pkl','wb'))\n",
    "pickle.dump(similarity_matrix,open('similarity.pkl','wb'))"
   ]
  },
  {
   "cell_type": "code",
   "execution_count": null,
   "id": "27a4a534",
   "metadata": {},
   "outputs": [],
   "source": []
  },
  {
   "cell_type": "code",
   "execution_count": 376,
   "id": "de333352",
   "metadata": {},
   "outputs": [],
   "source": [
    "filtered_user = filtered_user[filtered_user['Anime ID'].isin(data.mal_id)]"
   ]
  },
  {
   "cell_type": "code",
   "execution_count": 377,
   "id": "87873832",
   "metadata": {},
   "outputs": [
    {
     "data": {
      "text/plain": [
       "User ID        34960\n",
       "Username       34959\n",
       "Anime ID        8282\n",
       "Anime Title     8312\n",
       "Score             10\n",
       "dtype: int64"
      ]
     },
     "execution_count": 377,
     "metadata": {},
     "output_type": "execute_result"
    }
   ],
   "source": [
    "filtered_user.nunique()"
   ]
  },
  {
   "cell_type": "code",
   "execution_count": 378,
   "id": "9d46a5d2",
   "metadata": {},
   "outputs": [],
   "source": [
    "counts = filtered_user['User ID'].value_counts()\n",
    "filtered_user = filtered_user[filtered_user[\"User ID\"].isin(counts[counts>50].index)]"
   ]
  },
  {
   "cell_type": "code",
   "execution_count": 379,
   "id": "e44e71ba",
   "metadata": {},
   "outputs": [
    {
     "data": {
      "text/plain": [
       "User ID        16838\n",
       "Username       16837\n",
       "Anime ID        8282\n",
       "Anime Title     8312\n",
       "Score             10\n",
       "dtype: int64"
      ]
     },
     "execution_count": 379,
     "metadata": {},
     "output_type": "execute_result"
    }
   ],
   "source": [
    "filtered_user.nunique()"
   ]
  },
  {
   "cell_type": "code",
   "execution_count": 380,
   "id": "f6771a44",
   "metadata": {},
   "outputs": [],
   "source": [
    "filtered_user = filtered_user.reset_index(drop=True)"
   ]
  },
  {
   "cell_type": "code",
   "execution_count": 381,
   "id": "b5421d0d",
   "metadata": {},
   "outputs": [],
   "source": [
    "filtered_user = filtered_user.iloc[:, [0,2,3,4]]"
   ]
  },
  {
   "cell_type": "code",
   "execution_count": 382,
   "id": "2abb4647",
   "metadata": {},
   "outputs": [],
   "source": [
    "filtered_user.rename(columns={'User ID':'user_id','Anime ID':'anime_id'},inplace=True)"
   ]
  },
  {
   "cell_type": "code",
   "execution_count": 383,
   "id": "9b0cb8da",
   "metadata": {},
   "outputs": [],
   "source": [
    "\n",
    "user_ids = pd.Categorical(filtered_user[\"user_id\"])\n",
    "filtered_user[\"user_id_encoded\"] = user_ids.codes\n",
    "\n",
    "anime_ids = pd.Categorical(filtered_user[\"anime_id\"])\n",
    "filtered_user[\"anime_id_encoded\"] = anime_ids.codes"
   ]
  },
  {
   "cell_type": "code",
   "execution_count": 384,
   "id": "775f5b7e",
   "metadata": {},
   "outputs": [
    {
     "name": "stdout",
     "output_type": "stream",
     "text": [
      "<class 'numpy.int16'>\n"
     ]
    }
   ],
   "source": [
    "print(type(X_train['anime_id_encoded'][0]))"
   ]
  },
  {
   "cell_type": "code",
   "execution_count": 385,
   "id": "9a4804d5",
   "metadata": {},
   "outputs": [],
   "source": [
    "from sklearn.preprocessing import MinMaxScaler"
   ]
  },
  {
   "cell_type": "code",
   "execution_count": 386,
   "id": "fc3f94dd",
   "metadata": {},
   "outputs": [],
   "source": [
    "minmax = MinMaxScaler()\n",
    "filtered_user[\"Score_scaled\"] = minmax.fit_transform(filtered_user[[\"Score\"]])"
   ]
  },
  {
   "cell_type": "code",
   "execution_count": 387,
   "id": "70d3f15a",
   "metadata": {},
   "outputs": [
    {
     "data": {
      "text/plain": [
       "(3316985, 7)"
      ]
     },
     "execution_count": 387,
     "metadata": {},
     "output_type": "execute_result"
    }
   ],
   "source": [
    "filtered_user.shape"
   ]
  },
  {
   "cell_type": "code",
   "execution_count": 388,
   "id": "dd78f55f",
   "metadata": {},
   "outputs": [],
   "source": [
    "from sklearn.model_selection import train_test_split\n",
    "\n",
    "X_train, X_val, y_train, y_val = train_test_split(\n",
    "    filtered_user[[\"user_id_encoded\", \"anime_id_encoded\"]], filtered_user[\"Score_scaled\"], test_size=0.2, random_state=40 , shuffle=True\n",
    ")\n"
   ]
  },
  {
   "cell_type": "code",
   "execution_count": 389,
   "id": "13bdc1f8",
   "metadata": {},
   "outputs": [],
   "source": [
    "import tensorflow as tf\n",
    "from tensorflow import keras\n",
    "from tensorflow.keras import regularizers"
   ]
  },
  {
   "cell_type": "code",
   "execution_count": 452,
   "id": "83f6d8a1",
   "metadata": {},
   "outputs": [],
   "source": [
    "num_users = len(set(X_train[\"user_id_encoded\"]))  # Assuming unique user IDs\n",
    "num_animes = len(set(X_train[\"anime_id_encoded\"]))  # Assuming unique anime IDs\n",
    "embedding_dim = 32  # Adjust dimensionality as needed"
   ]
  },
  {
   "cell_type": "code",
   "execution_count": 453,
   "id": "58645f75",
   "metadata": {},
   "outputs": [
    {
     "data": {
      "text/plain": [
       "665344     0.666667\n",
       "2122242    0.555556\n",
       "3245820    0.666667\n",
       "3185269    0.444444\n",
       "578360     0.555556\n",
       "             ...   \n",
       "841010     0.666667\n",
       "1928184    0.888889\n",
       "2914311    0.555556\n",
       "1947867    0.555556\n",
       "1977670    0.444444\n",
       "Name: Score_scaled, Length: 2653588, dtype: float64"
      ]
     },
     "execution_count": 453,
     "metadata": {},
     "output_type": "execute_result"
    }
   ],
   "source": [
    "y_train"
   ]
  },
  {
   "cell_type": "code",
   "execution_count": 454,
   "id": "9852ed6b",
   "metadata": {},
   "outputs": [],
   "source": [
    "user_input = keras.layers.Input(name='user_encoded',shape=(1,))\n",
    "anime_input = keras.layers.Input(name='anime_encoded',shape=(1,))"
   ]
  },
  {
   "cell_type": "code",
   "execution_count": 455,
   "id": "a8ee6894",
   "metadata": {},
   "outputs": [],
   "source": [
    "user_embeddings = keras.layers.Embedding(num_users, embedding_dim, name='user_embedding')(user_input)\n",
    "anime_embeddings = keras.layers.Embedding(num_animes, embedding_dim,name='anime_embedding')(anime_input)"
   ]
  },
  {
   "cell_type": "code",
   "execution_count": 456,
   "id": "21cec8f2",
   "metadata": {},
   "outputs": [],
   "source": [
    "dot_product = keras.layers.Dot(name='dot_product',axes=2)([user_embeddings, anime_embeddings])\n",
    "flattened = keras.layers.Flatten()(dot_product)"
   ]
  },
  {
   "cell_type": "code",
   "execution_count": 457,
   "id": "965e0c61",
   "metadata": {},
   "outputs": [],
   "source": [
    "dense = keras.layers.Dense(64, activation='relu')(flattened)"
   ]
  },
  {
   "cell_type": "code",
   "execution_count": 458,
   "id": "b8036477",
   "metadata": {},
   "outputs": [],
   "source": [
    "output = keras.layers.Dense(1, activation=\"sigmoid\")(dense)  # Optional bias can be added before this layer"
   ]
  },
  {
   "cell_type": "code",
   "execution_count": 459,
   "id": "2b9aceed",
   "metadata": {},
   "outputs": [],
   "source": [
    "model = keras.Model(\n",
    "    inputs=[user_input, anime_input], outputs=output\n",
    ")"
   ]
  },
  {
   "cell_type": "code",
   "execution_count": 460,
   "id": "53c7d02a",
   "metadata": {},
   "outputs": [],
   "source": [
    "model.compile(\n",
    "    optimizer=\"adam\", loss=\"mse\", metrics=[\"mse\", \"mae\"]  # Add more metrics as needed\n",
    ")"
   ]
  },
  {
   "cell_type": "code",
   "execution_count": 461,
   "id": "4d7e5878",
   "metadata": {},
   "outputs": [
    {
     "name": "stdout",
     "output_type": "stream",
     "text": [
      "Model: \"model_9\"\n",
      "__________________________________________________________________________________________________\n",
      " Layer (type)                Output Shape                 Param #   Connected to                  \n",
      "==================================================================================================\n",
      " user_encoded (InputLayer)   [(None, 1)]                  0         []                            \n",
      "                                                                                                  \n",
      " anime_encoded (InputLayer)  [(None, 1)]                  0         []                            \n",
      "                                                                                                  \n",
      " user_embedding (Embedding)  (None, 1, 32)                538816    ['user_encoded[0][0]']        \n",
      "                                                                                                  \n",
      " anime_embedding (Embedding  (None, 1, 32)                265024    ['anime_encoded[0][0]']       \n",
      " )                                                                                                \n",
      "                                                                                                  \n",
      " dot_product (Dot)           (None, 1, 1)                 0         ['user_embedding[0][0]',      \n",
      "                                                                     'anime_embedding[0][0]']     \n",
      "                                                                                                  \n",
      " flatten_9 (Flatten)         (None, 1)                    0         ['dot_product[0][0]']         \n",
      "                                                                                                  \n",
      " dense_21 (Dense)            (None, 64)                   128       ['flatten_9[0][0]']           \n",
      "                                                                                                  \n",
      " dense_22 (Dense)            (None, 1)                    65        ['dense_21[0][0]']            \n",
      "                                                                                                  \n",
      "==================================================================================================\n",
      "Total params: 804033 (3.07 MB)\n",
      "Trainable params: 804033 (3.07 MB)\n",
      "Non-trainable params: 0 (0.00 Byte)\n",
      "__________________________________________________________________________________________________\n"
     ]
    }
   ],
   "source": [
    "model.summary()"
   ]
  },
  {
   "cell_type": "code",
   "execution_count": 462,
   "id": "7b55f1b1",
   "metadata": {},
   "outputs": [
    {
     "name": "stdout",
     "output_type": "stream",
     "text": [
      "Epoch 1/5\n",
      "41463/41463 [==============================] - 877s 21ms/step - loss: 0.0224 - mse: 0.0224 - mae: 0.1136 - val_loss: 0.0190 - val_mse: 0.0190 - val_mae: 0.1041\n",
      "Epoch 2/5\n",
      "41463/41463 [==============================] - 806s 19ms/step - loss: 0.0172 - mse: 0.0172 - mae: 0.0983 - val_loss: 0.0183 - val_mse: 0.0183 - val_mae: 0.1020\n",
      "Epoch 3/5\n",
      "41463/41463 [==============================] - 923s 22ms/step - loss: 0.0154 - mse: 0.0154 - mae: 0.0925 - val_loss: 0.0181 - val_mse: 0.0181 - val_mae: 0.1012\n",
      "Epoch 4/5\n",
      "41463/41463 [==============================] - 884s 21ms/step - loss: 0.0143 - mse: 0.0143 - mae: 0.0890 - val_loss: 0.0183 - val_mse: 0.0183 - val_mae: 0.1015\n",
      "Epoch 5/5\n",
      "41463/41463 [==============================] - 805s 19ms/step - loss: 0.0137 - mse: 0.0137 - mae: 0.0866 - val_loss: 0.0185 - val_mse: 0.0185 - val_mae: 0.1020\n"
     ]
    },
    {
     "data": {
      "text/plain": [
       "<keras.src.callbacks.History at 0x1afe93c23d0>"
      ]
     },
     "execution_count": 462,
     "metadata": {},
     "output_type": "execute_result"
    }
   ],
   "source": [
    "model.fit(\n",
    "    [X_train['user_id_encoded'], X_train['anime_id_encoded']],  # Separate user and anime IDs\n",
    "    y_train,\n",
    "    epochs=5,  # Adjust as needed\n",
    "    batch_size=64,  # Adjust as needed\n",
    "    validation_data=([X_val['user_id_encoded'], X_val['anime_id_encoded']], y_val),\n",
    ")\n"
   ]
  },
  {
   "cell_type": "code",
   "execution_count": 463,
   "id": "8bdac791",
   "metadata": {},
   "outputs": [
    {
     "name": "stdout",
     "output_type": "stream",
     "text": [
      "20732/20732 [==============================] - 63s 3ms/step\n"
     ]
    }
   ],
   "source": [
    "# Assume you have test data\n",
    "X_test_user = X_val['user_id_encoded']\n",
    "X_test_item = X_val['anime_id_encoded']\n",
    "\n",
    "# Make predictions\n",
    "predictions = model.predict([X_test_user, X_test_item])\n"
   ]
  },
  {
   "cell_type": "code",
   "execution_count": 464,
   "id": "9e3da010",
   "metadata": {},
   "outputs": [
    {
     "name": "stdout",
     "output_type": "stream",
     "text": [
      "2.15.0\n"
     ]
    }
   ],
   "source": [
    "print(tf.__version__)"
   ]
  },
  {
   "cell_type": "code",
   "execution_count": 465,
   "id": "d9781e53",
   "metadata": {},
   "outputs": [],
   "source": [
    "model.save('model.h5') "
   ]
  },
  {
   "cell_type": "code",
   "execution_count": 466,
   "id": "0fa9b648",
   "metadata": {},
   "outputs": [],
   "source": [
    "anime_ids = np.array(list(set(filtered_user.anime_id_encoded)))"
   ]
  },
  {
   "cell_type": "code",
   "execution_count": 467,
   "id": "38309687",
   "metadata": {},
   "outputs": [
    {
     "data": {
      "text/plain": [
       "8282"
      ]
     },
     "execution_count": 467,
     "metadata": {},
     "output_type": "execute_result"
    }
   ],
   "source": [
    "anime_size = anime_ids.shape[0]\n",
    "anime_size"
   ]
  },
  {
   "cell_type": "code",
   "execution_count": 468,
   "id": "254af613",
   "metadata": {},
   "outputs": [],
   "source": [
    "pickle.dump(filtered_user,open('user.pkl','wb'))"
   ]
  },
  {
   "cell_type": "code",
   "execution_count": 470,
   "id": "2170f4de",
   "metadata": {},
   "outputs": [],
   "source": [
    "anime_id = data[data.title == \"Naruto\"].index[0]"
   ]
  },
  {
   "cell_type": "code",
   "execution_count": 471,
   "id": "52d7796e",
   "metadata": {},
   "outputs": [],
   "source": [
    "def user_anime_recommendations(user_id,anime_id,model,similarity_matrix,filtered_user,data):\n",
    "    \n",
    "    anime_ids = np.array(list(set(filtered_user.anime_id_encoded)))\n",
    "    anime_size = anime_ids.shape[0]\n",
    "\n",
    "    user_ids = np.array([user_id]*anime_size)\n",
    "    predictions = model.predict([user_ids,anime_ids])\n",
    "    \n",
    "    p = predictions.flatten()\n",
    "    s = similarity_matrix[anime_id]\n",
    "    \n",
    "    ratings = 0.5*s + 0.5*p\n",
    "    top_anime_index = ratings.argsort()[-30:][::-1]\n",
    "    \n",
    "    watched_anime = filtered_user[filtered_user.user_id_encoded == user_id]['anime_id_encoded']\n",
    "    mask = np.isin(top_anime_index, watched_anime)\n",
    "    top_unwatched_anime_index = top_anime_index[~mask]\n",
    "    \n",
    "    recommended_animes = []\n",
    "    for i in top_unwatched_anime_index:\n",
    "        anime_data = data.iloc[i]\n",
    "        recommended_animes.append(anime_data['title'])\n",
    "        \n",
    "    return recommended_animes\n",
    "    \n",
    "    \n"
   ]
  },
  {
   "cell_type": "code",
   "execution_count": 472,
   "id": "9fda85f9",
   "metadata": {},
   "outputs": [
    {
     "name": "stdout",
     "output_type": "stream",
     "text": [
      "259/259 [==============================] - 2s 5ms/step\n"
     ]
    },
    {
     "data": {
      "text/plain": [
       "['Akane Maniax',\n",
       " 'Nekopara OVA',\n",
       " 'Kud Wafter',\n",
       " 'To Heart 2 AD',\n",
       " 'To Heart 2 Adnext',\n",
       " 'To Heart 2 AD Plus',\n",
       " 'Yahari Ore no Seishun Love Comedy wa Machigatteiru. Zoku OVA',\n",
       " 'Tenchi Muyou! Ryououki: Omatsuri Zenjitsu no Yoru!',\n",
       " 'Mikakunin de Shinkoukei: Kamoniku tte Midori-ppoi Aji ga Suru no ne.',\n",
       " 'Kidou Senshi SD Gundam no Gyakushuu',\n",
       " 'To Heart 2 OVA',\n",
       " 'FLCL',\n",
       " 'Kaleido Star: Legend of Phoenix - Layla Hamilton Monogatari',\n",
       " 'Kujibiki Unbalance',\n",
       " 'Top wo Nerae! Gunbuster',\n",
       " 'Choujikuu Seiki Orguss 02',\n",
       " 'Top wo Nerae 2! Diebuster',\n",
       " 'Dragon Half',\n",
       " 'Plastic Little',\n",
       " 'School Days: Valentine Days',\n",
       " 'True Love Story',\n",
       " 'Lime-iro Senkitan: Nankoku Yume Roman',\n",
       " 'Eromanga-sensei OVA',\n",
       " 'Photon',\n",
       " 'Ginga Ojousama Densetsu Yuna: Kanashimi no Siren',\n",
       " 'Shingeki no Kyojin: Kuinaki Sentaku',\n",
       " 'Saber Marionette J Again']"
      ]
     },
     "execution_count": 472,
     "metadata": {},
     "output_type": "execute_result"
    }
   ],
   "source": [
    "user_anime_recommendations(860,243,model,similarity_matrix,filtered_user,data)"
   ]
  },
  {
   "cell_type": "code",
   "execution_count": 473,
   "id": "82db5718",
   "metadata": {},
   "outputs": [
    {
     "name": "stdout",
     "output_type": "stream",
     "text": [
      "259/259 [==============================] - 2s 6ms/step\n"
     ]
    }
   ],
   "source": [
    "# Assume 'user_id' is 203\n",
    "user_id = 909\n",
    "\n",
    "# Create an array of the user ID repeated for each anime\n",
    "user_ids = np.array([user_id]*anime_size)\n",
    "\n",
    "# Make predictions for all animes for this user\n",
    "predictions = model.predict([user_ids, anime_ids])\n",
    "top_anime_index = predictions.flatten().argsort()[-20:][::-1]\n"
   ]
  },
  {
   "cell_type": "code",
   "execution_count": 476,
   "id": "fbfc4712",
   "metadata": {},
   "outputs": [
    {
     "data": {
      "text/plain": [
       "25      Rurouni Kenshin: Meiji Kenkaku Romantan - Tsui...\n",
       "406                                              Mushishi\n",
       "1414                                Byousoku 5 Centimeter\n",
       "1821    Galaxy Angel Music Collection: Shouen to Shien...\n",
       "2073                Kara no Kyoukai Movie 1: Fukan Fuukei\n",
       "2652     Kara no Kyoukai Movie 2: Satsujin Kousatsu (Zen)\n",
       "2653            Kara no Kyoukai Movie 3: Tsuukaku Zanryuu\n",
       "2751            Clannad: Mou Hitotsu no Sekai, Tomoyo-hen\n",
       "2825                Kara no Kyoukai Movie 4: Garan no Dou\n",
       "2826                 Kara no Kyoukai Movie 5: Mujun Rasen\n",
       "3046      Kara no Kyoukai Movie 7: Satsujin Kousatsu (Go)\n",
       "3441                           Gintama: Shiroyasha Koutan\n",
       "5242                   Mushishi Zoku Shou: Odoro no Michi\n",
       "5260    Aoki Hagane no Arpeggio: Ars Nova Movie 2 - Ca...\n",
       "5333                         Koukaku Kidoutai: Shin Movie\n",
       "5457                  Mushishi Zoku Shou: Suzu no Shizuku\n",
       "5458                                             Gintama°\n",
       "5833                                       Kimi no Na wa.\n",
       "6718     Gintama.: Shirogane no Tamashii-hen - Kouhan-sen\n",
       "7173                         Luo Xiao Hei Zhan Ji (Movie)\n",
       "Name: title, dtype: object"
      ]
     },
     "execution_count": 476,
     "metadata": {},
     "output_type": "execute_result"
    }
   ],
   "source": [
    "a = filtered_user[filtered_user.anime_id_encoded.isin(top_anime_index)][['anime_id']]\n",
    "rec_anime = a.anime_id.unique()\n",
    "data[data.mal_id.isin(rec_anime)]['title']"
   ]
  },
  {
   "cell_type": "code",
   "execution_count": 475,
   "id": "1d392d29",
   "metadata": {},
   "outputs": [
    {
     "data": {
      "text/plain": [
       "10                                                 Naruto\n",
       "231                                                Bleach\n",
       "393     Naruto Movie 1: Dai Katsugeki!! Yuki Hime Shin...\n",
       "796     Naruto Movie 2: Dai Gekitotsu! Maboroshi no Ch...\n",
       "1451                                   Naruto: Shippuuden\n",
       "1780    Naruto Movie 3: Dai Koufun! Mikazuki Jima no A...\n",
       "1983                           Naruto: Shippuuden Movie 1\n",
       "2855                  Naruto: Shippuuden Movie 2 - Kizuna\n",
       "4856    One Piece: Episode of Merry - Mou Hitori no Na...\n",
       "6060        Koutetsujou no Kabaneri Movie 2: Moeru Inochi\n",
       "Name: title, dtype: object"
      ]
     },
     "execution_count": 475,
     "metadata": {},
     "output_type": "execute_result"
    }
   ],
   "source": [
    "from sklearn.metrics.pairwise import cosine_similarity\n",
    "\n",
    "# Assume 'anime_id' is 21\n",
    "anime_id = 10\n",
    "\n",
    "# Get the embedding of the anime\n",
    "anime_embedding = model.get_layer('anime_embedding').get_weights()[0]\n",
    "target_anime_embedding = anime_embedding[anime_id]\n",
    "\n",
    "# Calculate the cosine similarity between the target anime and all animes\n",
    "similarities = cosine_similarity([target_anime_embedding], anime_embedding)\n",
    "\n",
    "# Get the indices of the top 10 similar animes\n",
    "top_10_indices = similarities[0].argsort()[-10:][::-1]\n",
    "\n",
    "# Get the IDs of the top 10 similar animes\n",
    "top_10_anime_ids = anime_ids[top_10_indices]\n",
    "\n",
    "# Now 'top_10_anime_ids' contains the IDs of the top 10 animes similar to the target anime\n",
    "a = filtered_user[filtered_user.anime_id_encoded.isin(top_10_anime_ids)][['anime_id']]\n",
    "rec_anime = a.anime_id.unique()\n",
    "data[data.mal_id.isin(rec_anime)]['title']"
   ]
  },
  {
   "cell_type": "code",
   "execution_count": 25,
   "id": "d4a74666",
   "metadata": {},
   "outputs": [
    {
     "name": "stdout",
     "output_type": "stream",
     "text": [
      "{'Suspense', 'Slice of Life', 'Adventure', 'Action', 'Gourmet', 'Romance', 'Horror', 'Drama', 'Sci-Fi', 'Ecchi', 'Erotica', 'Hentai', 'Fantasy', 'Boys Love', 'Supernatural', 'Comedy', 'Avant Garde', 'Girls Love', 'Award Winning', 'Sports', 'Mystery'}\n"
     ]
    }
   ],
   "source": [
    "# Assuming df is your DataFrame and 'genres' is your column with the genres\n",
    "genres = set()\n",
    "for row in animes['genres']:\n",
    "    genres.update(row.split(','))\n",
    "\n",
    "print(genres)\n",
    "\n"
   ]
  },
  {
   "cell_type": "code",
   "execution_count": 54,
   "id": "a2ef198d",
   "metadata": {},
   "outputs": [
    {
     "name": "stdout",
     "output_type": "stream",
     "text": [
      "{'Action': 2769, 'Award Winning': 167, 'Sci-Fi': 1650, 'Adventure': 1594, 'Drama': 1571, 'Mystery': 585, 'Supernatural': 834, 'Fantasy': 2047, 'Sports': 323, 'Comedy': 2826, 'Romance': 1332, 'Slice of Life': 472, 'Suspense': 260, 'Ecchi': 640, 'Gourmet': 65, 'Avant Garde': 58, 'Horror': 275, 'Girls Love': 85, 'Boys Love': 122, 'Hentai': 553, 'Erotica': 46}\n"
     ]
    }
   ],
   "source": [
    "# Assuming df is your DataFrame and 'genres' is your column with the genres\n",
    "genre_counts = {}\n",
    "for row in animes['genres']:\n",
    "    for genre in row.split(','):\n",
    "        if genre in genre_counts:\n",
    "            genre_counts[genre] += 1\n",
    "        else:\n",
    "            genre_counts[genre] = 1\n",
    "\n",
    "print(genre_counts)\n"
   ]
  },
  {
   "cell_type": "code",
   "execution_count": null,
   "id": "5a737bce",
   "metadata": {},
   "outputs": [],
   "source": []
  }
 ],
 "metadata": {
  "kernelspec": {
   "display_name": "Python 3 (ipykernel)",
   "language": "python",
   "name": "python3"
  },
  "language_info": {
   "codemirror_mode": {
    "name": "ipython",
    "version": 3
   },
   "file_extension": ".py",
   "mimetype": "text/x-python",
   "name": "python",
   "nbconvert_exporter": "python",
   "pygments_lexer": "ipython3",
   "version": "3.11.5"
  }
 },
 "nbformat": 4,
 "nbformat_minor": 5
}
