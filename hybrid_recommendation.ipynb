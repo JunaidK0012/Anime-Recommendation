{
 "cells": [
  {
   "cell_type": "code",
   "execution_count": 1,
   "id": "7be3f9a4",
   "metadata": {},
   "outputs": [],
   "source": [
    "import pandas as pd \n",
    "import numpy as np"
   ]
  },
  {
   "cell_type": "code",
   "execution_count": 2,
   "id": "3c071a8a",
   "metadata": {},
   "outputs": [],
   "source": [
    "pd.set_option('display.max_rows', 500)\n",
    "pd.set_option('display.max_columns', 50)"
   ]
  },
  {
   "cell_type": "code",
   "execution_count": 3,
   "id": "54534adb",
   "metadata": {},
   "outputs": [],
   "source": [
    "df = pd.read_csv('jikan_final.csv')"
   ]
  },
  {
   "cell_type": "code",
   "execution_count": 4,
   "id": "c8b86b0d",
   "metadata": {},
   "outputs": [
    {
     "data": {
      "text/plain": [
       "(26720, 36)"
      ]
     },
     "execution_count": 4,
     "metadata": {},
     "output_type": "execute_result"
    }
   ],
   "source": [
    "df.shape"
   ]
  },
  {
   "cell_type": "code",
   "execution_count": 5,
   "id": "5da7458b",
   "metadata": {},
   "outputs": [],
   "source": [
    "cf1 = pd.read_csv('anime_ratings0.csv')"
   ]
  },
  {
   "cell_type": "code",
   "execution_count": 6,
   "id": "b1a698c7",
   "metadata": {},
   "outputs": [],
   "source": [
    "cf2 = pd.read_csv('anime_ratings1.csv')"
   ]
  },
  {
   "cell_type": "code",
   "execution_count": 7,
   "id": "90481975",
   "metadata": {},
   "outputs": [],
   "source": [
    "cf3 = pd.read_csv('anime_ratings2.csv')"
   ]
  },
  {
   "cell_type": "code",
   "execution_count": 8,
   "id": "639e844b",
   "metadata": {},
   "outputs": [],
   "source": [
    "cf4 = pd.read_csv('anime_ratings3.csv')"
   ]
  },
  {
   "cell_type": "code",
   "execution_count": 63,
   "id": "215258ca",
   "metadata": {},
   "outputs": [],
   "source": [
    "user = pd.concat([cf1,cf2,cf3,cf4],axis=0)"
   ]
  },
  {
   "cell_type": "code",
   "execution_count": 64,
   "id": "d57125a0",
   "metadata": {},
   "outputs": [
    {
     "data": {
      "text/plain": [
       "(3752106, 5)"
      ]
     },
     "execution_count": 64,
     "metadata": {},
     "output_type": "execute_result"
    }
   ],
   "source": [
    "user.shape"
   ]
  },
  {
   "cell_type": "code",
   "execution_count": 65,
   "id": "4b8c9c40",
   "metadata": {},
   "outputs": [
    {
     "data": {
      "text/plain": [
       "mal_id             26564\n",
       "url                26564\n",
       "images             26364\n",
       "trailer             4920\n",
       "approved               1\n",
       "titles             26564\n",
       "title              26563\n",
       "title_english      10998\n",
       "title_japanese     25462\n",
       "title_synonyms     12463\n",
       "type                   9\n",
       "source                17\n",
       "episodes             250\n",
       "status                 3\n",
       "airing                 2\n",
       "aired              16116\n",
       "duration             333\n",
       "rating                 6\n",
       "score                559\n",
       "scored_by           8712\n",
       "rank               16055\n",
       "popularity         20364\n",
       "members            11508\n",
       "favorites           1901\n",
       "synopsis           21510\n",
       "background          2556\n",
       "season                 4\n",
       "year                  65\n",
       "broadcast            623\n",
       "producers           4701\n",
       "licensors            265\n",
       "studios             1681\n",
       "genres               962\n",
       "explicit_genres        1\n",
       "themes               948\n",
       "demographics           8\n",
       "dtype: int64"
      ]
     },
     "execution_count": 65,
     "metadata": {},
     "output_type": "execute_result"
    }
   ],
   "source": [
    "df.nunique()"
   ]
  },
  {
   "cell_type": "code",
   "execution_count": 66,
   "id": "1a4fd585",
   "metadata": {},
   "outputs": [
    {
     "data": {
      "text/plain": [
       "User ID        35141\n",
       "Username       35140\n",
       "Anime ID       14037\n",
       "Anime Title    14067\n",
       "Score             10\n",
       "dtype: int64"
      ]
     },
     "execution_count": 66,
     "metadata": {},
     "output_type": "execute_result"
    }
   ],
   "source": [
    "user.nunique()"
   ]
  },
  {
   "cell_type": "code",
   "execution_count": 13,
   "id": "117df49b",
   "metadata": {},
   "outputs": [],
   "source": [
    "df.drop_duplicates(inplace=True)"
   ]
  },
  {
   "cell_type": "code",
   "execution_count": 67,
   "id": "803f50ba",
   "metadata": {},
   "outputs": [],
   "source": [
    "user.drop_duplicates(inplace=True)"
   ]
  },
  {
   "cell_type": "code",
   "execution_count": 15,
   "id": "6b14adef",
   "metadata": {},
   "outputs": [],
   "source": [
    "counts = user['User ID'].value_counts()\n",
    "filtered_user = user[user[\"User ID\"].isin(counts[counts>100].index)]"
   ]
  },
  {
   "cell_type": "code",
   "execution_count": 74,
   "id": "fabe7320",
   "metadata": {},
   "outputs": [],
   "source": [
    "counts1 = user['Anime ID'].value_counts()\n",
    "filtered_user = user[user[\"Anime ID\"].isin(counts1[counts1>10].index)]"
   ]
  },
  {
   "cell_type": "code",
   "execution_count": 75,
   "id": "384db517",
   "metadata": {},
   "outputs": [
    {
     "data": {
      "text/plain": [
       "(3732628, 5)"
      ]
     },
     "execution_count": 75,
     "metadata": {},
     "output_type": "execute_result"
    }
   ],
   "source": [
    "filtered_user.shape"
   ]
  },
  {
   "cell_type": "code",
   "execution_count": 18,
   "id": "d47b1326",
   "metadata": {},
   "outputs": [
    {
     "data": {
      "text/plain": [
       "User ID        35138\n",
       "Username       35137\n",
       "Anime ID        8782\n",
       "Anime Title     8813\n",
       "Score             10\n",
       "dtype: int64"
      ]
     },
     "execution_count": 18,
     "metadata": {},
     "output_type": "execute_result"
    }
   ],
   "source": [
    "filtered_user.nunique()"
   ]
  },
  {
   "cell_type": "code",
   "execution_count": 19,
   "id": "0364c48d",
   "metadata": {},
   "outputs": [],
   "source": [
    "df1 = df[df['mal_id'].isin(filtered_user['Anime ID'])]"
   ]
  },
  {
   "cell_type": "code",
   "execution_count": 20,
   "id": "2c16e432",
   "metadata": {},
   "outputs": [
    {
     "data": {
      "text/plain": [
       "(8782, 36)"
      ]
     },
     "execution_count": 20,
     "metadata": {},
     "output_type": "execute_result"
    }
   ],
   "source": [
    "df1.shape"
   ]
  },
  {
   "cell_type": "code",
   "execution_count": 21,
   "id": "a65b928a",
   "metadata": {},
   "outputs": [],
   "source": [
    "df1 = df1[df1.favorites != 0]\n",
    "df1 =df1[df1.members>=3000]\n"
   ]
  },
  {
   "cell_type": "code",
   "execution_count": 22,
   "id": "9502bd2c",
   "metadata": {},
   "outputs": [
    {
     "data": {
      "text/plain": [
       "(7896, 36)"
      ]
     },
     "execution_count": 22,
     "metadata": {},
     "output_type": "execute_result"
    }
   ],
   "source": [
    "df1.shape"
   ]
  },
  {
   "cell_type": "code",
   "execution_count": 23,
   "id": "8de7acde",
   "metadata": {},
   "outputs": [
    {
     "data": {
      "text/plain": [
       "mal_id                0\n",
       "url                   0\n",
       "images                0\n",
       "trailer               0\n",
       "approved              0\n",
       "titles                0\n",
       "title                 0\n",
       "title_english      2495\n",
       "title_japanese        5\n",
       "title_synonyms        0\n",
       "type                  0\n",
       "source                0\n",
       "episodes             19\n",
       "status                0\n",
       "airing                0\n",
       "aired                 0\n",
       "duration              0\n",
       "rating                1\n",
       "score                 0\n",
       "scored_by             0\n",
       "rank                738\n",
       "popularity            0\n",
       "members               0\n",
       "favorites             0\n",
       "synopsis             28\n",
       "background         6239\n",
       "season             4272\n",
       "year               4272\n",
       "broadcast             0\n",
       "producers             0\n",
       "licensors             0\n",
       "studios               0\n",
       "genres                0\n",
       "explicit_genres       0\n",
       "themes                0\n",
       "demographics          0\n",
       "dtype: int64"
      ]
     },
     "execution_count": 23,
     "metadata": {},
     "output_type": "execute_result"
    }
   ],
   "source": [
    "df1.isna().sum()"
   ]
  },
  {
   "cell_type": "code",
   "execution_count": 24,
   "id": "41546e34",
   "metadata": {},
   "outputs": [],
   "source": [
    "df1.dropna(subset=['synopsis','rating'],inplace=True)"
   ]
  },
  {
   "cell_type": "code",
   "execution_count": 25,
   "id": "c1fdf4bc",
   "metadata": {},
   "outputs": [],
   "source": [
    "import ast \n",
    "df1.producers = df1.producers.apply(ast.literal_eval)\n",
    "df1.images = df1.images.apply(ast.literal_eval)\n",
    "df1.trailer = df1.trailer.apply(ast.literal_eval)\n",
    "df1.titles = df1.titles.apply(ast.literal_eval)\n",
    "df1.aired = df1.aired.apply(ast.literal_eval)\n",
    "df1.broadcast = df1.broadcast.apply(ast.literal_eval)\n",
    "df1.licensors = df1.licensors.apply(ast.literal_eval)\n",
    "df1.studios = df1.studios.apply(ast.literal_eval)\n",
    "df1.genres = df1.genres.apply(ast.literal_eval)\n",
    "df1.themes = df1.themes.apply(ast.literal_eval)\n",
    "df1.demographics = df1.demographics.apply(ast.literal_eval)\n"
   ]
  },
  {
   "cell_type": "code",
   "execution_count": 26,
   "id": "416fa9a9",
   "metadata": {},
   "outputs": [],
   "source": [
    "def extract_info(row):\n",
    "    # Extract producer names\n",
    "    producer_names = [producer['name'] for producer in row['producers']]\n",
    "    licensors_names = [licensor['name'] for licensor in row['licensors']]\n",
    "    studios_names = [studio['name'] for studio in row['studios']]\n",
    "    genres = [genre['name'] for genre in row['genres']]\n",
    "    themes = [theme['name'] for theme in row['themes']]\n",
    "    demographics = [dg['name'] for dg in row['demographics']]\n",
    "    \n",
    "    # Extract embed_url from trailer\n",
    "    embed_url = row['trailer']['embed_url'] if row['trailer'] else None\n",
    "    aired = row['aired']['string'] if row['aired'] else None\n",
    "    # Extract large_image_url from images\n",
    "    large_image_url = row['images']['jpg']['large_image_url'] if row['images'] else None\n",
    "    \n",
    "    return pd.Series([producer_names, licensors_names,studios_names,genres,themes,demographics,embed_url,aired, large_image_url])\n",
    "\n",
    "# Apply the function to each row of the DataFrame\n",
    "df1[['producers','licensors','studios','genres','themes','demographics','trailer','aired','image']] = df1.apply(extract_info, axis=1)\n"
   ]
  },
  {
   "cell_type": "code",
   "execution_count": 27,
   "id": "eada256b",
   "metadata": {},
   "outputs": [],
   "source": [
    "df1 = df1[~df1['studios'].apply(lambda x: x == [])]\n",
    "df1 = df1[~df1['genres'].apply(lambda x: x == [])]"
   ]
  },
  {
   "cell_type": "code",
   "execution_count": 28,
   "id": "8c04d550",
   "metadata": {},
   "outputs": [
    {
     "data": {
      "text/plain": [
       "(7550, 37)"
      ]
     },
     "execution_count": 28,
     "metadata": {},
     "output_type": "execute_result"
    }
   ],
   "source": [
    "df1.shape"
   ]
  },
  {
   "cell_type": "code",
   "execution_count": 29,
   "id": "07215be5",
   "metadata": {},
   "outputs": [],
   "source": [
    "df1 = df1.reset_index(drop=True)"
   ]
  },
  {
   "cell_type": "code",
   "execution_count": 30,
   "id": "8e3925d0",
   "metadata": {},
   "outputs": [],
   "source": [
    "import re\n",
    "\n",
    "pattern = r\"\\[Written by MAL Rewrite\\]|\\(.*Source:.*\\)\" \n",
    "\n",
    "# Removing the pattern using regular expressions\n",
    "df1['synopsis'] = df1['synopsis'].str.replace(pattern, '', regex=True).values\n"
   ]
  },
  {
   "cell_type": "code",
   "execution_count": 31,
   "id": "05dcb521",
   "metadata": {},
   "outputs": [],
   "source": [
    "def remove_newline_numbers(text):\n",
    "    text = text.replace('\\n', ' ')\n",
    "    text = re.sub(r'\\d+', ' ', text)\n",
    "    text = re.sub(r'[^\\w\\s]', ' ', text)\n",
    "    return text.lower()"
   ]
  },
  {
   "cell_type": "code",
   "execution_count": 32,
   "id": "8867fb98",
   "metadata": {},
   "outputs": [],
   "source": [
    "df1['synopsis_cleaned'] = df1.synopsis.apply(remove_newline_numbers)"
   ]
  },
  {
   "cell_type": "code",
   "execution_count": 33,
   "id": "07e7b731",
   "metadata": {},
   "outputs": [],
   "source": [
    "import spacy\n",
    "nlp = spacy.load('en_core_web_sm')\n",
    "df1['synopsis_cleaned'] = df1['synopsis_cleaned'].apply(lambda x: \" \".join([token.lemma_ for token in nlp(x) if not token.is_stop]))"
   ]
  },
  {
   "cell_type": "code",
   "execution_count": 34,
   "id": "5b375253",
   "metadata": {},
   "outputs": [],
   "source": [
    "rating_map = {\n",
    "    \"PG-13 - Teens 13 or older\": \"PG-13\",\n",
    "    \"R - 17+ (violence & profanity)\": \"R17\",\n",
    "    \"Rx - Hentai\": \"Rx\",\n",
    "    \"R+ - Mild Nudity\": \"R+\",\n",
    "    \"G - All Ages\": \"G\",\n",
    "    \"PG - Children\": \"PG\"\n",
    "}\n",
    "\n",
    "# Use the map to replace the values in the 'rating' column\n",
    "df1['rating'] = df1['rating'].replace(rating_map)"
   ]
  },
  {
   "cell_type": "code",
   "execution_count": 35,
   "id": "9811d879",
   "metadata": {},
   "outputs": [],
   "source": [
    "df1['themes'] = df1['themes'].apply(lambda x:[\"unknown_theme\"] if x == [] else x )\n",
    "df1['demographics'] = df1['demographics'].apply(lambda x:[\"unknown_demographics\"] if x == [] else x )"
   ]
  },
  {
   "cell_type": "code",
   "execution_count": 36,
   "id": "371520de",
   "metadata": {},
   "outputs": [],
   "source": [
    "def get_season(x):\n",
    "    spring = [\"Mar\",\"Apr\",\"May\"]\n",
    "    summer = [\"Jun\",\"Jul\",\"Aug\"]\n",
    "    fall = [\"Sep\",\"Oct\",\"Nov\"]\n",
    "    winter = [\"Dec\",\"Jan\",\"Feb\"]\n",
    "    y = x[:3]\n",
    "    if y in spring:\n",
    "        return \"spring\"\n",
    "    elif y in winter:\n",
    "        return \"winter\"\n",
    "    elif y in fall:\n",
    "        return \"fall\"\n",
    "    elif y in summer:\n",
    "        return \"summer\""
   ]
  },
  {
   "cell_type": "code",
   "execution_count": 37,
   "id": "ecdacf94",
   "metadata": {},
   "outputs": [],
   "source": [
    "df1.season = df1.aired.apply(get_season)"
   ]
  },
  {
   "cell_type": "code",
   "execution_count": 38,
   "id": "2924b577",
   "metadata": {},
   "outputs": [],
   "source": [
    "df1.year = df1.aired.str.split(',').str[1].str[1:5]"
   ]
  },
  {
   "cell_type": "code",
   "execution_count": 39,
   "id": "1d442b5a",
   "metadata": {},
   "outputs": [],
   "source": [
    "def fill_na(row):\n",
    "    if pd.isna(row['year']):\n",
    "        if len(row['aired']) == 4:\n",
    "            return row['aired']\n",
    "        elif len(row['aired']) == 12:\n",
    "            return row['aired'][:4]\n",
    "        else:\n",
    "            return row['aired'][4:8]\n",
    "    else:\n",
    "        return row['year']\n",
    "\n",
    "# Apply the function to each row of the DataFrame\n",
    "df1['year'] = df1.apply(fill_na, axis=1)"
   ]
  },
  {
   "cell_type": "code",
   "execution_count": 40,
   "id": "4150c934",
   "metadata": {},
   "outputs": [],
   "source": [
    "df1.season = df1.season.fillna(\"unknownseason\")"
   ]
  },
  {
   "cell_type": "code",
   "execution_count": 41,
   "id": "e9c5efc0",
   "metadata": {},
   "outputs": [],
   "source": [
    "data = df1[['mal_id', 'url', 'trailer', 'title',\n",
    "       'title_english', 'type', 'source',\n",
    "       'episodes', 'status', 'aired', 'duration', 'rating', 'score',\n",
    "       'scored_by', 'rank', 'popularity', 'members', 'favorites', 'synopsis','synopsis_cleaned',\n",
    "       'background', 'season', 'year', 'producers', 'licensors',\n",
    "       'studios', 'genres', 'themes', 'demographics',\n",
    "       'image']] "
   ]
  },
  {
   "cell_type": "code",
   "execution_count": 42,
   "id": "37cb4081",
   "metadata": {},
   "outputs": [],
   "source": [
    "def one_hot_encode(df, column):\n",
    "    # Convert list of genres to string\n",
    "    df[column] = df[column].apply(lambda x: ','.join(x))\n",
    "\n",
    "    # Apply one-hot encoding and return the result\n",
    "    return df[column].str.get_dummies(sep=',')"
   ]
  },
  {
   "cell_type": "code",
   "execution_count": 43,
   "id": "09895bb3",
   "metadata": {},
   "outputs": [
    {
     "name": "stderr",
     "output_type": "stream",
     "text": [
      "C:\\Users\\91877\\AppData\\Local\\Temp\\ipykernel_26712\\758311016.py:3: SettingWithCopyWarning: \n",
      "A value is trying to be set on a copy of a slice from a DataFrame.\n",
      "Try using .loc[row_indexer,col_indexer] = value instead\n",
      "\n",
      "See the caveats in the documentation: https://pandas.pydata.org/pandas-docs/stable/user_guide/indexing.html#returning-a-view-versus-a-copy\n",
      "  df[column] = df[column].apply(lambda x: ','.join(x))\n",
      "C:\\Users\\91877\\AppData\\Local\\Temp\\ipykernel_26712\\758311016.py:3: SettingWithCopyWarning: \n",
      "A value is trying to be set on a copy of a slice from a DataFrame.\n",
      "Try using .loc[row_indexer,col_indexer] = value instead\n",
      "\n",
      "See the caveats in the documentation: https://pandas.pydata.org/pandas-docs/stable/user_guide/indexing.html#returning-a-view-versus-a-copy\n",
      "  df[column] = df[column].apply(lambda x: ','.join(x))\n",
      "C:\\Users\\91877\\AppData\\Local\\Temp\\ipykernel_26712\\758311016.py:3: SettingWithCopyWarning: \n",
      "A value is trying to be set on a copy of a slice from a DataFrame.\n",
      "Try using .loc[row_indexer,col_indexer] = value instead\n",
      "\n",
      "See the caveats in the documentation: https://pandas.pydata.org/pandas-docs/stable/user_guide/indexing.html#returning-a-view-versus-a-copy\n",
      "  df[column] = df[column].apply(lambda x: ','.join(x))\n",
      "C:\\Users\\91877\\AppData\\Local\\Temp\\ipykernel_26712\\758311016.py:3: SettingWithCopyWarning: \n",
      "A value is trying to be set on a copy of a slice from a DataFrame.\n",
      "Try using .loc[row_indexer,col_indexer] = value instead\n",
      "\n",
      "See the caveats in the documentation: https://pandas.pydata.org/pandas-docs/stable/user_guide/indexing.html#returning-a-view-versus-a-copy\n",
      "  df[column] = df[column].apply(lambda x: ','.join(x))\n",
      "C:\\Users\\91877\\AppData\\Local\\Temp\\ipykernel_26712\\758311016.py:3: SettingWithCopyWarning: \n",
      "A value is trying to be set on a copy of a slice from a DataFrame.\n",
      "Try using .loc[row_indexer,col_indexer] = value instead\n",
      "\n",
      "See the caveats in the documentation: https://pandas.pydata.org/pandas-docs/stable/user_guide/indexing.html#returning-a-view-versus-a-copy\n",
      "  df[column] = df[column].apply(lambda x: ','.join(x))\n",
      "C:\\Users\\91877\\AppData\\Local\\Temp\\ipykernel_26712\\758311016.py:3: SettingWithCopyWarning: \n",
      "A value is trying to be set on a copy of a slice from a DataFrame.\n",
      "Try using .loc[row_indexer,col_indexer] = value instead\n",
      "\n",
      "See the caveats in the documentation: https://pandas.pydata.org/pandas-docs/stable/user_guide/indexing.html#returning-a-view-versus-a-copy\n",
      "  df[column] = df[column].apply(lambda x: ','.join(x))\n"
     ]
    }
   ],
   "source": [
    "genres_df = one_hot_encode(data, 'genres')\n",
    "producers_df = one_hot_encode(data, 'producers')\n",
    "studios_df = one_hot_encode(data, 'studios')\n",
    "themes_df = one_hot_encode(data, 'themes')\n",
    "demographics_df = one_hot_encode(data, 'demographics')\n",
    "licensors_df = one_hot_encode(data, 'licensors')"
   ]
  },
  {
   "cell_type": "code",
   "execution_count": 44,
   "id": "7179682c",
   "metadata": {},
   "outputs": [],
   "source": [
    "status_df = data.status.str.get_dummies()\n",
    "season_df = data.season.str.get_dummies()\n",
    "type_df = data.type.str.get_dummies()\n",
    "source_df = data.source.str.get_dummies()\n",
    "rating_df = data.rating.str.get_dummies()"
   ]
  },
  {
   "cell_type": "code",
   "execution_count": 45,
   "id": "913a5d70",
   "metadata": {},
   "outputs": [],
   "source": [
    "from sklearn.feature_extraction.text import TfidfVectorizer"
   ]
  },
  {
   "cell_type": "code",
   "execution_count": 46,
   "id": "6692b047",
   "metadata": {},
   "outputs": [],
   "source": [
    "vectorizer = TfidfVectorizer()  # Adjust max_features as needed\n",
    "overview_matrix = vectorizer.fit_transform(data['synopsis_cleaned'])"
   ]
  },
  {
   "cell_type": "code",
   "execution_count": 47,
   "id": "be70b565",
   "metadata": {},
   "outputs": [],
   "source": [
    "overview_matrix = overview_matrix.toarray()\n",
    "overview_df = pd.DataFrame(overview_matrix)"
   ]
  },
  {
   "cell_type": "code",
   "execution_count": 48,
   "id": "76023a1a",
   "metadata": {},
   "outputs": [],
   "source": [
    "from sklearn.decomposition import PCA\n",
    "num_components = 1000\n",
    "\n",
    "# Apply PCA for dimensionality reduction\n",
    "pca = PCA(n_components=num_components)\n",
    "pca_data = pca.fit_transform(overview_df)"
   ]
  },
  {
   "cell_type": "code",
   "execution_count": 49,
   "id": "cbd1f176",
   "metadata": {},
   "outputs": [],
   "source": [
    "pca_data = pd.DataFrame(pca_data)"
   ]
  },
  {
   "cell_type": "code",
   "execution_count": 50,
   "id": "0268987f",
   "metadata": {},
   "outputs": [],
   "source": [
    "combined_features = pd.concat([pca_data,type_df,demographics_df,genres_df,themes_df],axis=1)"
   ]
  },
  {
   "cell_type": "code",
   "execution_count": 51,
   "id": "b80d7c32",
   "metadata": {},
   "outputs": [
    {
     "data": {
      "text/plain": [
       "(7550, 1087)"
      ]
     },
     "execution_count": 51,
     "metadata": {},
     "output_type": "execute_result"
    }
   ],
   "source": [
    "combined_features.shape"
   ]
  },
  {
   "cell_type": "code",
   "execution_count": 52,
   "id": "807b773e",
   "metadata": {},
   "outputs": [],
   "source": [
    "from sklearn.metrics.pairwise import cosine_similarity\n",
    "similarity_matrix = cosine_similarity(combined_features)"
   ]
  },
  {
   "cell_type": "code",
   "execution_count": 53,
   "id": "b8f9fb90",
   "metadata": {},
   "outputs": [],
   "source": [
    "def recommend(anime):\n",
    "    index = data[(data['title'] == anime) | (data['title_english'] == anime)].index[0]\n",
    "    distances = sorted(list(enumerate(similarity_matrix[index])),reverse=True,key= lambda x:x[1])\n",
    "    for i in distances[1:10]:\n",
    "        \n",
    "        print(data.iloc[i[0]].title,\"---\",i[1])"
   ]
  },
  {
   "cell_type": "code",
   "execution_count": 54,
   "id": "ffbfcb23",
   "metadata": {},
   "outputs": [
    {
     "data": {
      "text/plain": [
       "(7550, 7550)"
      ]
     },
     "execution_count": 54,
     "metadata": {},
     "output_type": "execute_result"
    }
   ],
   "source": [
    "similarity_matrix.shape"
   ]
  },
  {
   "cell_type": "code",
   "execution_count": 568,
   "id": "5f7aa459",
   "metadata": {},
   "outputs": [
    {
     "name": "stdout",
     "output_type": "stream",
     "text": [
      "Dragon Quest: Dai no Daibouken (TV) --- 0.9365238089585742\n",
      "Magi: Sinbad no Bouken (TV) --- 0.9336259451140854\n",
      "Nanatsu no Taizai: Mokushiroku no Yonkishi --- 0.9330165727001656\n",
      "Magi: The Labyrinth of Magic --- 0.9301092023083048\n",
      "Magi: The Kingdom of Magic --- 0.924763955521359\n",
      "Dragon Quest: Yuusha Abel Densetsu --- 0.9247098696331919\n",
      "Fairy Tail (2014) --- 0.9246122119234116\n",
      "Bleach: Sennen Kessen-hen --- 0.9209406056301614\n",
      "Bleach: Sennen Kessen-hen - Ketsubetsu-tan --- 0.9199147441000843\n"
     ]
    }
   ],
   "source": [
    "recommend(\"One Piece\")"
   ]
  },
  {
   "cell_type": "code",
   "execution_count": 588,
   "id": "6623374d",
   "metadata": {},
   "outputs": [
    {
     "name": "stdout",
     "output_type": "stream",
     "text": [
      "Kuroko no Basket 3rd Season --- 0.9641560194266621\n",
      "Kuroko no Basket --- 0.9634486933100973\n",
      "Slam Dunk --- 0.9308214541475688\n",
      "Diamond no Ace --- 0.9226699201029991\n",
      "Ahiru no Sora --- 0.9199789190672889\n",
      "Diamond no Ace: Second Season --- 0.9187406350934829\n",
      "Haikyuu!! To the Top Part 2 --- 0.9152527331645482\n",
      "Haikyuu!! Second Season --- 0.9123803642692943\n",
      "Diamond no Ace: Act II --- 0.910899041470866\n"
     ]
    }
   ],
   "source": [
    "recommend(\"Kuroko no Basket 2nd Season\")"
   ]
  },
  {
   "cell_type": "code",
   "execution_count": 57,
   "id": "0179f6dd",
   "metadata": {},
   "outputs": [],
   "source": [
    "import pickle\n",
    "pickle.dump(data,open('anime.pkl','wb'))\n",
    "pickle.dump(similarity_matrix,open('similarity.pkl','wb'))"
   ]
  },
  {
   "cell_type": "code",
   "execution_count": 633,
   "id": "88482c5d",
   "metadata": {},
   "outputs": [
    {
     "data": {
      "text/html": [
       "<div>\n",
       "<style scoped>\n",
       "    .dataframe tbody tr th:only-of-type {\n",
       "        vertical-align: middle;\n",
       "    }\n",
       "\n",
       "    .dataframe tbody tr th {\n",
       "        vertical-align: top;\n",
       "    }\n",
       "\n",
       "    .dataframe thead th {\n",
       "        text-align: right;\n",
       "    }\n",
       "</style>\n",
       "<table border=\"1\" class=\"dataframe\">\n",
       "  <thead>\n",
       "    <tr style=\"text-align: right;\">\n",
       "      <th></th>\n",
       "      <th>user_id</th>\n",
       "      <th>anime_id</th>\n",
       "      <th>Anime Title</th>\n",
       "      <th>Score</th>\n",
       "      <th>user_id_encoded</th>\n",
       "      <th>anime_id_encoded</th>\n",
       "      <th>Score_scaled</th>\n",
       "    </tr>\n",
       "  </thead>\n",
       "  <tbody>\n",
       "    <tr>\n",
       "      <th>62</th>\n",
       "      <td>26721</td>\n",
       "      <td>1686</td>\n",
       "      <td>Bleach Movie 1: Memories of Nobody</td>\n",
       "      <td>9</td>\n",
       "      <td>5054</td>\n",
       "      <td>1437</td>\n",
       "      <td>0.888889</td>\n",
       "    </tr>\n",
       "    <tr>\n",
       "      <th>63</th>\n",
       "      <td>26721</td>\n",
       "      <td>4835</td>\n",
       "      <td>Bleach Movie 3: Fade to Black - Kimi no Na wo ...</td>\n",
       "      <td>9</td>\n",
       "      <td>5054</td>\n",
       "      <td>2813</td>\n",
       "      <td>0.888889</td>\n",
       "    </tr>\n",
       "    <tr>\n",
       "      <th>64</th>\n",
       "      <td>26721</td>\n",
       "      <td>762</td>\n",
       "      <td>Bleach: Memories in the Rain</td>\n",
       "      <td>8</td>\n",
       "      <td>5054</td>\n",
       "      <td>676</td>\n",
       "      <td>0.777778</td>\n",
       "    </tr>\n",
       "    <tr>\n",
       "      <th>65</th>\n",
       "      <td>26721</td>\n",
       "      <td>834</td>\n",
       "      <td>Bleach: The Sealed Sword Frenzy</td>\n",
       "      <td>9</td>\n",
       "      <td>5054</td>\n",
       "      <td>729</td>\n",
       "      <td>0.888889</td>\n",
       "    </tr>\n",
       "    <tr>\n",
       "      <th>390</th>\n",
       "      <td>26730</td>\n",
       "      <td>1686</td>\n",
       "      <td>Bleach Movie 1: Memories of Nobody</td>\n",
       "      <td>9</td>\n",
       "      <td>5056</td>\n",
       "      <td>1437</td>\n",
       "      <td>0.888889</td>\n",
       "    </tr>\n",
       "    <tr>\n",
       "      <th>...</th>\n",
       "      <td>...</td>\n",
       "      <td>...</td>\n",
       "      <td>...</td>\n",
       "      <td>...</td>\n",
       "      <td>...</td>\n",
       "      <td>...</td>\n",
       "      <td>...</td>\n",
       "    </tr>\n",
       "    <tr>\n",
       "      <th>3026861</th>\n",
       "      <td>48024</td>\n",
       "      <td>41467</td>\n",
       "      <td>Bleach: Sennen Kessen-hen</td>\n",
       "      <td>8</td>\n",
       "      <td>9612</td>\n",
       "      <td>6790</td>\n",
       "      <td>0.777778</td>\n",
       "    </tr>\n",
       "    <tr>\n",
       "      <th>3026862</th>\n",
       "      <td>48024</td>\n",
       "      <td>53998</td>\n",
       "      <td>Bleach: Sennen Kessen-hen - Ketsubetsu-tan</td>\n",
       "      <td>8</td>\n",
       "      <td>9612</td>\n",
       "      <td>7440</td>\n",
       "      <td>0.777778</td>\n",
       "    </tr>\n",
       "    <tr>\n",
       "      <th>3026863</th>\n",
       "      <td>48024</td>\n",
       "      <td>834</td>\n",
       "      <td>Bleach: The Sealed Sword Frenzy</td>\n",
       "      <td>5</td>\n",
       "      <td>9612</td>\n",
       "      <td>729</td>\n",
       "      <td>0.444444</td>\n",
       "    </tr>\n",
       "    <tr>\n",
       "      <th>3027259</th>\n",
       "      <td>48052</td>\n",
       "      <td>269</td>\n",
       "      <td>Bleach</td>\n",
       "      <td>6</td>\n",
       "      <td>9614</td>\n",
       "      <td>243</td>\n",
       "      <td>0.555556</td>\n",
       "    </tr>\n",
       "    <tr>\n",
       "      <th>3027260</th>\n",
       "      <td>48052</td>\n",
       "      <td>1686</td>\n",
       "      <td>Bleach Movie 1: Memories of Nobody</td>\n",
       "      <td>8</td>\n",
       "      <td>9614</td>\n",
       "      <td>1437</td>\n",
       "      <td>0.777778</td>\n",
       "    </tr>\n",
       "  </tbody>\n",
       "</table>\n",
       "<p>23553 rows × 7 columns</p>\n",
       "</div>"
      ],
      "text/plain": [
       "         user_id  anime_id                                        Anime Title  \\\n",
       "62         26721      1686                 Bleach Movie 1: Memories of Nobody   \n",
       "63         26721      4835  Bleach Movie 3: Fade to Black - Kimi no Na wo ...   \n",
       "64         26721       762                       Bleach: Memories in the Rain   \n",
       "65         26721       834                    Bleach: The Sealed Sword Frenzy   \n",
       "390        26730      1686                 Bleach Movie 1: Memories of Nobody   \n",
       "...          ...       ...                                                ...   \n",
       "3026861    48024     41467                          Bleach: Sennen Kessen-hen   \n",
       "3026862    48024     53998         Bleach: Sennen Kessen-hen - Ketsubetsu-tan   \n",
       "3026863    48024       834                    Bleach: The Sealed Sword Frenzy   \n",
       "3027259    48052       269                                             Bleach   \n",
       "3027260    48052      1686                 Bleach Movie 1: Memories of Nobody   \n",
       "\n",
       "         Score  user_id_encoded  anime_id_encoded  Score_scaled  \n",
       "62           9             5054              1437      0.888889  \n",
       "63           9             5054              2813      0.888889  \n",
       "64           8             5054               676      0.777778  \n",
       "65           9             5054               729      0.888889  \n",
       "390          9             5056              1437      0.888889  \n",
       "...        ...              ...               ...           ...  \n",
       "3026861      8             9612              6790      0.777778  \n",
       "3026862      8             9612              7440      0.777778  \n",
       "3026863      5             9612               729      0.444444  \n",
       "3027259      6             9614               243      0.555556  \n",
       "3027260      8             9614              1437      0.777778  \n",
       "\n",
       "[23553 rows x 7 columns]"
      ]
     },
     "execution_count": 633,
     "metadata": {},
     "output_type": "execute_result"
    }
   ],
   "source": [
    "filtered_user[filtered_user['Anime Title'].str.contains(\"Bleach\")]"
   ]
  },
  {
   "cell_type": "code",
   "execution_count": 76,
   "id": "086b872d",
   "metadata": {},
   "outputs": [],
   "source": [
    "filtered_user = filtered_user[filtered_user['Anime ID'].isin(data.mal_id)]"
   ]
  },
  {
   "cell_type": "code",
   "execution_count": 77,
   "id": "f51987d2",
   "metadata": {},
   "outputs": [
    {
     "data": {
      "text/plain": [
       "User ID        35122\n",
       "Username       35121\n",
       "Anime ID        7550\n",
       "Anime Title     7579\n",
       "Score             10\n",
       "dtype: int64"
      ]
     },
     "execution_count": 77,
     "metadata": {},
     "output_type": "execute_result"
    }
   ],
   "source": [
    "filtered_user.nunique()"
   ]
  },
  {
   "cell_type": "code",
   "execution_count": 83,
   "id": "dc0dc3b7",
   "metadata": {},
   "outputs": [],
   "source": [
    "counts = filtered_user['User ID'].value_counts()\n",
    "filtered_user = filtered_user[filtered_user[\"User ID\"].isin(counts[counts>100].index)]"
   ]
  },
  {
   "cell_type": "code",
   "execution_count": 84,
   "id": "191f2aa8",
   "metadata": {},
   "outputs": [
    {
     "data": {
      "text/plain": [
       "User ID        11858\n",
       "Username       11857\n",
       "Anime ID        7550\n",
       "Anime Title     7576\n",
       "Score             10\n",
       "dtype: int64"
      ]
     },
     "execution_count": 84,
     "metadata": {},
     "output_type": "execute_result"
    }
   ],
   "source": [
    "filtered_user.nunique()"
   ]
  },
  {
   "cell_type": "code",
   "execution_count": 86,
   "id": "d5a3349f",
   "metadata": {},
   "outputs": [],
   "source": [
    "filtered_user = filtered_user.iloc[:, [0,2,3,4]]"
   ]
  },
  {
   "cell_type": "code",
   "execution_count": 88,
   "id": "468ddfd5",
   "metadata": {},
   "outputs": [
    {
     "name": "stderr",
     "output_type": "stream",
     "text": [
      "C:\\Users\\91877\\AppData\\Local\\Temp\\ipykernel_26712\\2816907588.py:1: SettingWithCopyWarning: \n",
      "A value is trying to be set on a copy of a slice from a DataFrame\n",
      "\n",
      "See the caveats in the documentation: https://pandas.pydata.org/pandas-docs/stable/user_guide/indexing.html#returning-a-view-versus-a-copy\n",
      "  filtered_user.rename(columns={'User ID':'user_id','Anime ID':'anime_id'},inplace=True)\n"
     ]
    }
   ],
   "source": [
    "filtered_user.rename(columns={'User ID':'user_id','Anime ID':'anime_id'},inplace=True)"
   ]
  },
  {
   "cell_type": "code",
   "execution_count": 89,
   "id": "0fceeaf2",
   "metadata": {},
   "outputs": [],
   "source": [
    "user_ids = pd.Categorical(filtered_user[\"user_id\"])\n",
    "filtered_user[\"user_id_encoded\"] = user_ids.codes\n",
    "\n",
    "anime_ids = pd.Categorical(filtered_user[\"anime_id\"])\n",
    "filtered_user[\"anime_id_encoded\"] = anime_ids.codes"
   ]
  },
  {
   "cell_type": "code",
   "execution_count": 90,
   "id": "9fb355db",
   "metadata": {},
   "outputs": [],
   "source": [
    "filtered_user = filtered_user.reset_index(drop=True)"
   ]
  },
  {
   "cell_type": "code",
   "execution_count": 91,
   "id": "cb1045ab",
   "metadata": {},
   "outputs": [],
   "source": [
    "from sklearn.preprocessing import MinMaxScaler"
   ]
  },
  {
   "cell_type": "code",
   "execution_count": 92,
   "id": "2689ecaf",
   "metadata": {},
   "outputs": [],
   "source": [
    "minmax = MinMaxScaler()\n",
    "filtered_user[\"Score_scaled\"] = minmax.fit_transform(filtered_user[[\"Score\"]])"
   ]
  },
  {
   "cell_type": "code",
   "execution_count": 93,
   "id": "bd4d6a6c",
   "metadata": {},
   "outputs": [],
   "source": [
    "from sklearn.model_selection import train_test_split\n",
    "\n",
    "X_train, X_val, y_train, y_val = train_test_split(\n",
    "    filtered_user[[\"user_id_encoded\", \"anime_id_encoded\"]], filtered_user[\"Score_scaled\"], test_size=0.2, random_state=40 , shuffle=True\n",
    ")\n"
   ]
  },
  {
   "cell_type": "code",
   "execution_count": 94,
   "id": "09d9655e",
   "metadata": {},
   "outputs": [
    {
     "name": "stdout",
     "output_type": "stream",
     "text": [
      "WARNING:tensorflow:From C:\\Users\\91877\\Anaconda\\Lib\\site-packages\\keras\\src\\losses.py:2976: The name tf.losses.sparse_softmax_cross_entropy is deprecated. Please use tf.compat.v1.losses.sparse_softmax_cross_entropy instead.\n",
      "\n"
     ]
    }
   ],
   "source": [
    "import tensorflow as tf\n",
    "from tensorflow import keras"
   ]
  },
  {
   "cell_type": "code",
   "execution_count": 116,
   "id": "7fe75491",
   "metadata": {},
   "outputs": [],
   "source": [
    "num_users = len(set(X_train[\"user_id_encoded\"]))  # Assuming unique user IDs\n",
    "num_animes = len(set(X_train[\"anime_id_encoded\"]))  # Assuming unique anime IDs\n",
    "embedding_dim = 32  # Adjust dimensionality as needed"
   ]
  },
  {
   "cell_type": "code",
   "execution_count": 117,
   "id": "ef21637a",
   "metadata": {},
   "outputs": [],
   "source": [
    "user_input = keras.layers.Input(name='user_encoded',shape=(1,))\n",
    "anime_input = keras.layers.Input(name='anime_encoded',shape=(1,))"
   ]
  },
  {
   "cell_type": "code",
   "execution_count": 118,
   "id": "58eadcbc",
   "metadata": {},
   "outputs": [],
   "source": [
    "user_embeddings = keras.layers.Embedding(num_users, embedding_dim, name='user_embedding')(user_input)\n",
    "anime_embeddings = keras.layers.Embedding(num_animes, embedding_dim,name='anime_embedding')(anime_input)"
   ]
  },
  {
   "cell_type": "code",
   "execution_count": 119,
   "id": "fd643566",
   "metadata": {},
   "outputs": [],
   "source": [
    "dot_product = keras.layers.Dot(name='dot_product', normalize=True,axes=2)([user_embeddings, anime_embeddings])\n",
    "flattened = keras.layers.Flatten()(dot_product)"
   ]
  },
  {
   "cell_type": "code",
   "execution_count": 120,
   "id": "7d454e2d",
   "metadata": {},
   "outputs": [],
   "source": [
    "dense = keras.layers.Dense(64, activation='relu')(flattened)"
   ]
  },
  {
   "cell_type": "code",
   "execution_count": 121,
   "id": "8403454c",
   "metadata": {},
   "outputs": [],
   "source": [
    "output = keras.layers.Dense(1, activation=\"sigmoid\")(dense)  # Optional bias can be added before this layer"
   ]
  },
  {
   "cell_type": "code",
   "execution_count": 122,
   "id": "3e2dbe32",
   "metadata": {},
   "outputs": [],
   "source": [
    "model = keras.Model(\n",
    "    inputs=[user_input, anime_input], outputs=output\n",
    ")"
   ]
  },
  {
   "cell_type": "code",
   "execution_count": 123,
   "id": "5852a60c",
   "metadata": {},
   "outputs": [],
   "source": [
    "model.compile(\n",
    "    optimizer=\"adam\", loss=\"mse\", metrics=[\"mse\", \"mae\"]  # Add more metrics as needed\n",
    ")"
   ]
  },
  {
   "cell_type": "code",
   "execution_count": 124,
   "id": "f0eb8628",
   "metadata": {},
   "outputs": [
    {
     "name": "stdout",
     "output_type": "stream",
     "text": [
      "Model: \"model_2\"\n",
      "__________________________________________________________________________________________________\n",
      " Layer (type)                Output Shape                 Param #   Connected to                  \n",
      "==================================================================================================\n",
      " user_encoded (InputLayer)   [(None, 1)]                  0         []                            \n",
      "                                                                                                  \n",
      " anime_encoded (InputLayer)  [(None, 1)]                  0         []                            \n",
      "                                                                                                  \n",
      " user_embedding (Embedding)  (None, 1, 32)                379456    ['user_encoded[0][0]']        \n",
      "                                                                                                  \n",
      " anime_embedding (Embedding  (None, 1, 32)                241600    ['anime_encoded[0][0]']       \n",
      " )                                                                                                \n",
      "                                                                                                  \n",
      " dot_product (Dot)           (None, 1, 1)                 0         ['user_embedding[0][0]',      \n",
      "                                                                     'anime_embedding[0][0]']     \n",
      "                                                                                                  \n",
      " flatten_2 (Flatten)         (None, 1)                    0         ['dot_product[0][0]']         \n",
      "                                                                                                  \n",
      " dense_4 (Dense)             (None, 64)                   128       ['flatten_2[0][0]']           \n",
      "                                                                                                  \n",
      " dense_5 (Dense)             (None, 1)                    65        ['dense_4[0][0]']             \n",
      "                                                                                                  \n",
      "==================================================================================================\n",
      "Total params: 621249 (2.37 MB)\n",
      "Trainable params: 621249 (2.37 MB)\n",
      "Non-trainable params: 0 (0.00 Byte)\n",
      "__________________________________________________________________________________________________\n"
     ]
    }
   ],
   "source": [
    "model.summary()"
   ]
  },
  {
   "cell_type": "code",
   "execution_count": 125,
   "id": "46780f04",
   "metadata": {},
   "outputs": [
    {
     "name": "stdout",
     "output_type": "stream",
     "text": [
      "Epoch 1/10\n",
      "37843/37843 [==============================] - 541s 14ms/step - loss: 0.0307 - mse: 0.0307 - mae: 0.1363 - val_loss: 0.0246 - val_mse: 0.0246 - val_mae: 0.1196\n",
      "Epoch 2/10\n",
      "37843/37843 [==============================] - 546s 14ms/step - loss: 0.0216 - mse: 0.0216 - mae: 0.1113 - val_loss: 0.0206 - val_mse: 0.0206 - val_mae: 0.1090\n",
      "Epoch 3/10\n",
      "37843/37843 [==============================] - 550s 15ms/step - loss: 0.0184 - mse: 0.0184 - mae: 0.1022 - val_loss: 0.0196 - val_mse: 0.0196 - val_mae: 0.1062\n",
      "Epoch 4/10\n",
      "37843/37843 [==============================] - 571s 15ms/step - loss: 0.0168 - mse: 0.0168 - mae: 0.0977 - val_loss: 0.0192 - val_mse: 0.0192 - val_mae: 0.1054\n",
      "Epoch 5/10\n",
      "37843/37843 [==============================] - 581s 15ms/step - loss: 0.0159 - mse: 0.0159 - mae: 0.0948 - val_loss: 0.0191 - val_mse: 0.0191 - val_mae: 0.1047\n",
      "Epoch 6/10\n",
      "37843/37843 [==============================] - 608s 16ms/step - loss: 0.0153 - mse: 0.0153 - mae: 0.0928 - val_loss: 0.0190 - val_mse: 0.0190 - val_mae: 0.1043\n",
      "Epoch 7/10\n",
      "37843/37843 [==============================] - 534s 14ms/step - loss: 0.0148 - mse: 0.0148 - mae: 0.0913 - val_loss: 0.0190 - val_mse: 0.0190 - val_mae: 0.1044\n",
      "Epoch 8/10\n",
      "37843/37843 [==============================] - 571s 15ms/step - loss: 0.0145 - mse: 0.0145 - mae: 0.0902 - val_loss: 0.0189 - val_mse: 0.0189 - val_mae: 0.1047\n",
      "Epoch 9/10\n",
      "37843/37843 [==============================] - 508s 13ms/step - loss: 0.0142 - mse: 0.0142 - mae: 0.0892 - val_loss: 0.0190 - val_mse: 0.0190 - val_mae: 0.1048\n",
      "Epoch 10/10\n",
      "37843/37843 [==============================] - 526s 14ms/step - loss: 0.0140 - mse: 0.0140 - mae: 0.0884 - val_loss: 0.0190 - val_mse: 0.0190 - val_mae: 0.1048\n"
     ]
    },
    {
     "data": {
      "text/plain": [
       "<keras.src.callbacks.History at 0x29baf5c9950>"
      ]
     },
     "execution_count": 125,
     "metadata": {},
     "output_type": "execute_result"
    }
   ],
   "source": [
    "model.fit(\n",
    "    [X_train['user_id_encoded'], X_train['anime_id_encoded']],  # Separate user and anime IDs\n",
    "    y_train,\n",
    "    epochs=10,  # Adjust as needed\n",
    "    batch_size=64,  # Adjust as needed\n",
    "    validation_data=([X_val['user_id_encoded'], X_val['anime_id_encoded']], y_val),\n",
    ")\n"
   ]
  },
  {
   "cell_type": "code",
   "execution_count": 126,
   "id": "b437b62a",
   "metadata": {},
   "outputs": [
    {
     "name": "stdout",
     "output_type": "stream",
     "text": [
      "18922/18922 [==============================] - 51s 3ms/step\n"
     ]
    }
   ],
   "source": [
    "# Assume you have test data\n",
    "X_test_user = X_val['user_id_encoded']\n",
    "X_test_item = X_val['anime_id_encoded']\n",
    "\n",
    "# Make predictions\n",
    "predictions = model.predict([X_test_user, X_test_item])\n"
   ]
  },
  {
   "cell_type": "code",
   "execution_count": 433,
   "id": "c1b647d0",
   "metadata": {},
   "outputs": [
    {
     "name": "stderr",
     "output_type": "stream",
     "text": [
      "C:\\Users\\91877\\Anaconda\\Lib\\site-packages\\keras\\src\\engine\\training.py:3103: UserWarning: You are saving your model as an HDF5 file via `model.save()`. This file format is considered legacy. We recommend using instead the native Keras format, e.g. `model.save('my_model.keras')`.\n",
      "  saving_api.save_model(\n"
     ]
    }
   ],
   "source": [
    "model.save('model.h5') "
   ]
  },
  {
   "cell_type": "code",
   "execution_count": 130,
   "id": "38842f14",
   "metadata": {},
   "outputs": [],
   "source": [
    "anime_ids = np.array(list(set(filtered_user.anime_id_encoded)))"
   ]
  },
  {
   "cell_type": "code",
   "execution_count": 297,
   "id": "c53e5f05",
   "metadata": {},
   "outputs": [
    {
     "data": {
      "text/plain": [
       "7550"
      ]
     },
     "execution_count": 297,
     "metadata": {},
     "output_type": "execute_result"
    }
   ],
   "source": [
    "anime_size = anime_ids.shape[0]\n",
    "anime_size"
   ]
  },
  {
   "cell_type": "code",
   "execution_count": 627,
   "id": "b4c174d2",
   "metadata": {},
   "outputs": [],
   "source": [
    "def user_anime_recommendations(user_id,anime_id,model,similarity_matrix,filtered_user,data):\n",
    "    \n",
    "    anime_ids = np.array(list(set(filtered_user.anime_id_encoded)))\n",
    "    anime_size = anime_ids.shape[0]\n",
    "\n",
    "    user_ids = np.array([user_id]*anime_size)\n",
    "    predictions = model.predict([user_ids,anime_ids])\n",
    "    \n",
    "    p = predictions.flatten()\n",
    "    s = similarity_matrix[anime_id]\n",
    "    \n",
    "    ratings = 0.5*s + 0.5*p\n",
    "    top_anime_index = ratings.argsort()[-30:][::-1]\n",
    "    \n",
    "    watched_anime = filtered_user[filtered_user.user_id_encoded == user_id]['anime_id_encoded']\n",
    "    mask = np.isin(top_anime_index, watched_anime)\n",
    "    top_unwatched_anime_index = top_anime_index[~mask]\n",
    "    \n",
    "    recommended_animes = []\n",
    "    for i in top_unwatched_anime_index:\n",
    "        anime_data = data.iloc[i]\n",
    "        recommended_animes.append(anime_data['title'])\n",
    "        \n",
    "    return recommended_animes\n",
    "    \n",
    "    \n"
   ]
  },
  {
   "cell_type": "code",
   "execution_count": 634,
   "id": "84f878e1",
   "metadata": {},
   "outputs": [
    {
     "name": "stdout",
     "output_type": "stream",
     "text": [
      "236/236 [==============================] - 1s 3ms/step\n"
     ]
    },
    {
     "data": {
      "text/plain": [
       "['Hunter x Hunter (2011)',\n",
       " 'Bleach: Sennen Kessen-hen',\n",
       " 'One Piece',\n",
       " 'Hunter x Hunter',\n",
       " 'Magi: The Labyrinth of Magic',\n",
       " 'Fairy Tail',\n",
       " 'Magi: The Kingdom of Magic',\n",
       " 'Mahoujin Guruguru',\n",
       " 'Bleach: Sennen Kessen-hen - Ketsubetsu-tan',\n",
       " 'Nanatsu no Taizai: Imashime no Fukkatsu',\n",
       " 'Nanatsu no Taizai',\n",
       " 'JoJo no Kimyou na Bouken Part 4: Diamond wa Kudakenai',\n",
       " 'Dragon Quest: Dai no Daibouken (TV)',\n",
       " 'Magi: Sinbad no Bouken (TV)',\n",
       " 'Dragon Quest: Dai no Daibouken (2020)',\n",
       " 'Fairy Tail (2014)',\n",
       " 'Seirei no Moribito',\n",
       " 'Sousou no Frieren',\n",
       " 'Slayers Next',\n",
       " 'Dungeon ni Deai wo Motomeru no wa Machigatteiru Darou ka IV: Fuka Shou - Yakusai-hen',\n",
       " 'JoJo no Kimyou na Bouken Part 3: Stardust Crusaders 2nd Season',\n",
       " 'One Piece Film: Strong World',\n",
       " 'Tegamibachi Reverse',\n",
       " 'One Piece: Episode of Merry - Mou Hitori no Nakama no Monogatari',\n",
       " 'Tegamibachi',\n",
       " 'Akatsuki no Yona',\n",
       " 'Nanatsu no Taizai: Mokushiroku no Yonkishi',\n",
       " 'Tsubasa: Shunraiki']"
      ]
     },
     "execution_count": 634,
     "metadata": {},
     "output_type": "execute_result"
    }
   ],
   "source": [
    "user_anime_recommendations(860,243,model,similarity_matrix,filtered_user,data)"
   ]
  },
  {
   "cell_type": "code",
   "execution_count": 537,
   "id": "bccdadb3",
   "metadata": {},
   "outputs": [
    {
     "name": "stdout",
     "output_type": "stream",
     "text": [
      "236/236 [==============================] - 1s 3ms/step\n"
     ]
    }
   ],
   "source": [
    "# Assume 'user_id' is 203\n",
    "user_id = 9\n",
    "\n",
    "# Create an array of the user ID repeated for each anime\n",
    "user_ids = np.array([user_id]*anime_size)\n",
    "\n",
    "# Make predictions for all animes for this user\n",
    "predictions = model.predict([user_ids, anime_ids])\n"
   ]
  },
  {
   "cell_type": "code",
   "execution_count": 538,
   "id": "dbe3df97",
   "metadata": {
    "scrolled": true
   },
   "outputs": [],
   "source": [
    "watched_anime = filtered_user[filtered_user.user_id_encoded == user_id]['anime_id_encoded']\n"
   ]
  },
  {
   "cell_type": "code",
   "execution_count": 539,
   "id": "3058f37b",
   "metadata": {},
   "outputs": [],
   "source": [
    "p = predictions.flatten()"
   ]
  },
  {
   "cell_type": "code",
   "execution_count": 540,
   "id": "c0f8f9fc",
   "metadata": {},
   "outputs": [
    {
     "data": {
      "text/plain": [
       "array([0.36171201, 0.33064339, 0.47025333, ..., 0.41330431, 0.22153572,\n",
       "       0.30728343])"
      ]
     },
     "execution_count": 540,
     "metadata": {},
     "output_type": "execute_result"
    }
   ],
   "source": [
    "ratings = 0.5*p + 0.5*s\n",
    "ratings"
   ]
  },
  {
   "cell_type": "code",
   "execution_count": 541,
   "id": "cbbed8f2",
   "metadata": {},
   "outputs": [
    {
     "data": {
      "text/plain": [
       "array([3800, 2997, 4375,  475, 6631, 4922, 3695, 5005, 4586, 3987, 1696,\n",
       "       2078, 5759, 4775, 3557, 3532, 4604, 4420, 3485, 5796], dtype=int64)"
      ]
     },
     "execution_count": 541,
     "metadata": {},
     "output_type": "execute_result"
    }
   ],
   "source": [
    "ra = ratings.argsort()[-20:][::-1]\n",
    "ra"
   ]
  },
  {
   "cell_type": "code",
   "execution_count": 542,
   "id": "ec33555b",
   "metadata": {},
   "outputs": [],
   "source": [
    "\n",
    "\n",
    "\n",
    "# Find the elements of rec that are in xyz\n",
    "mask = np.isin(ra, watched_anime)\n",
    "\n",
    "# Invert the mask, to get the elements of rec that are NOT in xyz\n",
    "inverse_mask = ~mask\n",
    "\n",
    "# Index rec with this inverse mask to get the elements of rec that are not in xyz\n",
    "rec_filtered = ra[inverse_mask]\n"
   ]
  },
  {
   "cell_type": "code",
   "execution_count": 543,
   "id": "dffd17ce",
   "metadata": {},
   "outputs": [
    {
     "data": {
      "text/plain": [
       "array([3800, 2997, 4375,  475, 6631, 4922, 3695, 5005, 4586, 3987, 1696,\n",
       "       2078, 5759, 4775, 3557, 3532, 4604, 4420, 3485, 5796], dtype=int64)"
      ]
     },
     "execution_count": 543,
     "metadata": {},
     "output_type": "execute_result"
    }
   ],
   "source": [
    "rec_filtered"
   ]
  },
  {
   "cell_type": "code",
   "execution_count": 552,
   "id": "7bbe7444",
   "metadata": {},
   "outputs": [],
   "source": [
    "filtered_user1 = filtered_user.copy()\n",
    "filtered_user1.set_index('anime_id_encoded', inplace=True)\n",
    "recommended_animes = []\n",
    "for i in rec_filtered:\n",
    "    anime_data = filtered_user1.iloc[i]\n",
    "    recommended_animes.append(anime_data['Anime Title'])\n"
   ]
  },
  {
   "cell_type": "code",
   "execution_count": 553,
   "id": "1a0cd80f",
   "metadata": {},
   "outputs": [
    {
     "data": {
      "text/plain": [
       "['Juubee Ninpuuchou',\n",
       " 'Chicchana Yukitsukai Sugar',\n",
       " 'NHK ni Youkoso!',\n",
       " 'Maria-sama ga Miteru Specials',\n",
       " 'Chaos Dragon: Sekiryuu Seneki',\n",
       " 'Shugo Chara!',\n",
       " 'Kami nomi zo Shiru Sekai',\n",
       " 'Full Metal Panic!',\n",
       " 'Jujutsu Kaisen 2nd Season',\n",
       " 'Black★Rock Shooter (TV)',\n",
       " 'Steamboy',\n",
       " 'Tenchi Muyou! Ryououki 3rd Season',\n",
       " 'Detroit Metal City',\n",
       " 'Yotsunoha',\n",
       " 'D.N.Angel',\n",
       " 'Campione! Matsurowanu Kamigami to Kamigoroshi no Maou',\n",
       " 'Kimi no Na wa.',\n",
       " 'Shiki',\n",
       " 'Arcana Famiglia',\n",
       " 'Gall Force 3: Stardust War']"
      ]
     },
     "execution_count": 553,
     "metadata": {},
     "output_type": "execute_result"
    }
   ],
   "source": [
    "recommended_animes"
   ]
  },
  {
   "cell_type": "code",
   "execution_count": 431,
   "id": "36791c10",
   "metadata": {},
   "outputs": [],
   "source": [
    "# Set the index of your DataFrame to be 'anime_id_encoded'\n",
    "filtered_user1 = filtered_user.copy()\n",
    "filtered_user1.set_index('anime_id_encoded', inplace=True)\n",
    "\n",
    "# Reorder the rows of the DataFrame based on the order of 'anime_id_encoded' in 'z'\n",
    "filtered_user1 = filtered_user1.loc[rec_filtered]\n",
    "\n",
    "# Reset the index of the DataFrame\n",
    "filtered_user1.reset_index(inplace=True)"
   ]
  },
  {
   "cell_type": "code",
   "execution_count": 373,
   "id": "090df78b",
   "metadata": {},
   "outputs": [
    {
     "ename": "AttributeError",
     "evalue": "'DataFrame' object has no attribute 'anime_id_encode'",
     "output_type": "error",
     "traceback": [
      "\u001b[1;31m---------------------------------------------------------------------------\u001b[0m",
      "\u001b[1;31mAttributeError\u001b[0m                            Traceback (most recent call last)",
      "\u001b[1;32m~\\AppData\\Local\\Temp\\ipykernel_26712\\3023338640.py\u001b[0m in \u001b[0;36m?\u001b[1;34m()\u001b[0m\n\u001b[0;32m      1\u001b[0m \u001b[0ma\u001b[0m \u001b[1;33m=\u001b[0m \u001b[0mfiltered_user\u001b[0m\u001b[1;33m[\u001b[0m\u001b[0mfiltered_user\u001b[0m\u001b[1;33m.\u001b[0m\u001b[0manime_id_encoded\u001b[0m\u001b[1;33m.\u001b[0m\u001b[0misin\u001b[0m\u001b[1;33m(\u001b[0m\u001b[0mra\u001b[0m\u001b[1;33m)\u001b[0m\u001b[1;33m]\u001b[0m\u001b[1;33m[\u001b[0m\u001b[1;33m[\u001b[0m\u001b[1;34m'anime_id'\u001b[0m\u001b[1;33m,\u001b[0m\u001b[1;34m'anime_id_encoded'\u001b[0m\u001b[1;33m]\u001b[0m\u001b[1;33m]\u001b[0m\u001b[1;33m\u001b[0m\u001b[1;33m\u001b[0m\u001b[0m\n\u001b[0;32m      2\u001b[0m \u001b[0mrec\u001b[0m \u001b[1;33m=\u001b[0m \u001b[0ma\u001b[0m\u001b[1;33m[\u001b[0m\u001b[1;33m~\u001b[0m\u001b[0ma\u001b[0m\u001b[1;33m.\u001b[0m\u001b[0manime_id_encoded\u001b[0m\u001b[1;33m.\u001b[0m\u001b[0misin\u001b[0m\u001b[1;33m(\u001b[0m\u001b[0mwatched_anime\u001b[0m\u001b[1;33m)\u001b[0m\u001b[1;33m]\u001b[0m\u001b[1;33m[\u001b[0m\u001b[1;33m[\u001b[0m\u001b[1;34m'anime_id'\u001b[0m\u001b[1;33m]\u001b[0m\u001b[1;33m]\u001b[0m\u001b[1;33m\u001b[0m\u001b[1;33m\u001b[0m\u001b[0m\n\u001b[1;32m----> 3\u001b[1;33m \u001b[0mrec_anime_encode\u001b[0m \u001b[1;33m=\u001b[0m \u001b[0mrec\u001b[0m\u001b[1;33m.\u001b[0m\u001b[0manime_id_encode\u001b[0m\u001b[1;33m.\u001b[0m\u001b[0munique\u001b[0m\u001b[1;33m(\u001b[0m\u001b[1;33m)\u001b[0m\u001b[1;33m\u001b[0m\u001b[1;33m\u001b[0m\u001b[0m\n\u001b[0m\u001b[0;32m      4\u001b[0m \u001b[0mrec_anime\u001b[0m \u001b[1;33m=\u001b[0m \u001b[0mrec\u001b[0m\u001b[1;33m.\u001b[0m\u001b[0manime_id\u001b[0m\u001b[1;33m.\u001b[0m\u001b[0munique\u001b[0m\u001b[1;33m(\u001b[0m\u001b[1;33m)\u001b[0m\u001b[1;33m\u001b[0m\u001b[1;33m\u001b[0m\u001b[0m\n\u001b[0;32m      5\u001b[0m \u001b[0mdata\u001b[0m\u001b[1;33m[\u001b[0m\u001b[0mdata\u001b[0m\u001b[1;33m.\u001b[0m\u001b[0mmal_id\u001b[0m\u001b[1;33m.\u001b[0m\u001b[0misin\u001b[0m\u001b[1;33m(\u001b[0m\u001b[0mrec_anime\u001b[0m\u001b[1;33m)\u001b[0m\u001b[1;33m]\u001b[0m\u001b[1;33m[\u001b[0m\u001b[1;34m'title'\u001b[0m\u001b[1;33m]\u001b[0m\u001b[1;33m.\u001b[0m\u001b[0msort_values\u001b[0m\u001b[1;33m(\u001b[0m\u001b[0mby\u001b[0m\u001b[1;33m=\u001b[0m\u001b[0mratings\u001b[0m\u001b[1;33m[\u001b[0m\u001b[0mrec_anime_encode\u001b[0m\u001b[1;33m]\u001b[0m\u001b[1;33m)\u001b[0m\u001b[1;33m\u001b[0m\u001b[1;33m\u001b[0m\u001b[0m\n",
      "\u001b[1;32m~\\Anaconda\\Lib\\site-packages\\pandas\\core\\generic.py\u001b[0m in \u001b[0;36m?\u001b[1;34m(self, name)\u001b[0m\n\u001b[0;32m   5985\u001b[0m             \u001b[1;32mand\u001b[0m \u001b[0mname\u001b[0m \u001b[1;32mnot\u001b[0m \u001b[1;32min\u001b[0m \u001b[0mself\u001b[0m\u001b[1;33m.\u001b[0m\u001b[0m_accessors\u001b[0m\u001b[1;33m\u001b[0m\u001b[1;33m\u001b[0m\u001b[0m\n\u001b[0;32m   5986\u001b[0m             \u001b[1;32mand\u001b[0m \u001b[0mself\u001b[0m\u001b[1;33m.\u001b[0m\u001b[0m_info_axis\u001b[0m\u001b[1;33m.\u001b[0m\u001b[0m_can_hold_identifiers_and_holds_name\u001b[0m\u001b[1;33m(\u001b[0m\u001b[0mname\u001b[0m\u001b[1;33m)\u001b[0m\u001b[1;33m\u001b[0m\u001b[1;33m\u001b[0m\u001b[0m\n\u001b[0;32m   5987\u001b[0m         ):\n\u001b[0;32m   5988\u001b[0m             \u001b[1;32mreturn\u001b[0m \u001b[0mself\u001b[0m\u001b[1;33m[\u001b[0m\u001b[0mname\u001b[0m\u001b[1;33m]\u001b[0m\u001b[1;33m\u001b[0m\u001b[1;33m\u001b[0m\u001b[0m\n\u001b[1;32m-> 5989\u001b[1;33m         \u001b[1;32mreturn\u001b[0m \u001b[0mobject\u001b[0m\u001b[1;33m.\u001b[0m\u001b[0m__getattribute__\u001b[0m\u001b[1;33m(\u001b[0m\u001b[0mself\u001b[0m\u001b[1;33m,\u001b[0m \u001b[0mname\u001b[0m\u001b[1;33m)\u001b[0m\u001b[1;33m\u001b[0m\u001b[1;33m\u001b[0m\u001b[0m\n\u001b[0m",
      "\u001b[1;31mAttributeError\u001b[0m: 'DataFrame' object has no attribute 'anime_id_encode'"
     ]
    }
   ],
   "source": [
    "a = filtered_user[filtered_user.anime_id_encoded.isin(ra)][['anime_id','anime_id_encoded']]\n",
    "rec_anime = rec.anime_id.unique()\n",
    "data[data.mal_id.isin(rec_anime)]['title'].sort_values(by=ratings[rec_anime_encode])"
   ]
  },
  {
   "cell_type": "code",
   "execution_count": 536,
   "id": "5c3be19a",
   "metadata": {},
   "outputs": [],
   "source": [
    "s = similarity_matrix[3800]"
   ]
  },
  {
   "cell_type": "code",
   "execution_count": 638,
   "id": "e040d6e7",
   "metadata": {},
   "outputs": [
    {
     "data": {
      "text/plain": [
       "10                                                 Naruto\n",
       "223                                              InuYasha\n",
       "243                                                Bleach\n",
       "546     Naruto: Takigakure no Shitou - Ore ga Eiyuu Da...\n",
       "1437                   Bleach Movie 1: Memories of Nobody\n",
       "1474                                   Naruto: Shippuuden\n",
       "2732                  Naruto: Shippuuden Movie 2 - Kizuna\n",
       "2778                  Rurouni Kenshin: Special Techniques\n",
       "6090    Shingeki no Kyojin Season 2 Movie: Kakusei no ...\n",
       "6790                            Bleach: Sennen Kessen-hen\n",
       "Name: title, dtype: object"
      ]
     },
     "execution_count": 638,
     "metadata": {},
     "output_type": "execute_result"
    }
   ],
   "source": [
    "from sklearn.metrics.pairwise import cosine_similarity\n",
    "\n",
    "# Assume 'anime_id' is 21\n",
    "anime_id = 10\n",
    "\n",
    "# Get the embedding of the anime\n",
    "anime_embedding = model.get_layer('anime_embedding').get_weights()[0]\n",
    "target_anime_embedding = anime_embedding[anime_id]\n",
    "\n",
    "# Calculate the cosine similarity between the target anime and all animes\n",
    "similarities = cosine_similarity([target_anime_embedding], anime_embedding)\n",
    "\n",
    "# Get the indices of the top 10 similar animes\n",
    "top_10_indices = similarities[0].argsort()[-10:][::-1]\n",
    "\n",
    "# Get the IDs of the top 10 similar animes\n",
    "top_10_anime_ids = anime_ids[top_10_indices]\n",
    "\n",
    "# Now 'top_10_anime_ids' contains the IDs of the top 10 animes similar to the target anime\n",
    "a = filtered_user[filtered_user.anime_id_encoded.isin(top_10_anime_ids)][['anime_id']]\n",
    "rec_anime = a.anime_id.unique()\n",
    "data[data.mal_id.isin(rec_anime)]['title']"
   ]
  },
  {
   "cell_type": "code",
   "execution_count": null,
   "id": "3d878a03",
   "metadata": {},
   "outputs": [],
   "source": []
  },
  {
   "cell_type": "code",
   "execution_count": null,
   "id": "12685fd2",
   "metadata": {},
   "outputs": [],
   "source": []
  },
  {
   "cell_type": "code",
   "execution_count": null,
   "id": "dd751d57",
   "metadata": {},
   "outputs": [],
   "source": []
  }
 ],
 "metadata": {
  "kernelspec": {
   "display_name": "Python 3 (ipykernel)",
   "language": "python",
   "name": "python3"
  },
  "language_info": {
   "codemirror_mode": {
    "name": "ipython",
    "version": 3
   },
   "file_extension": ".py",
   "mimetype": "text/x-python",
   "name": "python",
   "nbconvert_exporter": "python",
   "pygments_lexer": "ipython3",
   "version": "3.11.5"
  }
 },
 "nbformat": 4,
 "nbformat_minor": 5
}
