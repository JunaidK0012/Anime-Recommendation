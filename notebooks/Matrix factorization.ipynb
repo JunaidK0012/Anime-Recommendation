{
 "cells": [
  {
   "cell_type": "code",
   "execution_count": 1,
   "id": "62f30dd1",
   "metadata": {},
   "outputs": [],
   "source": [
    "import pandas as pd \n",
    "import numpy as np"
   ]
  },
  {
   "cell_type": "code",
   "execution_count": 2,
   "id": "affd59e0",
   "metadata": {},
   "outputs": [],
   "source": [
    "pd.set_option('display.max_rows', 500)\n",
    "pd.set_option('display.max_columns', 50)"
   ]
  },
  {
   "cell_type": "code",
   "execution_count": 6,
   "id": "42404b4a",
   "metadata": {},
   "outputs": [],
   "source": [
    "user = pd.read_csv(\"data/user.csv\")"
   ]
  },
  {
   "cell_type": "code",
   "execution_count": 7,
   "id": "0fd29c09",
   "metadata": {},
   "outputs": [
    {
     "data": {
      "text/plain": [
       "User ID        35141\n",
       "Username       35140\n",
       "Anime ID       14037\n",
       "Anime Title    14067\n",
       "Score             10\n",
       "dtype: int64"
      ]
     },
     "execution_count": 7,
     "metadata": {},
     "output_type": "execute_result"
    }
   ],
   "source": [
    "user.nunique()"
   ]
  },
  {
   "cell_type": "code",
   "execution_count": 8,
   "id": "1bb5d4f9",
   "metadata": {},
   "outputs": [
    {
     "data": {
      "text/plain": [
       "(3752106, 5)"
      ]
     },
     "execution_count": 8,
     "metadata": {},
     "output_type": "execute_result"
    }
   ],
   "source": [
    "user.shape"
   ]
  },
  {
   "cell_type": "code",
   "execution_count": 10,
   "id": "fdd29a7e",
   "metadata": {},
   "outputs": [],
   "source": [
    "user.drop_duplicates(inplace=True)"
   ]
  },
  {
   "cell_type": "code",
   "execution_count": 376,
   "id": "de333352",
   "metadata": {},
   "outputs": [],
   "source": [
    "filtered_user = user[user['Anime ID'].isin(data.mal_id)]"
   ]
  },
  {
   "cell_type": "code",
   "execution_count": 378,
   "id": "9d46a5d2",
   "metadata": {},
   "outputs": [],
   "source": [
    "counts = filtered_user['User ID'].value_counts()\n",
    "filtered_user = filtered_user[filtered_user[\"User ID\"].isin(counts[counts>50].index)]"
   ]
  },
  {
   "cell_type": "code",
   "execution_count": 379,
   "id": "e44e71ba",
   "metadata": {},
   "outputs": [
    {
     "data": {
      "text/plain": [
       "User ID        16838\n",
       "Username       16837\n",
       "Anime ID        8282\n",
       "Anime Title     8312\n",
       "Score             10\n",
       "dtype: int64"
      ]
     },
     "execution_count": 379,
     "metadata": {},
     "output_type": "execute_result"
    }
   ],
   "source": [
    "filtered_user.nunique()"
   ]
  },
  {
   "cell_type": "code",
   "execution_count": 380,
   "id": "f6771a44",
   "metadata": {},
   "outputs": [],
   "source": [
    "filtered_user = filtered_user.reset_index(drop=True)"
   ]
  },
  {
   "cell_type": "code",
   "execution_count": 381,
   "id": "b5421d0d",
   "metadata": {},
   "outputs": [],
   "source": [
    "filtered_user = filtered_user.iloc[:, [0,2,3,4]]"
   ]
  },
  {
   "cell_type": "code",
   "execution_count": 382,
   "id": "2abb4647",
   "metadata": {},
   "outputs": [],
   "source": [
    "filtered_user.rename(columns={'User ID':'user_id','Anime ID':'anime_id'},inplace=True)"
   ]
  },
  {
   "cell_type": "code",
   "execution_count": 383,
   "id": "9b0cb8da",
   "metadata": {},
   "outputs": [],
   "source": [
    "user_ids = pd.Categorical(filtered_user[\"user_id\"])\n",
    "filtered_user[\"user_id_encoded\"] = user_ids.codes\n",
    "\n",
    "anime_ids = pd.Categorical(filtered_user[\"anime_id\"])\n",
    "filtered_user[\"anime_id_encoded\"] = anime_ids.codes"
   ]
  },
  {
   "cell_type": "code",
   "execution_count": 385,
   "id": "9a4804d5",
   "metadata": {},
   "outputs": [],
   "source": [
    "from sklearn.preprocessing import MinMaxScaler"
   ]
  },
  {
   "cell_type": "code",
   "execution_count": 386,
   "id": "fc3f94dd",
   "metadata": {},
   "outputs": [],
   "source": [
    "minmax = MinMaxScaler()\n",
    "filtered_user[\"Score_scaled\"] = minmax.fit_transform(filtered_user[[\"Score\"]])"
   ]
  },
  {
   "cell_type": "code",
   "execution_count": 387,
   "id": "70d3f15a",
   "metadata": {},
   "outputs": [
    {
     "data": {
      "text/plain": [
       "(3316985, 7)"
      ]
     },
     "execution_count": 387,
     "metadata": {},
     "output_type": "execute_result"
    }
   ],
   "source": [
    "filtered_user.shape"
   ]
  },
  {
   "cell_type": "code",
   "execution_count": 388,
   "id": "dd78f55f",
   "metadata": {},
   "outputs": [],
   "source": [
    "from sklearn.model_selection import train_test_split\n",
    "\n",
    "X_train, X_val, y_train, y_val = train_test_split(\n",
    "    filtered_user[[\"user_id_encoded\", \"anime_id_encoded\"]], filtered_user[\"Score_scaled\"], test_size=0.2, random_state=40 , shuffle=True\n",
    ")\n"
   ]
  },
  {
   "cell_type": "code",
   "execution_count": 389,
   "id": "13bdc1f8",
   "metadata": {},
   "outputs": [],
   "source": [
    "import tensorflow as tf\n",
    "from tensorflow import keras\n",
    "from tensorflow.keras import regularizers"
   ]
  },
  {
   "cell_type": "code",
   "execution_count": 452,
   "id": "83f6d8a1",
   "metadata": {},
   "outputs": [],
   "source": [
    "num_users = len(set(X_train[\"user_id_encoded\"]))  # Assuming unique user IDs\n",
    "num_animes = len(set(X_train[\"anime_id_encoded\"]))  # Assuming unique anime IDs\n",
    "embedding_dim = 32  # Adjust dimensionality as needed"
   ]
  },
  {
   "cell_type": "code",
   "execution_count": 453,
   "id": "58645f75",
   "metadata": {},
   "outputs": [
    {
     "data": {
      "text/plain": [
       "665344     0.666667\n",
       "2122242    0.555556\n",
       "3245820    0.666667\n",
       "3185269    0.444444\n",
       "578360     0.555556\n",
       "             ...   \n",
       "841010     0.666667\n",
       "1928184    0.888889\n",
       "2914311    0.555556\n",
       "1947867    0.555556\n",
       "1977670    0.444444\n",
       "Name: Score_scaled, Length: 2653588, dtype: float64"
      ]
     },
     "execution_count": 453,
     "metadata": {},
     "output_type": "execute_result"
    }
   ],
   "source": [
    "y_train"
   ]
  },
  {
   "cell_type": "code",
   "execution_count": 454,
   "id": "9852ed6b",
   "metadata": {},
   "outputs": [],
   "source": [
    "user_input = keras.layers.Input(name='user_encoded',shape=(1,))\n",
    "anime_input = keras.layers.Input(name='anime_encoded',shape=(1,))"
   ]
  },
  {
   "cell_type": "code",
   "execution_count": 455,
   "id": "a8ee6894",
   "metadata": {},
   "outputs": [],
   "source": [
    "user_embeddings = keras.layers.Embedding(num_users, embedding_dim, name='user_embedding')(user_input)\n",
    "anime_embeddings = keras.layers.Embedding(num_animes, embedding_dim,name='anime_embedding')(anime_input)"
   ]
  },
  {
   "cell_type": "code",
   "execution_count": 456,
   "id": "21cec8f2",
   "metadata": {},
   "outputs": [],
   "source": [
    "dot_product = keras.layers.Dot(name='dot_product',axes=2)([user_embeddings, anime_embeddings])\n",
    "flattened = keras.layers.Flatten()(dot_product)"
   ]
  },
  {
   "cell_type": "code",
   "execution_count": 457,
   "id": "965e0c61",
   "metadata": {},
   "outputs": [],
   "source": [
    "dense = keras.layers.Dense(64, activation='relu')(flattened)"
   ]
  },
  {
   "cell_type": "code",
   "execution_count": 458,
   "id": "b8036477",
   "metadata": {},
   "outputs": [],
   "source": [
    "output = keras.layers.Dense(1, activation=\"sigmoid\")(dense)  # Optional bias can be added before this layer"
   ]
  },
  {
   "cell_type": "code",
   "execution_count": 459,
   "id": "2b9aceed",
   "metadata": {},
   "outputs": [],
   "source": [
    "model = keras.Model(\n",
    "    inputs=[user_input, anime_input], outputs=output\n",
    ")"
   ]
  },
  {
   "cell_type": "code",
   "execution_count": 460,
   "id": "53c7d02a",
   "metadata": {},
   "outputs": [],
   "source": [
    "model.compile(\n",
    "    optimizer=\"adam\", loss=\"mse\", metrics=[\"mse\", \"mae\"]  # Add more metrics as needed\n",
    ")"
   ]
  },
  {
   "cell_type": "code",
   "execution_count": 461,
   "id": "4d7e5878",
   "metadata": {},
   "outputs": [
    {
     "name": "stdout",
     "output_type": "stream",
     "text": [
      "Model: \"model_9\"\n",
      "__________________________________________________________________________________________________\n",
      " Layer (type)                Output Shape                 Param #   Connected to                  \n",
      "==================================================================================================\n",
      " user_encoded (InputLayer)   [(None, 1)]                  0         []                            \n",
      "                                                                                                  \n",
      " anime_encoded (InputLayer)  [(None, 1)]                  0         []                            \n",
      "                                                                                                  \n",
      " user_embedding (Embedding)  (None, 1, 32)                538816    ['user_encoded[0][0]']        \n",
      "                                                                                                  \n",
      " anime_embedding (Embedding  (None, 1, 32)                265024    ['anime_encoded[0][0]']       \n",
      " )                                                                                                \n",
      "                                                                                                  \n",
      " dot_product (Dot)           (None, 1, 1)                 0         ['user_embedding[0][0]',      \n",
      "                                                                     'anime_embedding[0][0]']     \n",
      "                                                                                                  \n",
      " flatten_9 (Flatten)         (None, 1)                    0         ['dot_product[0][0]']         \n",
      "                                                                                                  \n",
      " dense_21 (Dense)            (None, 64)                   128       ['flatten_9[0][0]']           \n",
      "                                                                                                  \n",
      " dense_22 (Dense)            (None, 1)                    65        ['dense_21[0][0]']            \n",
      "                                                                                                  \n",
      "==================================================================================================\n",
      "Total params: 804033 (3.07 MB)\n",
      "Trainable params: 804033 (3.07 MB)\n",
      "Non-trainable params: 0 (0.00 Byte)\n",
      "__________________________________________________________________________________________________\n"
     ]
    }
   ],
   "source": [
    "model.summary()"
   ]
  },
  {
   "cell_type": "code",
   "execution_count": 462,
   "id": "7b55f1b1",
   "metadata": {},
   "outputs": [
    {
     "name": "stdout",
     "output_type": "stream",
     "text": [
      "Epoch 1/5\n",
      "41463/41463 [==============================] - 877s 21ms/step - loss: 0.0224 - mse: 0.0224 - mae: 0.1136 - val_loss: 0.0190 - val_mse: 0.0190 - val_mae: 0.1041\n",
      "Epoch 2/5\n",
      "41463/41463 [==============================] - 806s 19ms/step - loss: 0.0172 - mse: 0.0172 - mae: 0.0983 - val_loss: 0.0183 - val_mse: 0.0183 - val_mae: 0.1020\n",
      "Epoch 3/5\n",
      "41463/41463 [==============================] - 923s 22ms/step - loss: 0.0154 - mse: 0.0154 - mae: 0.0925 - val_loss: 0.0181 - val_mse: 0.0181 - val_mae: 0.1012\n",
      "Epoch 4/5\n",
      "41463/41463 [==============================] - 884s 21ms/step - loss: 0.0143 - mse: 0.0143 - mae: 0.0890 - val_loss: 0.0183 - val_mse: 0.0183 - val_mae: 0.1015\n",
      "Epoch 5/5\n",
      "41463/41463 [==============================] - 805s 19ms/step - loss: 0.0137 - mse: 0.0137 - mae: 0.0866 - val_loss: 0.0185 - val_mse: 0.0185 - val_mae: 0.1020\n"
     ]
    },
    {
     "data": {
      "text/plain": [
       "<keras.src.callbacks.History at 0x1afe93c23d0>"
      ]
     },
     "execution_count": 462,
     "metadata": {},
     "output_type": "execute_result"
    }
   ],
   "source": [
    "model.fit(\n",
    "    [X_train['user_id_encoded'], X_train['anime_id_encoded']],  # Separate user and anime IDs\n",
    "    y_train,\n",
    "    epochs=5,  # Adjust as needed\n",
    "    batch_size=64,  # Adjust as needed\n",
    "    validation_data=([X_val['user_id_encoded'], X_val['anime_id_encoded']], y_val),\n",
    ")\n"
   ]
  },
  {
   "cell_type": "code",
   "execution_count": 463,
   "id": "8bdac791",
   "metadata": {},
   "outputs": [
    {
     "name": "stdout",
     "output_type": "stream",
     "text": [
      "20732/20732 [==============================] - 63s 3ms/step\n"
     ]
    }
   ],
   "source": [
    "# Assume you have test data\n",
    "X_test_user = X_val['user_id_encoded']\n",
    "X_test_item = X_val['anime_id_encoded']\n",
    "\n",
    "# Make predictions\n",
    "predictions = model.predict([X_test_user, X_test_item])\n"
   ]
  },
  {
   "cell_type": "code",
   "execution_count": 465,
   "id": "d9781e53",
   "metadata": {},
   "outputs": [],
   "source": [
    "model.save('model.h5') "
   ]
  },
  {
   "cell_type": "code",
   "execution_count": 468,
   "id": "254af613",
   "metadata": {},
   "outputs": [],
   "source": [
    "pickle.dump(filtered_user,open('user.pkl','wb'))"
   ]
  },
  {
   "cell_type": "code",
   "execution_count": 470,
   "id": "2170f4de",
   "metadata": {},
   "outputs": [],
   "source": [
    "anime_id = data[data.title == \"Naruto\"].index[0]"
   ]
  },
  {
   "cell_type": "code",
   "execution_count": 467,
   "id": "38309687",
   "metadata": {},
   "outputs": [
    {
     "data": {
      "text/plain": [
       "8282"
      ]
     },
     "execution_count": 467,
     "metadata": {},
     "output_type": "execute_result"
    }
   ],
   "source": [
    "anime_size = anime_ids.shape[0]\n",
    "anime_size"
   ]
  },
  {
   "cell_type": "code",
   "execution_count": 466,
   "id": "0fa9b648",
   "metadata": {},
   "outputs": [],
   "source": [
    "anime_ids = np.array(list(set(filtered_user.anime_id_encoded)))"
   ]
  },
  {
   "cell_type": "code",
   "execution_count": 473,
   "id": "82db5718",
   "metadata": {},
   "outputs": [
    {
     "name": "stdout",
     "output_type": "stream",
     "text": [
      "259/259 [==============================] - 2s 6ms/step\n"
     ]
    }
   ],
   "source": [
    "# Assume 'user_id' is 203\n",
    "user_id = 909\n",
    "\n",
    "# Create an array of the user ID repeated for each anime\n",
    "user_ids = np.array([user_id]*anime_size)\n",
    "\n",
    "# Make predictions for all animes for this user\n",
    "predictions = model.predict([user_ids, anime_ids])\n",
    "top_anime_index = predictions.flatten().argsort()[-20:][::-1]\n"
   ]
  },
  {
   "cell_type": "code",
   "execution_count": 476,
   "id": "fbfc4712",
   "metadata": {},
   "outputs": [
    {
     "data": {
      "text/plain": [
       "25      Rurouni Kenshin: Meiji Kenkaku Romantan - Tsui...\n",
       "406                                              Mushishi\n",
       "1414                                Byousoku 5 Centimeter\n",
       "1821    Galaxy Angel Music Collection: Shouen to Shien...\n",
       "2073                Kara no Kyoukai Movie 1: Fukan Fuukei\n",
       "2652     Kara no Kyoukai Movie 2: Satsujin Kousatsu (Zen)\n",
       "2653            Kara no Kyoukai Movie 3: Tsuukaku Zanryuu\n",
       "2751            Clannad: Mou Hitotsu no Sekai, Tomoyo-hen\n",
       "2825                Kara no Kyoukai Movie 4: Garan no Dou\n",
       "2826                 Kara no Kyoukai Movie 5: Mujun Rasen\n",
       "3046      Kara no Kyoukai Movie 7: Satsujin Kousatsu (Go)\n",
       "3441                           Gintama: Shiroyasha Koutan\n",
       "5242                   Mushishi Zoku Shou: Odoro no Michi\n",
       "5260    Aoki Hagane no Arpeggio: Ars Nova Movie 2 - Ca...\n",
       "5333                         Koukaku Kidoutai: Shin Movie\n",
       "5457                  Mushishi Zoku Shou: Suzu no Shizuku\n",
       "5458                                             Gintama°\n",
       "5833                                       Kimi no Na wa.\n",
       "6718     Gintama.: Shirogane no Tamashii-hen - Kouhan-sen\n",
       "7173                         Luo Xiao Hei Zhan Ji (Movie)\n",
       "Name: title, dtype: object"
      ]
     },
     "execution_count": 476,
     "metadata": {},
     "output_type": "execute_result"
    }
   ],
   "source": [
    "a = filtered_user[filtered_user.anime_id_encoded.isin(top_anime_index)][['anime_id']]\n",
    "rec_anime = a.anime_id.unique()\n",
    "data[data.mal_id.isin(rec_anime)]['title']"
   ]
  },
  {
   "cell_type": "code",
   "execution_count": 475,
   "id": "1d392d29",
   "metadata": {},
   "outputs": [
    {
     "data": {
      "text/plain": [
       "10                                                 Naruto\n",
       "231                                                Bleach\n",
       "393     Naruto Movie 1: Dai Katsugeki!! Yuki Hime Shin...\n",
       "796     Naruto Movie 2: Dai Gekitotsu! Maboroshi no Ch...\n",
       "1451                                   Naruto: Shippuuden\n",
       "1780    Naruto Movie 3: Dai Koufun! Mikazuki Jima no A...\n",
       "1983                           Naruto: Shippuuden Movie 1\n",
       "2855                  Naruto: Shippuuden Movie 2 - Kizuna\n",
       "4856    One Piece: Episode of Merry - Mou Hitori no Na...\n",
       "6060        Koutetsujou no Kabaneri Movie 2: Moeru Inochi\n",
       "Name: title, dtype: object"
      ]
     },
     "execution_count": 475,
     "metadata": {},
     "output_type": "execute_result"
    }
   ],
   "source": [
    "from sklearn.metrics.pairwise import cosine_similarity\n",
    "\n",
    "# Assume 'anime_id' is 21\n",
    "anime_id = 10\n",
    "\n",
    "# Get the embedding of the anime\n",
    "anime_embedding = model.get_layer('anime_embedding').get_weights()[0]\n",
    "target_anime_embedding = anime_embedding[anime_id]\n",
    "\n",
    "# Calculate the cosine similarity between the target anime and all animes\n",
    "similarities = cosine_similarity([target_anime_embedding], anime_embedding)\n",
    "\n",
    "# Get the indices of the top 10 similar animes\n",
    "top_10_indices = similarities[0].argsort()[-10:][::-1]\n",
    "\n",
    "# Get the IDs of the top 10 similar animes\n",
    "top_10_anime_ids = anime_ids[top_10_indices]\n",
    "\n",
    "# Now 'top_10_anime_ids' contains the IDs of the top 10 animes similar to the target anime\n",
    "a = filtered_user[filtered_user.anime_id_encoded.isin(top_10_anime_ids)][['anime_id']]\n",
    "rec_anime = a.anime_id.unique()\n",
    "data[data.mal_id.isin(rec_anime)]['title']"
   ]
  },
  {
   "cell_type": "code",
   "execution_count": null,
   "id": "5a737bce",
   "metadata": {},
   "outputs": [],
   "source": []
  }
 ],
 "metadata": {
  "kernelspec": {
   "display_name": "Python 3 (ipykernel)",
   "language": "python",
   "name": "python3"
  },
  "language_info": {
   "codemirror_mode": {
    "name": "ipython",
    "version": 3
   },
   "file_extension": ".py",
   "mimetype": "text/x-python",
   "name": "python",
   "nbconvert_exporter": "python",
   "pygments_lexer": "ipython3",
   "version": "3.11.5"
  }
 },
 "nbformat": 4,
 "nbformat_minor": 5
}
