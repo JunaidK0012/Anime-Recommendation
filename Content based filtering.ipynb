{
 "cells": [
  {
   "cell_type": "code",
   "execution_count": 1,
   "id": "62f30dd1",
   "metadata": {},
   "outputs": [],
   "source": [
    "import pandas as pd \n",
    "import numpy as np"
   ]
  },
  {
   "cell_type": "code",
   "execution_count": 18,
   "id": "afd4949f",
   "metadata": {},
   "outputs": [],
   "source": [
    "import warnings\n",
    "warnings.filterwarnings('ignore')"
   ]
  },
  {
   "cell_type": "code",
   "execution_count": 2,
   "id": "affd59e0",
   "metadata": {},
   "outputs": [],
   "source": [
    "pd.set_option('display.max_rows', 500)\n",
    "pd.set_option('display.max_columns', 50)"
   ]
  },
  {
   "cell_type": "markdown",
   "id": "f3ce3c00",
   "metadata": {},
   "source": [
    "**Reading the data**"
   ]
  },
  {
   "cell_type": "code",
   "execution_count": 3,
   "id": "e55d7169",
   "metadata": {},
   "outputs": [],
   "source": [
    "df = pd.read_csv('data/jikan_final.csv')"
   ]
  },
  {
   "cell_type": "code",
   "execution_count": 4,
   "id": "f304f098",
   "metadata": {},
   "outputs": [
    {
     "data": {
      "text/plain": [
       "(26720, 36)"
      ]
     },
     "execution_count": 4,
     "metadata": {},
     "output_type": "execute_result"
    }
   ],
   "source": [
    "df.shape"
   ]
  },
  {
   "cell_type": "code",
   "execution_count": 5,
   "id": "f1cb6966",
   "metadata": {},
   "outputs": [
    {
     "data": {
      "text/plain": [
       "mal_id             26564\n",
       "url                26564\n",
       "images             26364\n",
       "trailer             4920\n",
       "approved               1\n",
       "titles             26564\n",
       "title              26563\n",
       "title_english      10998\n",
       "title_japanese     25462\n",
       "title_synonyms     12463\n",
       "type                   9\n",
       "source                17\n",
       "episodes             250\n",
       "status                 3\n",
       "airing                 2\n",
       "aired              16116\n",
       "duration             333\n",
       "rating                 6\n",
       "score                559\n",
       "scored_by           8712\n",
       "rank               16055\n",
       "popularity         20364\n",
       "members            11508\n",
       "favorites           1901\n",
       "synopsis           21510\n",
       "background          2556\n",
       "season                 4\n",
       "year                  65\n",
       "broadcast            623\n",
       "producers           4701\n",
       "licensors            265\n",
       "studios             1681\n",
       "genres               962\n",
       "explicit_genres        1\n",
       "themes               948\n",
       "demographics           8\n",
       "dtype: int64"
      ]
     },
     "execution_count": 5,
     "metadata": {},
     "output_type": "execute_result"
    }
   ],
   "source": [
    "df.nunique()"
   ]
  },
  {
   "cell_type": "code",
   "execution_count": 6,
   "id": "42404b4a",
   "metadata": {},
   "outputs": [],
   "source": [
    "user = pd.read_csv(\"data/user.csv\")"
   ]
  },
  {
   "cell_type": "code",
   "execution_count": 7,
   "id": "0fd29c09",
   "metadata": {},
   "outputs": [
    {
     "data": {
      "text/plain": [
       "User ID        35141\n",
       "Username       35140\n",
       "Anime ID       14037\n",
       "Anime Title    14067\n",
       "Score             10\n",
       "dtype: int64"
      ]
     },
     "execution_count": 7,
     "metadata": {},
     "output_type": "execute_result"
    }
   ],
   "source": [
    "user.nunique()"
   ]
  },
  {
   "cell_type": "code",
   "execution_count": 8,
   "id": "1bb5d4f9",
   "metadata": {},
   "outputs": [
    {
     "data": {
      "text/plain": [
       "(3752106, 5)"
      ]
     },
     "execution_count": 8,
     "metadata": {},
     "output_type": "execute_result"
    }
   ],
   "source": [
    "user.shape"
   ]
  },
  {
   "cell_type": "code",
   "execution_count": 9,
   "id": "16a50c82",
   "metadata": {},
   "outputs": [],
   "source": [
    "df.drop_duplicates(inplace=True)"
   ]
  },
  {
   "cell_type": "code",
   "execution_count": 10,
   "id": "fdd29a7e",
   "metadata": {},
   "outputs": [],
   "source": [
    "user.drop_duplicates(inplace=True)"
   ]
  },
  {
   "cell_type": "code",
   "execution_count": 11,
   "id": "743edc56",
   "metadata": {},
   "outputs": [],
   "source": [
    "counts1 = user['Anime ID'].value_counts()\n",
    "filtered_user = user[user[\"Anime ID\"].isin(counts1[counts1>=5].index)]"
   ]
  },
  {
   "cell_type": "code",
   "execution_count": 12,
   "id": "423c184e",
   "metadata": {},
   "outputs": [
    {
     "data": {
      "text/plain": [
       "(3743711, 5)"
      ]
     },
     "execution_count": 12,
     "metadata": {},
     "output_type": "execute_result"
    }
   ],
   "source": [
    "filtered_user.shape"
   ]
  },
  {
   "cell_type": "code",
   "execution_count": 13,
   "id": "fc603c38",
   "metadata": {},
   "outputs": [
    {
     "data": {
      "text/plain": [
       "User ID        35139\n",
       "Username       35138\n",
       "Anime ID       10347\n",
       "Anime Title    10378\n",
       "Score             10\n",
       "dtype: int64"
      ]
     },
     "execution_count": 13,
     "metadata": {},
     "output_type": "execute_result"
    }
   ],
   "source": [
    "filtered_user.nunique()"
   ]
  },
  {
   "cell_type": "markdown",
   "id": "dbdd6b2a",
   "metadata": {},
   "source": [
    "**Filtering out Anime**"
   ]
  },
  {
   "cell_type": "code",
   "execution_count": 14,
   "id": "d747bec1",
   "metadata": {},
   "outputs": [],
   "source": [
    "not_yet_aired = df[df.status == \"Not yet aired\"]"
   ]
  },
  {
   "cell_type": "code",
   "execution_count": null,
   "id": "1552958e",
   "metadata": {},
   "outputs": [],
   "source": [
    "df = df[df.favorites != 0]\n"
   ]
  },
  {
   "cell_type": "code",
   "execution_count": 15,
   "id": "34d9edfc",
   "metadata": {},
   "outputs": [],
   "source": [
    "df1 = df[df['mal_id'].isin(filtered_user['Anime ID'])]"
   ]
  },
  {
   "cell_type": "code",
   "execution_count": 16,
   "id": "16d28dba",
   "metadata": {},
   "outputs": [
    {
     "data": {
      "text/plain": [
       "(10347, 36)"
      ]
     },
     "execution_count": 16,
     "metadata": {},
     "output_type": "execute_result"
    }
   ],
   "source": [
    "df1.shape"
   ]
  },
  {
   "cell_type": "code",
   "execution_count": 17,
   "id": "18767614",
   "metadata": {},
   "outputs": [
    {
     "data": {
      "text/plain": [
       "mal_id                0\n",
       "url                   0\n",
       "images                0\n",
       "trailer               0\n",
       "approved              0\n",
       "titles                0\n",
       "title                 0\n",
       "title_english      3830\n",
       "title_japanese       12\n",
       "title_synonyms        0\n",
       "type                  0\n",
       "source                0\n",
       "episodes             22\n",
       "status                0\n",
       "airing                0\n",
       "aired                 0\n",
       "duration              0\n",
       "rating               10\n",
       "score                 3\n",
       "scored_by             3\n",
       "rank               1426\n",
       "popularity            0\n",
       "members               0\n",
       "favorites             0\n",
       "synopsis             72\n",
       "background         8527\n",
       "season             6310\n",
       "year               6310\n",
       "broadcast             0\n",
       "producers             0\n",
       "licensors             0\n",
       "studios               0\n",
       "genres                0\n",
       "explicit_genres       0\n",
       "themes                0\n",
       "demographics          0\n",
       "dtype: int64"
      ]
     },
     "execution_count": 17,
     "metadata": {},
     "output_type": "execute_result"
    }
   ],
   "source": [
    "df1.isna().sum()"
   ]
  },
  {
   "cell_type": "markdown",
   "id": "51580e51",
   "metadata": {},
   "source": [
    "**Dropping Unwanted Columns**"
   ]
  },
  {
   "cell_type": "code",
   "execution_count": 19,
   "id": "2c8af94b",
   "metadata": {},
   "outputs": [],
   "source": [
    "df1.dropna(subset=['synopsis','rating'],inplace=True)"
   ]
  },
  {
   "cell_type": "markdown",
   "id": "e04f17f6",
   "metadata": {},
   "source": [
    "**Extracting only relevant information**"
   ]
  },
  {
   "cell_type": "code",
   "execution_count": 20,
   "id": "162cf459",
   "metadata": {},
   "outputs": [],
   "source": [
    "import ast \n",
    "df1.producers = df1.producers.apply(ast.literal_eval)\n",
    "df1.images = df1.images.apply(ast.literal_eval)\n",
    "df1.trailer = df1.trailer.apply(ast.literal_eval)\n",
    "df1.titles = df1.titles.apply(ast.literal_eval)\n",
    "df1.aired = df1.aired.apply(ast.literal_eval)\n",
    "df1.broadcast = df1.broadcast.apply(ast.literal_eval)\n",
    "df1.licensors = df1.licensors.apply(ast.literal_eval)\n",
    "df1.studios = df1.studios.apply(ast.literal_eval)\n",
    "df1.genres = df1.genres.apply(ast.literal_eval)\n",
    "df1.themes = df1.themes.apply(ast.literal_eval)\n",
    "df1.demographics = df1.demographics.apply(ast.literal_eval)\n"
   ]
  },
  {
   "cell_type": "code",
   "execution_count": 21,
   "id": "403c37f6",
   "metadata": {},
   "outputs": [],
   "source": [
    "def extract_info(row):\n",
    "    # Extract producer names\n",
    "    producer_names = [producer['name'] for producer in row['producers']]\n",
    "    licensors_names = [licensor['name'] for licensor in row['licensors']]\n",
    "    studios_names = [studio['name'] for studio in row['studios']]\n",
    "    genres = [genre['name'] for genre in row['genres']]\n",
    "    themes = [theme['name'] for theme in row['themes']]\n",
    "    demographics = [dg['name'] for dg in row['demographics']]\n",
    "    \n",
    "    # Extract embed_url from trailer\n",
    "    embed_url = row['trailer']['embed_url'] if row['trailer'] else None\n",
    "    aired = row['aired']['string'] if row['aired'] else None\n",
    "    # Extract large_image_url from images\n",
    "    large_image_url = row['images']['jpg']['large_image_url'] if row['images'] else None\n",
    "    \n",
    "    return pd.Series([producer_names, licensors_names,studios_names,genres,themes,demographics,embed_url,aired, large_image_url])\n",
    "\n",
    "# Apply the function to each row of the DataFrame\n",
    "df1[['producers','licensors','studios','genres','themes','demographics','trailer','aired','image']] = df1.apply(extract_info, axis=1)\n"
   ]
  },
  {
   "cell_type": "code",
   "execution_count": 23,
   "id": "5b784fad",
   "metadata": {},
   "outputs": [],
   "source": [
    "\n",
    "df1 = df1[~df1['genres'].apply(lambda x: x == [])]"
   ]
  },
  {
   "cell_type": "code",
   "execution_count": 25,
   "id": "083ad4b0",
   "metadata": {},
   "outputs": [],
   "source": [
    "df1 = df1.reset_index(drop=True)"
   ]
  },
  {
   "cell_type": "markdown",
   "id": "9ccfcb11",
   "metadata": {},
   "source": [
    "**DATA CLEANING**"
   ]
  },
  {
   "cell_type": "code",
   "execution_count": 26,
   "id": "9b36ea8f",
   "metadata": {},
   "outputs": [],
   "source": [
    "import re\n",
    "\n",
    "pattern = r\"\\[Written by MAL Rewrite\\]|\\(.*Source:.*\\)\" \n",
    "\n",
    "# Removing the pattern using regular expressions\n",
    "df1['synopsis'] = df1['synopsis'].str.replace(pattern, '', regex=True).values\n"
   ]
  },
  {
   "cell_type": "code",
   "execution_count": 27,
   "id": "5419638b",
   "metadata": {},
   "outputs": [],
   "source": [
    "def remove_newline_numbers(text):\n",
    "    text = text.replace('\\n', ' ')\n",
    "    text = re.sub(r'\\d+', ' ', text)\n",
    "    text = re.sub(r'[^\\w\\s]', ' ', text)\n",
    "    return text.lower()"
   ]
  },
  {
   "cell_type": "code",
   "execution_count": 28,
   "id": "93fae0fe",
   "metadata": {},
   "outputs": [],
   "source": [
    "df1['synopsis_cleaned'] = df1.synopsis.apply(remove_newline_numbers)"
   ]
  },
  {
   "cell_type": "code",
   "execution_count": 29,
   "id": "52777973",
   "metadata": {},
   "outputs": [],
   "source": [
    "import spacy\n",
    "nlp = spacy.load('en_core_web_sm')\n",
    "df1['synopsis_cleaned'] = df1['synopsis_cleaned'].apply(lambda x: \" \".join([token.lemma_ for token in nlp(x) if not token.is_stop]))"
   ]
  },
  {
   "cell_type": "code",
   "execution_count": 30,
   "id": "a428bb4f",
   "metadata": {},
   "outputs": [],
   "source": [
    "rating_map = {\n",
    "    \"PG-13 - Teens 13 or older\": \"PG-13\",\n",
    "    \"R - 17+ (violence & profanity)\": \"R17\",\n",
    "    \"Rx - Hentai\": \"Rx\",\n",
    "    \"R+ - Mild Nudity\": \"R+\",\n",
    "    \"G - All Ages\": \"G\",\n",
    "    \"PG - Children\": \"PG\"\n",
    "}\n",
    "\n",
    "# Use the map to replace the values in the 'rating' column\n",
    "df1['rating'] = df1['rating'].replace(rating_map)"
   ]
  },
  {
   "cell_type": "code",
   "execution_count": 31,
   "id": "ce19f3d1",
   "metadata": {},
   "outputs": [],
   "source": [
    "df1['themes'] = df1['themes'].apply(lambda x:[\"unknown_theme\"] if x == [] else x )\n",
    "df1['demographics'] = df1['demographics'].apply(lambda x:[\"unknown_demographics\"] if x == [] else x )\n",
    "\n"
   ]
  },
  {
   "cell_type": "code",
   "execution_count": 32,
   "id": "ef926db5",
   "metadata": {},
   "outputs": [],
   "source": [
    "def get_season(x):\n",
    "    spring = [\"Mar\",\"Apr\",\"May\"]\n",
    "    summer = [\"Jun\",\"Jul\",\"Aug\"]\n",
    "    fall = [\"Sep\",\"Oct\",\"Nov\"]\n",
    "    winter = [\"Dec\",\"Jan\",\"Feb\"]\n",
    "    y = x[:3]\n",
    "    if y in spring:\n",
    "        return \"spring\"\n",
    "    elif y in winter:\n",
    "        return \"winter\"\n",
    "    elif y in fall:\n",
    "        return \"fall\"\n",
    "    elif y in summer:\n",
    "        return \"summer\""
   ]
  },
  {
   "cell_type": "code",
   "execution_count": 33,
   "id": "0f0d618f",
   "metadata": {},
   "outputs": [],
   "source": [
    "df1.season = df1.aired.apply(get_season)"
   ]
  },
  {
   "cell_type": "code",
   "execution_count": 34,
   "id": "7b3af658",
   "metadata": {},
   "outputs": [],
   "source": [
    "df1.year = df1.aired.str.split(',').str[1].str[1:5]"
   ]
  },
  {
   "cell_type": "code",
   "execution_count": 35,
   "id": "83b0e8e7",
   "metadata": {},
   "outputs": [],
   "source": [
    "def fill_na(row):\n",
    "    if pd.isna(row['year']):\n",
    "        if len(row['aired']) == 4:\n",
    "            return row['aired']\n",
    "        elif len(row['aired']) == 12:\n",
    "            return row['aired'][:4]\n",
    "        else:\n",
    "            return row['aired'][4:8]\n",
    "    else:\n",
    "        return row['year']\n",
    "\n",
    "# Apply the function to each row of the DataFrame\n",
    "df1['year'] = df1.apply(fill_na, axis=1)"
   ]
  },
  {
   "cell_type": "code",
   "execution_count": 36,
   "id": "84d5be60",
   "metadata": {},
   "outputs": [],
   "source": [
    "df1.season = df1.season.fillna(\"unknownseason\")"
   ]
  },
  {
   "cell_type": "markdown",
   "id": "2a379bdd",
   "metadata": {},
   "source": [
    "**Selecting only relevant columns**"
   ]
  },
  {
   "cell_type": "code",
   "execution_count": 37,
   "id": "b631879e",
   "metadata": {},
   "outputs": [],
   "source": [
    "data = df1[['mal_id', 'url', 'trailer', 'title',\n",
    "       'title_english', 'type', 'source',\n",
    "       'episodes', 'status', 'aired', 'duration', 'rating', 'score',\n",
    "       'scored_by', 'rank', 'popularity', 'members', 'favorites', 'synopsis','synopsis_cleaned',\n",
    "       'background', 'season', 'year', 'producers', 'licensors',\n",
    "       'studios', 'genres', 'themes', 'demographics',\n",
    "       'image']] "
   ]
  },
  {
   "cell_type": "code",
   "execution_count": 38,
   "id": "e64e214f",
   "metadata": {},
   "outputs": [],
   "source": [
    "data['producers'] = data['producers'].apply(lambda x: ','.join(x))\n",
    "data['licensors'] = data['licensors'].apply(lambda x: ','.join(x))\n",
    "data['genres'] = data['genres'].apply(lambda x: ','.join(x))\n",
    "data['studios'] = data['studios'].apply(lambda x: ','.join(x))\n",
    "data['themes'] = data['themes'].apply(lambda x: ','.join(x))\n",
    "data['demographics'] = data['demographics'].apply(lambda x: ','.join(x))"
   ]
  },
  {
   "cell_type": "code",
   "execution_count": 39,
   "id": "3212569b",
   "metadata": {},
   "outputs": [],
   "source": [
    "data = data[~(data.genres.str.contains(\"Hentai\")|data.genres.str.contains(\"Erotica\")|data.genres.str.contains(\"Boys Love\")|data.genres.str.contains(\"Girls Love\"))]"
   ]
  },
  {
   "cell_type": "code",
   "execution_count": 40,
   "id": "6bc5fc65",
   "metadata": {},
   "outputs": [
    {
     "name": "stdout",
     "output_type": "stream",
     "text": [
      "{'Action': 3239, 'Award Winning': 192, 'Sci-Fi': 2025, 'Adventure': 2006, 'Drama': 1702, 'Mystery': 668, 'Supernatural': 899, 'Fantasy': 2435, 'Sports': 386, 'Comedy': 3501, 'Romance': 1490, 'Slice of Life': 655, 'Suspense': 276, 'Ecchi': 699, 'Gourmet': 82, 'Avant Garde': 134, 'Horror': 318}\n"
     ]
    }
   ],
   "source": [
    "# Assuming df is your DataFrame and 'genres' is your column with the genres\n",
    "genre_counts = {}\n",
    "for row in data['genres']:\n",
    "    for genre in row.split(','):\n",
    "        if genre in genre_counts:\n",
    "            genre_counts[genre] += 1\n",
    "        else:\n",
    "            genre_counts[genre] = 1\n",
    "\n",
    "print(genre_counts)"
   ]
  },
  {
   "cell_type": "code",
   "execution_count": 41,
   "id": "6d480c9c",
   "metadata": {},
   "outputs": [],
   "source": [
    "data = data[data.favorites != 0]\n"
   ]
  },
  {
   "cell_type": "code",
   "execution_count": 42,
   "id": "c8841aeb",
   "metadata": {},
   "outputs": [],
   "source": [
    "data = data.reset_index(drop=True)"
   ]
  },
  {
   "cell_type": "markdown",
   "id": "62888aa2",
   "metadata": {},
   "source": [
    "**FEATURE ENGINEERING**"
   ]
  },
  {
   "cell_type": "code",
   "execution_count": 43,
   "id": "04857148",
   "metadata": {},
   "outputs": [],
   "source": [
    "genres_df = data.genres.str.get_dummies(sep=',')\n",
    "studios_df = data.studios.str.get_dummies(sep=',')\n",
    "themes_df = data.themes.str.get_dummies(sep=',')\n",
    "demographics_df = data.demographics.str.get_dummies(sep=',')\n"
   ]
  },
  {
   "cell_type": "code",
   "execution_count": 44,
   "id": "6f62ebdd",
   "metadata": {},
   "outputs": [],
   "source": [
    "status_df = data.status.str.get_dummies()\n",
    "season_df = data.season.str.get_dummies()\n",
    "type_df = data.type.str.get_dummies()\n",
    "source_df = data.source.str.get_dummies()\n",
    "rating_df = data.rating.str.get_dummies()"
   ]
  },
  {
   "cell_type": "code",
   "execution_count": 45,
   "id": "86133ee1",
   "metadata": {},
   "outputs": [],
   "source": [
    "data.year = data.year.astype('int')"
   ]
  },
  {
   "cell_type": "code",
   "execution_count": 46,
   "id": "cc1ba9d6",
   "metadata": {},
   "outputs": [],
   "source": [
    "from sklearn.feature_extraction.text import TfidfVectorizer"
   ]
  },
  {
   "cell_type": "code",
   "execution_count": 47,
   "id": "6b19e8b2",
   "metadata": {},
   "outputs": [],
   "source": [
    "vectorizer = TfidfVectorizer()  # Adjust max_features as needed\n",
    "overview_matrix = vectorizer.fit_transform(data['synopsis_cleaned'])"
   ]
  },
  {
   "cell_type": "code",
   "execution_count": 48,
   "id": "bd1a65bf",
   "metadata": {},
   "outputs": [
    {
     "data": {
      "text/plain": [
       "(8282, 30104)"
      ]
     },
     "execution_count": 48,
     "metadata": {},
     "output_type": "execute_result"
    }
   ],
   "source": [
    "overview_matrix.shape"
   ]
  },
  {
   "cell_type": "code",
   "execution_count": 49,
   "id": "3d88e0d1",
   "metadata": {},
   "outputs": [],
   "source": [
    "overview_matrix = overview_matrix.toarray()\n",
    "overview_df = pd.DataFrame(overview_matrix)"
   ]
  },
  {
   "cell_type": "code",
   "execution_count": 50,
   "id": "573ae205",
   "metadata": {},
   "outputs": [
    {
     "data": {
      "text/plain": [
       "(8282, 30)"
      ]
     },
     "execution_count": 50,
     "metadata": {},
     "output_type": "execute_result"
    }
   ],
   "source": [
    "data.shape"
   ]
  },
  {
   "cell_type": "code",
   "execution_count": 51,
   "id": "80c17474",
   "metadata": {},
   "outputs": [],
   "source": [
    "from sklearn.decomposition import PCA\n",
    "num_components = 1000\n",
    "\n",
    "# Applying PCA for dimensionality reduction\n",
    "pca = PCA(n_components=num_components)\n",
    "pca_data = pca.fit_transform(overview_df)"
   ]
  },
  {
   "cell_type": "code",
   "execution_count": 52,
   "id": "6dc9065e",
   "metadata": {},
   "outputs": [],
   "source": [
    "pca_data = pd.DataFrame(pca_data)"
   ]
  },
  {
   "cell_type": "code",
   "execution_count": 53,
   "id": "62e366de",
   "metadata": {},
   "outputs": [
    {
     "data": {
      "text/plain": [
       "(8282, 1000)"
      ]
     },
     "execution_count": 53,
     "metadata": {},
     "output_type": "execute_result"
    }
   ],
   "source": [
    "pca_data.shape"
   ]
  },
  {
   "cell_type": "code",
   "execution_count": 54,
   "id": "89cd79f6",
   "metadata": {},
   "outputs": [],
   "source": [
    "combined_features = pd.concat([pca_data,source_df,type_df,genres_df,demographics_df,themes_df],axis=1)"
   ]
  },
  {
   "cell_type": "code",
   "execution_count": 55,
   "id": "d57d3f3f",
   "metadata": {},
   "outputs": [
    {
     "data": {
      "text/plain": [
       "(8282, 1100)"
      ]
     },
     "execution_count": 55,
     "metadata": {},
     "output_type": "execute_result"
    }
   ],
   "source": [
    "combined_features.shape"
   ]
  },
  {
   "cell_type": "code",
   "execution_count": 56,
   "id": "35413bcc",
   "metadata": {},
   "outputs": [],
   "source": [
    "from sklearn.metrics.pairwise import cosine_similarity\n",
    "similarity_matrix = cosine_similarity(combined_features)"
   ]
  },
  {
   "cell_type": "code",
   "execution_count": 57,
   "id": "474492ca",
   "metadata": {},
   "outputs": [],
   "source": [
    "def recommend(anime):\n",
    "    index = data[(data['title'] == anime) | (data['title_english'] == anime)].index[0]\n",
    "    distances = sorted(list(enumerate(similarity_matrix[index])),reverse=True,key= lambda x:x[1])\n",
    "    for i in distances[1:10]:\n",
    "        \n",
    "        print(data.iloc[i[0]].title,\"---\",i[1])"
   ]
  },
  {
   "cell_type": "code",
   "execution_count": 58,
   "id": "33929004",
   "metadata": {},
   "outputs": [
    {
     "data": {
      "text/plain": [
       "(8282, 8282)"
      ]
     },
     "execution_count": 58,
     "metadata": {},
     "output_type": "execute_result"
    }
   ],
   "source": [
    "similarity_matrix.shape"
   ]
  },
  {
   "cell_type": "code",
   "execution_count": 59,
   "id": "7c8779ca",
   "metadata": {},
   "outputs": [
    {
     "name": "stdout",
     "output_type": "stream",
     "text": [
      "Kimetsu no Yaiba: Katanakaji no Sato-hen --- 0.903423512700235\n",
      "Kimetsu no Yaiba: Yuukaku-hen --- 0.899187587133926\n",
      "Kimetsu no Yaiba: Mugen Ressha-hen --- 0.8924210926554421\n",
      "Nokemono-tachi no Yoru --- 0.814109839130209\n",
      "Senkaiden Houshin Engi --- 0.8068999284936963\n",
      "Jujutsu Kaisen --- 0.8049670809151329\n",
      "Kuroshitsuji II --- 0.7674770044027059\n",
      "Vanitas no Karte Part 2 --- 0.7652391631556102\n",
      "Orient: Awajishima Gekitou-hen --- 0.7636686633800215\n",
      "Orient --- 0.7604917951896554\n",
      "Kuroshitsuji: Book of Circus --- 0.7598097775516753\n",
      "Vanitas no Karte --- 0.7595739087958543\n",
      "Sengoku Youko: Yonaoshi Kyoudai-hen --- 0.7555765453045107\n",
      "Kimetsu no Yaiba Movie: Mugen Ressha-hen --- 0.7523948189420188\n",
      "Kuroshitsuji --- 0.7517918804587607\n",
      "Ragna Crimson --- 0.7369640768207604\n",
      "Chainsaw Man --- 0.7340667811317794\n",
      "Yu☆Gi☆Oh! Zexal Second --- 0.7325426954989877\n",
      "Jigokuraku --- 0.7277655574252128\n"
     ]
    }
   ],
   "source": [
    "recommend(\"Kimetsu no Yaiba\")"
   ]
  },
  {
   "cell_type": "code",
   "execution_count": 251,
   "id": "b031df18",
   "metadata": {},
   "outputs": [
    {
     "name": "stdout",
     "output_type": "stream",
     "text": [
      "Kuroko no Basket --- 0.9691568972602083\n",
      "Kuroko no Basket 3rd Season --- 0.9687037260848341\n",
      "Slam Dunk --- 0.9439673446049535\n",
      "Diamond no Ace --- 0.93550232388149\n",
      "Ahiru no Sora --- 0.934448680491423\n",
      "Diamond no Ace: Second Season --- 0.9340136132602974\n",
      "Haikyuu!! To the Top Part 2 --- 0.9302775634989314\n",
      "Diamond no Ace: Act II --- 0.9265694734604045\n",
      "Haikyuu!! Second Season --- 0.9256945364715556\n",
      "Haikyuu!! --- 0.9216046686427005\n",
      "Haikyuu!! Karasuno Koukou vs. Shiratorizawa Gakuen Koukou --- 0.9214556282627179\n",
      "Whistle! --- 0.9211156944114792\n",
      "Days (TV) --- 0.9187966364459417\n",
      "Haikyuu!! To the Top --- 0.9161523672294373\n",
      "Boukyaku Battery (TV) --- 0.9146680564328475\n",
      "Eyeshield 21 --- 0.855457549995078\n",
      "Major 2nd 2nd Season --- 0.8516103184401271\n",
      "Area no Kishi --- 0.8505417088329088\n",
      "Blue Lock --- 0.8493604356880786\n"
     ]
    }
   ],
   "source": [
    "recommend(\"Kuroko no Basket 2nd Season\")"
   ]
  },
  {
   "cell_type": "code",
   "execution_count": 252,
   "id": "f6d69082",
   "metadata": {},
   "outputs": [
    {
     "name": "stdout",
     "output_type": "stream",
     "text": [
      "Magi: Sinbad no Bouken (TV) --- 0.9452598135230995\n",
      "Nanatsu no Taizai: Mokushiroku no Yonkishi --- 0.9443174234699682\n",
      "Magi: The Labyrinth of Magic --- 0.9436854209752565\n",
      "Dragon Quest: Dai no Daibouken (TV) --- 0.9430641750624058\n",
      "Magi: The Kingdom of Magic --- 0.9374976055778587\n",
      "Fairy Tail (2014) --- 0.9346276844349698\n",
      "Bleach: Sennen Kessen-hen --- 0.933754737332413\n",
      "Bleach: Sennen Kessen-hen - Ketsubetsu-tan --- 0.9325351125259214\n",
      "Nanatsu no Taizai: Seisen no Shirushi --- 0.9319725272022331\n",
      "Nanatsu no Taizai: Imashime no Fukkatsu --- 0.9303485466587573\n",
      "Fairy Tail: Final Series --- 0.9302970043233261\n",
      "Hunter x Hunter --- 0.9298131615300326\n",
      "Hunter x Hunter (2011) --- 0.928512205875408\n",
      "Fairy Tail --- 0.9280766630761886\n",
      "Nanatsu no Taizai: Kamigami no Gekirin --- 0.9280511388452618\n",
      "Nanatsu no Taizai: Funnu no Shinpan --- 0.9244205861938114\n",
      "Dragon Quest: Dai no Daibouken (2020) --- 0.9243487350851174\n",
      "Bleach --- 0.9235907784165057\n",
      "Nanatsu no Taizai --- 0.9220673434788279\n"
     ]
    }
   ],
   "source": [
    "recommend(\"One Piece\")"
   ]
  },
  {
   "cell_type": "markdown",
   "id": "79448803",
   "metadata": {},
   "source": [
    "**Saving the model and anime_data**"
   ]
  },
  {
   "cell_type": "code",
   "execution_count": 253,
   "id": "90daead0",
   "metadata": {},
   "outputs": [],
   "source": [
    "import pickle\n",
    "pickle.dump(data,open('anime.pkl','wb'))\n",
    "pickle.dump(similarity_matrix,open('similarity.pkl','wb'))"
   ]
  }
 ],
 "metadata": {
  "kernelspec": {
   "display_name": "Python 3 (ipykernel)",
   "language": "python",
   "name": "python3"
  },
  "language_info": {
   "codemirror_mode": {
    "name": "ipython",
    "version": 3
   },
   "file_extension": ".py",
   "mimetype": "text/x-python",
   "name": "python",
   "nbconvert_exporter": "python",
   "pygments_lexer": "ipython3",
   "version": "3.11.5"
  }
 },
 "nbformat": 4,
 "nbformat_minor": 5
}
