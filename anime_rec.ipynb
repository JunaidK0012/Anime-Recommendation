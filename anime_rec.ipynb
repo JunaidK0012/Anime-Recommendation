{
 "cells": [
  {
   "cell_type": "code",
   "execution_count": 2,
   "id": "179cfb8b",
   "metadata": {},
   "outputs": [],
   "source": [
    "import pandas as pd\n",
    "import re\n",
    "pd.set_option('display.max_rows', 500)\n",
    "pd.set_option('display.max_columns', 50)"
   ]
  },
  {
   "cell_type": "code",
   "execution_count": 3,
   "id": "8ee61999",
   "metadata": {},
   "outputs": [],
   "source": [
    "df = pd.read_csv('anime_data.csv')"
   ]
  },
  {
   "cell_type": "code",
   "execution_count": 4,
   "id": "86d8044b",
   "metadata": {},
   "outputs": [
    {
     "data": {
      "text/plain": [
       "(8807, 29)"
      ]
     },
     "execution_count": 4,
     "metadata": {},
     "output_type": "execute_result"
    }
   ],
   "source": [
    "df.shape"
   ]
  },
  {
   "cell_type": "code",
   "execution_count": 5,
   "id": "d3def454",
   "metadata": {},
   "outputs": [
    {
     "data": {
      "text/plain": [
       "Index(['mal_id', 'url', 'trailer', 'title', 'title_english', 'type', 'source',\n",
       "       'episodes', 'status', 'aired', 'duration', 'rating', 'score',\n",
       "       'scored_by', 'rank', 'popularity', 'members', 'favorites', 'synopsis',\n",
       "       'background', 'season', 'year', 'producers', 'licensors', 'studios',\n",
       "       'genres', 'themes', 'demographics', 'image'],\n",
       "      dtype='object')"
      ]
     },
     "execution_count": 5,
     "metadata": {},
     "output_type": "execute_result"
    }
   ],
   "source": [
    "df.columns"
   ]
  },
  {
   "cell_type": "code",
   "execution_count": 6,
   "id": "711cc7cd",
   "metadata": {},
   "outputs": [
    {
     "data": {
      "text/plain": [
       "mal_id              0\n",
       "url                 0\n",
       "trailer          4916\n",
       "title               0\n",
       "title_english    3039\n",
       "type                0\n",
       "source              0\n",
       "episodes           41\n",
       "status              0\n",
       "aired               0\n",
       "duration            0\n",
       "rating              0\n",
       "score               0\n",
       "scored_by           0\n",
       "rank             1049\n",
       "popularity          0\n",
       "members             0\n",
       "favorites           0\n",
       "synopsis            1\n",
       "background       7062\n",
       "season           5080\n",
       "year             5080\n",
       "producers           0\n",
       "licensors           0\n",
       "studios             0\n",
       "genres              0\n",
       "themes              0\n",
       "demographics        0\n",
       "image               0\n",
       "dtype: int64"
      ]
     },
     "execution_count": 6,
     "metadata": {},
     "output_type": "execute_result"
    }
   ],
   "source": [
    "df.isna().sum()"
   ]
  },
  {
   "cell_type": "code",
   "execution_count": 7,
   "id": "3ab49cb8",
   "metadata": {},
   "outputs": [
    {
     "data": {
      "text/plain": [
       "21"
      ]
     },
     "execution_count": 7,
     "metadata": {},
     "output_type": "execute_result"
    }
   ],
   "source": [
    "df.duplicated().sum()"
   ]
  },
  {
   "cell_type": "code",
   "execution_count": 8,
   "id": "3fca4a9a",
   "metadata": {},
   "outputs": [],
   "source": [
    "df.drop_duplicates(inplace=True)"
   ]
  },
  {
   "cell_type": "code",
   "execution_count": 9,
   "id": "38842c92",
   "metadata": {},
   "outputs": [],
   "source": [
    "df.dropna(subset=['synopsis'],inplace=True)"
   ]
  },
  {
   "cell_type": "code",
   "execution_count": 10,
   "id": "75a2781f",
   "metadata": {},
   "outputs": [
    {
     "data": {
      "text/plain": [
       "(8785, 29)"
      ]
     },
     "execution_count": 10,
     "metadata": {},
     "output_type": "execute_result"
    }
   ],
   "source": [
    "df.shape"
   ]
  },
  {
   "cell_type": "code",
   "execution_count": 11,
   "id": "02353bd1",
   "metadata": {},
   "outputs": [],
   "source": [
    "df = df.reset_index(drop=True)"
   ]
  },
  {
   "cell_type": "code",
   "execution_count": 12,
   "id": "376dc1e6",
   "metadata": {},
   "outputs": [],
   "source": [
    "data = df[['mal_id', 'url', 'trailer', 'title',\n",
    "       'title_english', 'type', 'source',\n",
    "       'episodes', 'status', 'aired', 'duration', 'rating', 'score',\n",
    "       'scored_by', 'rank', 'popularity', 'members', 'favorites', 'synopsis',\n",
    "       'background', 'season', 'year', 'producers', 'licensors',\n",
    "       'studios', 'genres', 'themes', 'demographics',\n",
    "       'image']] "
   ]
  },
  {
   "cell_type": "code",
   "execution_count": 13,
   "id": "1b21e744",
   "metadata": {},
   "outputs": [],
   "source": [
    "data = data[~data['studios'].apply(lambda x: x == [])]\n",
    "data = data[~data['genres'].apply(lambda x: x == [])]"
   ]
  },
  {
   "cell_type": "code",
   "execution_count": 14,
   "id": "d71b888b",
   "metadata": {},
   "outputs": [
    {
     "data": {
      "text/plain": [
       "(8785, 29)"
      ]
     },
     "execution_count": 14,
     "metadata": {},
     "output_type": "execute_result"
    }
   ],
   "source": [
    "data.shape"
   ]
  },
  {
   "cell_type": "markdown",
   "id": "54d7a0da",
   "metadata": {},
   "source": [
    "SYNOPSIS DATA CLEANING"
   ]
  },
  {
   "cell_type": "code",
   "execution_count": 15,
   "id": "de823ccf",
   "metadata": {},
   "outputs": [],
   "source": [
    "import re\n",
    "\n",
    "pattern = r\"\\[Written by MAL Rewrite\\]|\\(.*Source:.*\\)\" \n",
    "\n",
    "# Removing the pattern using regular expressions\n",
    "data['synopsis'] = data['synopsis'].str.replace(pattern, '', regex=True).values\n",
    "\n"
   ]
  },
  {
   "cell_type": "code",
   "execution_count": 16,
   "id": "c5e5db39",
   "metadata": {},
   "outputs": [],
   "source": [
    "def remove_newline_numbers(text):\n",
    "    text = text.replace('\\n', '')\n",
    "    text = re.sub(r'\\d+', '', text)\n",
    "    text = re.sub(r'[^\\w\\s]', '', text)\n",
    "    return text.lower()"
   ]
  },
  {
   "cell_type": "code",
   "execution_count": 17,
   "id": "f2acd0e0",
   "metadata": {},
   "outputs": [],
   "source": [
    "data['synopsis_cleaned'] = data.synopsis.apply(remove_newline_numbers)"
   ]
  },
  {
   "cell_type": "code",
   "execution_count": 18,
   "id": "b7f34e91",
   "metadata": {},
   "outputs": [],
   "source": [
    "import spacy\n",
    "nlp = spacy.load('en_core_web_sm')\n",
    "data['synopsis_cleaned'] = data['synopsis_cleaned'].apply(lambda x: \" \".join([token.lemma_ for token in nlp(x) if not token.is_stop]))"
   ]
  },
  {
   "cell_type": "code",
   "execution_count": 19,
   "id": "b8e44262",
   "metadata": {},
   "outputs": [],
   "source": [
    "rating_map = {\n",
    "    \"PG-13 - Teens 13 or older\": \"PG-13\",\n",
    "    \"R - 17+ (violence & profanity)\": \"R17\",\n",
    "    \"Rx - Hentai\": \"Rx\",\n",
    "    \"R+ - Mild Nudity\": \"R+\",\n",
    "    \"G - All Ages\": \"G\",\n",
    "    \"PG - Children\": \"PG\"\n",
    "}\n",
    "\n",
    "# Use the map to replace the values in the 'rating' column\n",
    "data['rating'] = data['rating'].replace(rating_map)"
   ]
  },
  {
   "cell_type": "code",
   "execution_count": 20,
   "id": "c3b7f166",
   "metadata": {},
   "outputs": [
    {
     "data": {
      "text/plain": [
       "(8785, 30)"
      ]
     },
     "execution_count": 20,
     "metadata": {},
     "output_type": "execute_result"
    }
   ],
   "source": [
    "data.shape"
   ]
  },
  {
   "cell_type": "code",
   "execution_count": 21,
   "id": "ee3bb3ab",
   "metadata": {},
   "outputs": [],
   "source": [
    "data['themes'] = data['themes'].apply(lambda x:\"unknown_theme\" if x == [] else x )\n",
    "data['demographics'] = data['demographics'].apply(lambda x:\"unknown_demographics\" if x == [] else x )"
   ]
  },
  {
   "cell_type": "code",
   "execution_count": 22,
   "id": "f02beca7",
   "metadata": {},
   "outputs": [],
   "source": [
    "data.year = data.aired.str.split(',').str[1].str[1:5]"
   ]
  },
  {
   "cell_type": "code",
   "execution_count": 23,
   "id": "071cd217",
   "metadata": {},
   "outputs": [],
   "source": [
    "def get_season(x):\n",
    "    spring = [\"Mar\",\"Apr\",\"May\"]\n",
    "    summer = [\"Jun\",\"Jul\",\"Aug\"]\n",
    "    fall = [\"Sep\",\"Oct\",\"Nov\"]\n",
    "    winter = [\"Dec\",\"Jan\",\"Feb\"]\n",
    "    y = x[:3]\n",
    "    if y in spring:\n",
    "        return \"spring\"\n",
    "    elif y in winter:\n",
    "        return \"winter\"\n",
    "    elif y in fall:\n",
    "        return \"fall\"\n",
    "    elif y in summer:\n",
    "        return \"summer\"\n",
    "\n",
    "    "
   ]
  },
  {
   "cell_type": "code",
   "execution_count": 24,
   "id": "457f0730",
   "metadata": {},
   "outputs": [],
   "source": [
    "data.season = data.aired.apply(get_season)"
   ]
  },
  {
   "cell_type": "code",
   "execution_count": 25,
   "id": "f2ea6795",
   "metadata": {},
   "outputs": [],
   "source": [
    "def fill_na(row):\n",
    "    if pd.isna(row['year']):\n",
    "        if len(row['aired']) == 4:\n",
    "            return row['aired']\n",
    "        elif len(row['aired']) == 12:\n",
    "            return row['aired'][:4]\n",
    "        else:\n",
    "            return row['aired'][4:8]\n",
    "    else:\n",
    "        return row['year']\n",
    "\n",
    "# Apply the function to each row of the DataFrame\n",
    "data['year'] = data.apply(fill_na, axis=1)\n"
   ]
  },
  {
   "cell_type": "code",
   "execution_count": 26,
   "id": "ffbf4ffc",
   "metadata": {},
   "outputs": [],
   "source": [
    "data.season = data.season.fillna(\"unknownseason\")"
   ]
  },
  {
   "cell_type": "code",
   "execution_count": 27,
   "id": "4a652f96",
   "metadata": {},
   "outputs": [
    {
     "data": {
      "text/plain": [
       "mal_id                 0\n",
       "url                    0\n",
       "trailer             4907\n",
       "title                  0\n",
       "title_english       3028\n",
       "type                   0\n",
       "source                 0\n",
       "episodes              40\n",
       "status                 0\n",
       "aired                  0\n",
       "duration               0\n",
       "rating                 0\n",
       "score                  0\n",
       "scored_by              0\n",
       "rank                1046\n",
       "popularity             0\n",
       "members                0\n",
       "favorites              0\n",
       "synopsis               0\n",
       "background          7041\n",
       "season                 0\n",
       "year                   0\n",
       "producers              0\n",
       "licensors              0\n",
       "studios                0\n",
       "genres                 0\n",
       "themes                 0\n",
       "demographics           0\n",
       "image                  0\n",
       "synopsis_cleaned       0\n",
       "dtype: int64"
      ]
     },
     "execution_count": 27,
     "metadata": {},
     "output_type": "execute_result"
    }
   ],
   "source": [
    "data.isna().sum()"
   ]
  },
  {
   "cell_type": "code",
   "execution_count": 28,
   "id": "9d8ef841",
   "metadata": {},
   "outputs": [],
   "source": [
    "from sklearn.feature_extraction.text import TfidfVectorizer"
   ]
  },
  {
   "cell_type": "code",
   "execution_count": 29,
   "id": "fd01a630",
   "metadata": {},
   "outputs": [],
   "source": [
    "vectorizer = TfidfVectorizer(max_features=8000)  # Adjust max_features as needed\n",
    "overview_matrix = vectorizer.fit_transform(data['synopsis_cleaned'])"
   ]
  },
  {
   "cell_type": "code",
   "execution_count": 30,
   "id": "7fd62783",
   "metadata": {},
   "outputs": [],
   "source": [
    "overview_matrix = overview_matrix.toarray()\n",
    "overview_df = pd.DataFrame(overview_matrix)"
   ]
  },
  {
   "cell_type": "code",
   "execution_count": 31,
   "id": "42ee2102",
   "metadata": {},
   "outputs": [],
   "source": [
    "status_df = data.status.str.get_dummies()\n",
    "season_df = data.season.str.get_dummies()\n",
    "type_df = data.type.str.get_dummies()\n",
    "source_df = data.source.str.get_dummies()\n",
    "rating_df = data.rating.str.get_dummies()\n",
    "genres_df = data.genres.str.get_dummies(sep=',')\n",
    "studios_df = data.studios.str.get_dummies(sep=',')\n",
    "licensors_df = data.licensors.str.get_dummies(sep=',')\n",
    "producers_df = data.producers.str.get_dummies(sep=',')\n",
    "themes_df = data.themes.str.get_dummies(sep=',')\n",
    "demographics_df = data.demographics.str.get_dummies(sep=',')"
   ]
  },
  {
   "cell_type": "code",
   "execution_count": 32,
   "id": "f375278f",
   "metadata": {},
   "outputs": [],
   "source": [
    "combined_features = pd.concat([genres_df,type_df,source_df,rating_df,studios_df,themes_df,demographics_df,overview_df],axis=1)"
   ]
  },
  {
   "cell_type": "code",
   "execution_count": 33,
   "id": "db7baa3b",
   "metadata": {},
   "outputs": [
    {
     "data": {
      "text/plain": [
       "(8785, 9373)"
      ]
     },
     "execution_count": 33,
     "metadata": {},
     "output_type": "execute_result"
    }
   ],
   "source": [
    "combined_features.shape"
   ]
  },
  {
   "cell_type": "code",
   "execution_count": 34,
   "id": "8ab3bafd",
   "metadata": {},
   "outputs": [],
   "source": [
    "from sklearn.metrics.pairwise import cosine_similarity\n",
    "similarity_matrix = cosine_similarity(combined_features)"
   ]
  },
  {
   "cell_type": "code",
   "execution_count": 35,
   "id": "f747419d",
   "metadata": {},
   "outputs": [],
   "source": [
    "def recommend(anime):\n",
    "    index = data[(data['title'] == anime) | (data['title_english'] == anime)].index[0]\n",
    "    distances = sorted(list(enumerate(similarity_matrix[index])),reverse=True,key= lambda x:x[1])\n",
    "    for i in distances[1:20]:\n",
    "        print(data.iloc[i[0]].title,\"---\",i[1])"
   ]
  },
  {
   "cell_type": "code",
   "execution_count": 36,
   "id": "d63f3abf",
   "metadata": {},
   "outputs": [
    {
     "name": "stdout",
     "output_type": "stream",
     "text": [
      "Katsute Kami Datta Kemono-tachi e --- 0.7433626482924653\n",
      "Jujutsu Kaisen --- 0.7402124595216275\n",
      "Jujutsu Kaisen 2nd Season --- 0.7395378101646203\n",
      "Peach Boy Riverside --- 0.7390245134137886\n",
      "Jigokuraku --- 0.6763565187146278\n",
      "Ragna Crimson --- 0.6709178443680544\n",
      "Kimetsu no Yaiba: Katanakaji no Sato-hen --- 0.6693141111743878\n",
      "Jujutsu Kaisen 0 Movie --- 0.669256434606162\n",
      "Kimetsu no Yaiba: Mugen Ressha-hen --- 0.6679876807539057\n",
      "Kimetsu no Yaiba: Yuukaku-hen --- 0.6679215999711178\n",
      "Jujutsu Kaisen 2nd Season Recaps --- 0.6666666666666665\n",
      "Kekkai Sensen --- 0.6365685809432907\n",
      "Kimetsu no Yaiba --- 0.6364184784607624\n",
      "Undead Unluck --- 0.6359236082038375\n",
      "Bleach: Sennen Kessen-hen --- 0.6356326813341365\n",
      "Bleach: Sennen Kessen-hen - Ketsubetsu-tan --- 0.6350733226490073\n",
      "Kekkai Sensen & Beyond --- 0.6347372661266141\n",
      "Akame ga Kill! --- 0.6343973260472728\n",
      "Claymore --- 0.6335122121649444\n"
     ]
    }
   ],
   "source": [
    "recommend(\"Chainsaw Man\")"
   ]
  },
  {
   "cell_type": "code",
   "execution_count": 39,
   "id": "c9fdc077",
   "metadata": {},
   "outputs": [],
   "source": [
    "import pickle\n",
    "pickle.dump(data,open('anime.pkl','wb'))\n",
    "pickle.dump(similarity_matrix,open('similarity.pkl','wb'))"
   ]
  }
 ],
 "metadata": {
  "kernelspec": {
   "display_name": "Python 3 (ipykernel)",
   "language": "python",
   "name": "python3"
  },
  "language_info": {
   "codemirror_mode": {
    "name": "ipython",
    "version": 3
   },
   "file_extension": ".py",
   "mimetype": "text/x-python",
   "name": "python",
   "nbconvert_exporter": "python",
   "pygments_lexer": "ipython3",
   "version": "3.10.0"
  }
 },
 "nbformat": 4,
 "nbformat_minor": 5
}
