{
 "cells": [
  {
   "cell_type": "code",
   "execution_count": 1,
   "id": "179cfb8b",
   "metadata": {},
   "outputs": [],
   "source": [
    "import pandas as pd\n",
    "import re\n",
    "pd.set_option('display.max_rows', 500)\n",
    "pd.set_option('display.max_columns', 50)"
   ]
  },
  {
   "cell_type": "code",
   "execution_count": 2,
   "id": "8ee61999",
   "metadata": {},
   "outputs": [],
   "source": [
    "df = pd.read_csv('anime_data.csv')"
   ]
  },
  {
   "cell_type": "code",
   "execution_count": 3,
   "id": "86d8044b",
   "metadata": {},
   "outputs": [
    {
     "data": {
      "text/plain": [
       "(8807, 29)"
      ]
     },
     "execution_count": 3,
     "metadata": {},
     "output_type": "execute_result"
    }
   ],
   "source": [
    "df.shape"
   ]
  },
  {
   "cell_type": "code",
   "execution_count": 4,
   "id": "d3def454",
   "metadata": {},
   "outputs": [
    {
     "data": {
      "text/plain": [
       "Index(['mal_id', 'url', 'trailer', 'title', 'title_english', 'type', 'source',\n",
       "       'episodes', 'status', 'aired', 'duration', 'rating', 'score',\n",
       "       'scored_by', 'rank', 'popularity', 'members', 'favorites', 'synopsis',\n",
       "       'background', 'season', 'year', 'producers', 'licensors', 'studios',\n",
       "       'genres', 'themes', 'demographics', 'image'],\n",
       "      dtype='object')"
      ]
     },
     "execution_count": 4,
     "metadata": {},
     "output_type": "execute_result"
    }
   ],
   "source": [
    "df.columns"
   ]
  },
  {
   "cell_type": "code",
   "execution_count": 5,
   "id": "711cc7cd",
   "metadata": {},
   "outputs": [
    {
     "data": {
      "text/plain": [
       "mal_id              0\n",
       "url                 0\n",
       "trailer          4916\n",
       "title               0\n",
       "title_english    3039\n",
       "type                0\n",
       "source              0\n",
       "episodes           41\n",
       "status              0\n",
       "aired               0\n",
       "duration            0\n",
       "rating              0\n",
       "score               0\n",
       "scored_by           0\n",
       "rank             1049\n",
       "popularity          0\n",
       "members             0\n",
       "favorites           0\n",
       "synopsis            1\n",
       "background       7062\n",
       "season           5080\n",
       "year             5080\n",
       "producers           0\n",
       "licensors           0\n",
       "studios             0\n",
       "genres              0\n",
       "themes              0\n",
       "demographics        0\n",
       "image               0\n",
       "dtype: int64"
      ]
     },
     "execution_count": 5,
     "metadata": {},
     "output_type": "execute_result"
    }
   ],
   "source": [
    "df.isna().sum()"
   ]
  },
  {
   "cell_type": "code",
   "execution_count": 6,
   "id": "3ab49cb8",
   "metadata": {},
   "outputs": [
    {
     "data": {
      "text/plain": [
       "21"
      ]
     },
     "execution_count": 6,
     "metadata": {},
     "output_type": "execute_result"
    }
   ],
   "source": [
    "df.duplicated().sum()"
   ]
  },
  {
   "cell_type": "code",
   "execution_count": 7,
   "id": "3fca4a9a",
   "metadata": {},
   "outputs": [],
   "source": [
    "df.drop_duplicates(inplace=True)"
   ]
  },
  {
   "cell_type": "code",
   "execution_count": 8,
   "id": "38842c92",
   "metadata": {},
   "outputs": [],
   "source": [
    "df.dropna(subset=['synopsis'],inplace=True)"
   ]
  },
  {
   "cell_type": "code",
   "execution_count": 9,
   "id": "75a2781f",
   "metadata": {},
   "outputs": [
    {
     "data": {
      "text/plain": [
       "(8785, 29)"
      ]
     },
     "execution_count": 9,
     "metadata": {},
     "output_type": "execute_result"
    }
   ],
   "source": [
    "df.shape"
   ]
  },
  {
   "cell_type": "code",
   "execution_count": 10,
   "id": "02353bd1",
   "metadata": {},
   "outputs": [],
   "source": [
    "df = df.reset_index(drop=True)"
   ]
  },
  {
   "cell_type": "code",
   "execution_count": 11,
   "id": "376dc1e6",
   "metadata": {},
   "outputs": [],
   "source": [
    "data = df[['mal_id', 'url', 'trailer', 'title',\n",
    "       'title_english', 'type', 'source',\n",
    "       'episodes', 'status', 'aired', 'duration', 'rating', 'score',\n",
    "       'scored_by', 'rank', 'popularity', 'members', 'favorites', 'synopsis',\n",
    "       'background', 'season', 'year', 'producers', 'licensors',\n",
    "       'studios', 'genres', 'themes', 'demographics',\n",
    "       'image']] "
   ]
  },
  {
   "cell_type": "code",
   "execution_count": 12,
   "id": "1b21e744",
   "metadata": {},
   "outputs": [],
   "source": [
    "data = data[~data['studios'].apply(lambda x: x == [])]\n",
    "data = data[~data['genres'].apply(lambda x: x == [])]"
   ]
  },
  {
   "cell_type": "code",
   "execution_count": 13,
   "id": "d71b888b",
   "metadata": {},
   "outputs": [
    {
     "data": {
      "text/plain": [
       "(8785, 29)"
      ]
     },
     "execution_count": 13,
     "metadata": {},
     "output_type": "execute_result"
    }
   ],
   "source": [
    "data.shape"
   ]
  },
  {
   "cell_type": "markdown",
   "id": "54d7a0da",
   "metadata": {},
   "source": [
    "SYNOPSIS DATA CLEANING"
   ]
  },
  {
   "cell_type": "code",
   "execution_count": 14,
   "id": "41771650",
   "metadata": {},
   "outputs": [
    {
     "data": {
      "text/html": [
       "<div>\n",
       "<style scoped>\n",
       "    .dataframe tbody tr th:only-of-type {\n",
       "        vertical-align: middle;\n",
       "    }\n",
       "\n",
       "    .dataframe tbody tr th {\n",
       "        vertical-align: top;\n",
       "    }\n",
       "\n",
       "    .dataframe thead th {\n",
       "        text-align: right;\n",
       "    }\n",
       "</style>\n",
       "<table border=\"1\" class=\"dataframe\">\n",
       "  <thead>\n",
       "    <tr style=\"text-align: right;\">\n",
       "      <th></th>\n",
       "      <th>mal_id</th>\n",
       "      <th>url</th>\n",
       "      <th>trailer</th>\n",
       "      <th>title</th>\n",
       "      <th>title_english</th>\n",
       "      <th>type</th>\n",
       "      <th>source</th>\n",
       "      <th>episodes</th>\n",
       "      <th>status</th>\n",
       "      <th>aired</th>\n",
       "      <th>duration</th>\n",
       "      <th>rating</th>\n",
       "      <th>score</th>\n",
       "      <th>scored_by</th>\n",
       "      <th>rank</th>\n",
       "      <th>popularity</th>\n",
       "      <th>members</th>\n",
       "      <th>favorites</th>\n",
       "      <th>synopsis</th>\n",
       "      <th>background</th>\n",
       "      <th>season</th>\n",
       "      <th>year</th>\n",
       "      <th>producers</th>\n",
       "      <th>licensors</th>\n",
       "      <th>studios</th>\n",
       "      <th>genres</th>\n",
       "      <th>themes</th>\n",
       "      <th>demographics</th>\n",
       "      <th>image</th>\n",
       "    </tr>\n",
       "  </thead>\n",
       "  <tbody>\n",
       "    <tr>\n",
       "      <th>6371</th>\n",
       "      <td>35120</td>\n",
       "      <td>https://myanimelist.net/anime/35120/Devilman__...</td>\n",
       "      <td>https://www.youtube.com/embed/ww06yGPM7Kc?enab...</td>\n",
       "      <td>Devilman: Crybaby</td>\n",
       "      <td>Devilman: Crybaby</td>\n",
       "      <td>ONA</td>\n",
       "      <td>Manga</td>\n",
       "      <td>10.0</td>\n",
       "      <td>Finished Airing</td>\n",
       "      <td>Jan 5, 2018</td>\n",
       "      <td>25 min per ep</td>\n",
       "      <td>R+ - Mild Nudity</td>\n",
       "      <td>7.75</td>\n",
       "      <td>697123.0</td>\n",
       "      <td>1115.0</td>\n",
       "      <td>125</td>\n",
       "      <td>1149732</td>\n",
       "      <td>24154</td>\n",
       "      <td>Devils cannot take form without a living host....</td>\n",
       "      <td>Devilman: Crybaby adapts the entire original m...</td>\n",
       "      <td>NaN</td>\n",
       "      <td>NaN</td>\n",
       "      <td>['Aniplex', 'Dynamic Planning', 'Netflix']</td>\n",
       "      <td>[]</td>\n",
       "      <td>['Science SARU']</td>\n",
       "      <td>['Action', 'Avant Garde', 'Horror', 'Supernatu...</td>\n",
       "      <td>['Gore', 'Mythology']</td>\n",
       "      <td>['Shounen']</td>\n",
       "      <td>https://cdn.myanimelist.net/images/anime/2/899...</td>\n",
       "    </tr>\n",
       "    <tr>\n",
       "      <th>7728</th>\n",
       "      <td>42310</td>\n",
       "      <td>https://myanimelist.net/anime/42310/Cyberpunk_...</td>\n",
       "      <td>https://www.youtube.com/embed/JtqIas3bYhg?enab...</td>\n",
       "      <td>Cyberpunk: Edgerunners</td>\n",
       "      <td>NaN</td>\n",
       "      <td>ONA</td>\n",
       "      <td>Game</td>\n",
       "      <td>10.0</td>\n",
       "      <td>Finished Airing</td>\n",
       "      <td>Sep 13, 2022</td>\n",
       "      <td>25 min per ep</td>\n",
       "      <td>R+ - Mild Nudity</td>\n",
       "      <td>8.60</td>\n",
       "      <td>507018.0</td>\n",
       "      <td>87.0</td>\n",
       "      <td>263</td>\n",
       "      <td>745211</td>\n",
       "      <td>24975</td>\n",
       "      <td>Dreams are doomed to die in Night City, a futu...</td>\n",
       "      <td>Cyberpunk: Edgerunners is based on the Cyberpu...</td>\n",
       "      <td>NaN</td>\n",
       "      <td>NaN</td>\n",
       "      <td>['CD Projekt Red']</td>\n",
       "      <td>[]</td>\n",
       "      <td>['Trigger']</td>\n",
       "      <td>['Action', 'Sci-Fi']</td>\n",
       "      <td>['Gore', 'Organized Crime']</td>\n",
       "      <td>[]</td>\n",
       "      <td>https://cdn.myanimelist.net/images/anime/1818/...</td>\n",
       "    </tr>\n",
       "    <tr>\n",
       "      <th>8397</th>\n",
       "      <td>51535</td>\n",
       "      <td>https://myanimelist.net/anime/51535/Shingeki_n...</td>\n",
       "      <td>https://www.youtube.com/embed/E7WytLM2KvY?enab...</td>\n",
       "      <td>Shingeki no Kyojin: The Final Season - Kankets...</td>\n",
       "      <td>Attack on Titan: Final Season - The Final Chap...</td>\n",
       "      <td>TV Special</td>\n",
       "      <td>Manga</td>\n",
       "      <td>2.0</td>\n",
       "      <td>Finished Airing</td>\n",
       "      <td>Mar 4, 2023 to Nov 5, 2023</td>\n",
       "      <td>1 hr 12 min per ep</td>\n",
       "      <td>R - 17+ (violence &amp; profanity)</td>\n",
       "      <td>8.90</td>\n",
       "      <td>370952.0</td>\n",
       "      <td>22.0</td>\n",
       "      <td>327</td>\n",
       "      <td>642912</td>\n",
       "      <td>15295</td>\n",
       "      <td>In the wake of Eren Yeager's cataclysmic actio...</td>\n",
       "      <td>Shingeki no Kyojin: The Final Season - Kankets...</td>\n",
       "      <td>NaN</td>\n",
       "      <td>NaN</td>\n",
       "      <td>['Production I.G', 'Dentsu', 'Mainichi Broadca...</td>\n",
       "      <td>[]</td>\n",
       "      <td>['MAPPA']</td>\n",
       "      <td>['Action', 'Drama', 'Suspense']</td>\n",
       "      <td>['Gore', 'Military', 'Survival']</td>\n",
       "      <td>['Shounen']</td>\n",
       "      <td>https://cdn.myanimelist.net/images/anime/1279/...</td>\n",
       "    </tr>\n",
       "    <tr>\n",
       "      <th>4415</th>\n",
       "      <td>15689</td>\n",
       "      <td>https://myanimelist.net/anime/15689/Nekomonoga...</td>\n",
       "      <td>https://www.youtube.com/embed/bHef90RByXI?enab...</td>\n",
       "      <td>Nekomonogatari: Kuro</td>\n",
       "      <td>Nekomonogatari Black</td>\n",
       "      <td>TV Special</td>\n",
       "      <td>Light novel</td>\n",
       "      <td>4.0</td>\n",
       "      <td>Finished Airing</td>\n",
       "      <td>Dec 31, 2012</td>\n",
       "      <td>27 min per ep</td>\n",
       "      <td>R - 17+ (violence &amp; profanity)</td>\n",
       "      <td>7.92</td>\n",
       "      <td>338740.0</td>\n",
       "      <td>759.0</td>\n",
       "      <td>398</td>\n",
       "      <td>554179</td>\n",
       "      <td>1241</td>\n",
       "      <td>After surviving a vampire attack, Koyomi Arara...</td>\n",
       "      <td>Nekomonogatari: Kuro adapts the sixth and fina...</td>\n",
       "      <td>NaN</td>\n",
       "      <td>NaN</td>\n",
       "      <td>['Aniplex', 'Kodansha']</td>\n",
       "      <td>['Aniplex of America']</td>\n",
       "      <td>['Shaft']</td>\n",
       "      <td>['Comedy', 'Romance', 'Supernatural', 'Ecchi']</td>\n",
       "      <td>[]</td>\n",
       "      <td>[]</td>\n",
       "      <td>https://cdn.myanimelist.net/images/anime/1170/...</td>\n",
       "    </tr>\n",
       "    <tr>\n",
       "      <th>8009</th>\n",
       "      <td>48661</td>\n",
       "      <td>https://myanimelist.net/anime/48661/JoJo_no_Ki...</td>\n",
       "      <td>https://www.youtube.com/embed/LdSVWTEibF0?enab...</td>\n",
       "      <td>JoJo no Kimyou na Bouken Part 6: Stone Ocean</td>\n",
       "      <td>JoJo's Bizarre Adventure: Stone Ocean</td>\n",
       "      <td>ONA</td>\n",
       "      <td>Manga</td>\n",
       "      <td>12.0</td>\n",
       "      <td>Finished Airing</td>\n",
       "      <td>Dec 1, 2021</td>\n",
       "      <td>24 min per ep</td>\n",
       "      <td>R - 17+ (violence &amp; profanity)</td>\n",
       "      <td>8.13</td>\n",
       "      <td>280818.0</td>\n",
       "      <td>470.0</td>\n",
       "      <td>444</td>\n",
       "      <td>503242</td>\n",
       "      <td>6974</td>\n",
       "      <td>Conspiring forces frame Jolyne Kuujou for a re...</td>\n",
       "      <td>JoJo no Kimyou na Bouken Part 6: Stone Ocean a...</td>\n",
       "      <td>NaN</td>\n",
       "      <td>NaN</td>\n",
       "      <td>['Warner Bros. Japan']</td>\n",
       "      <td>['VIZ Media']</td>\n",
       "      <td>['David Production']</td>\n",
       "      <td>['Action', 'Adventure', 'Supernatural']</td>\n",
       "      <td>[]</td>\n",
       "      <td>['Shounen']</td>\n",
       "      <td>https://cdn.myanimelist.net/images/anime/1896/...</td>\n",
       "    </tr>\n",
       "    <tr>\n",
       "      <th>...</th>\n",
       "      <td>...</td>\n",
       "      <td>...</td>\n",
       "      <td>...</td>\n",
       "      <td>...</td>\n",
       "      <td>...</td>\n",
       "      <td>...</td>\n",
       "      <td>...</td>\n",
       "      <td>...</td>\n",
       "      <td>...</td>\n",
       "      <td>...</td>\n",
       "      <td>...</td>\n",
       "      <td>...</td>\n",
       "      <td>...</td>\n",
       "      <td>...</td>\n",
       "      <td>...</td>\n",
       "      <td>...</td>\n",
       "      <td>...</td>\n",
       "      <td>...</td>\n",
       "      <td>...</td>\n",
       "      <td>...</td>\n",
       "      <td>...</td>\n",
       "      <td>...</td>\n",
       "      <td>...</td>\n",
       "      <td>...</td>\n",
       "      <td>...</td>\n",
       "      <td>...</td>\n",
       "      <td>...</td>\n",
       "      <td>...</td>\n",
       "      <td>...</td>\n",
       "    </tr>\n",
       "    <tr>\n",
       "      <th>3636</th>\n",
       "      <td>9568</td>\n",
       "      <td>https://myanimelist.net/anime/9568/Peace_Maker...</td>\n",
       "      <td>NaN</td>\n",
       "      <td>Peace Maker Kurogane Special</td>\n",
       "      <td>Peace Maker Kurogane: Festival of Gion</td>\n",
       "      <td>Special</td>\n",
       "      <td>Manga</td>\n",
       "      <td>1.0</td>\n",
       "      <td>Finished Airing</td>\n",
       "      <td>Dec 21, 2003</td>\n",
       "      <td>17 min</td>\n",
       "      <td>PG - Children</td>\n",
       "      <td>6.59</td>\n",
       "      <td>789.0</td>\n",
       "      <td>6700.0</td>\n",
       "      <td>9984</td>\n",
       "      <td>3015</td>\n",
       "      <td>4</td>\n",
       "      <td>Peace Maker Kurogane special.</td>\n",
       "      <td>NaN</td>\n",
       "      <td>NaN</td>\n",
       "      <td>NaN</td>\n",
       "      <td>[]</td>\n",
       "      <td>[]</td>\n",
       "      <td>['Gonzo']</td>\n",
       "      <td>['Action', 'Comedy', 'Drama']</td>\n",
       "      <td>['Historical', 'Samurai']</td>\n",
       "      <td>['Shounen']</td>\n",
       "      <td>https://cdn.myanimelist.net/images/anime/7/264...</td>\n",
       "    </tr>\n",
       "    <tr>\n",
       "      <th>8474</th>\n",
       "      <td>52420</td>\n",
       "      <td>https://myanimelist.net/anime/52420/Blue_Archi...</td>\n",
       "      <td>NaN</td>\n",
       "      <td>Blue Archive: 1.5-shuunen Kinen Short Animation</td>\n",
       "      <td>Blue Archive: New Summer Animation PV</td>\n",
       "      <td>PV</td>\n",
       "      <td>Game</td>\n",
       "      <td>1.0</td>\n",
       "      <td>Finished Airing</td>\n",
       "      <td>Jul 16, 2022</td>\n",
       "      <td>9 min</td>\n",
       "      <td>PG-13 - Teens 13 or older</td>\n",
       "      <td>6.92</td>\n",
       "      <td>1352.0</td>\n",
       "      <td>NaN</td>\n",
       "      <td>9989</td>\n",
       "      <td>3011</td>\n",
       "      <td>7</td>\n",
       "      <td>This is a short animation commemorating the 1....</td>\n",
       "      <td>NaN</td>\n",
       "      <td>NaN</td>\n",
       "      <td>NaN</td>\n",
       "      <td>[]</td>\n",
       "      <td>[]</td>\n",
       "      <td>['Yostar Pictures']</td>\n",
       "      <td>['Fantasy']</td>\n",
       "      <td>[]</td>\n",
       "      <td>[]</td>\n",
       "      <td>https://cdn.myanimelist.net/images/anime/1818/...</td>\n",
       "    </tr>\n",
       "    <tr>\n",
       "      <th>6896</th>\n",
       "      <td>37659</td>\n",
       "      <td>https://myanimelist.net/anime/37659/Taimanin_Y...</td>\n",
       "      <td>NaN</td>\n",
       "      <td>Taimanin Yukikaze Special</td>\n",
       "      <td>NaN</td>\n",
       "      <td>Special</td>\n",
       "      <td>Visual novel</td>\n",
       "      <td>1.0</td>\n",
       "      <td>Finished Airing</td>\n",
       "      <td>Jan 29, 2016</td>\n",
       "      <td>5 min</td>\n",
       "      <td>Rx - Hentai</td>\n",
       "      <td>5.93</td>\n",
       "      <td>966.0</td>\n",
       "      <td>NaN</td>\n",
       "      <td>9994</td>\n",
       "      <td>3009</td>\n",
       "      <td>11</td>\n",
       "      <td>Side story of Taimanin Yukikaze.</td>\n",
       "      <td>NaN</td>\n",
       "      <td>NaN</td>\n",
       "      <td>NaN</td>\n",
       "      <td>['ZIZ Entertainment (ZIZ)']</td>\n",
       "      <td>[]</td>\n",
       "      <td>['Magic Bus']</td>\n",
       "      <td>['Action', 'Supernatural', 'Hentai']</td>\n",
       "      <td>['Martial Arts', 'Mythology']</td>\n",
       "      <td>[]</td>\n",
       "      <td>https://cdn.myanimelist.net/images/anime/1159/...</td>\n",
       "    </tr>\n",
       "    <tr>\n",
       "      <th>2368</th>\n",
       "      <td>3248</td>\n",
       "      <td>https://myanimelist.net/anime/3248/Tenpou_Ibun...</td>\n",
       "      <td>NaN</td>\n",
       "      <td>Tenpou Ibun: Ayakashi Ayashi - Ayashi Shinkyoku</td>\n",
       "      <td>Ghost Slayers Ayashi: Inferno</td>\n",
       "      <td>Special</td>\n",
       "      <td>Original</td>\n",
       "      <td>5.0</td>\n",
       "      <td>Finished Airing</td>\n",
       "      <td>Aug 22, 2007 to Oct 24, 2007</td>\n",
       "      <td>24 min per ep</td>\n",
       "      <td>PG-13 - Teens 13 or older</td>\n",
       "      <td>6.77</td>\n",
       "      <td>1029.0</td>\n",
       "      <td>5610.0</td>\n",
       "      <td>9994</td>\n",
       "      <td>3005</td>\n",
       "      <td>1</td>\n",
       "      <td>Specials set six months after the end of Tenpo...</td>\n",
       "      <td>NaN</td>\n",
       "      <td>NaN</td>\n",
       "      <td>NaN</td>\n",
       "      <td>[]</td>\n",
       "      <td>[]</td>\n",
       "      <td>['Bones']</td>\n",
       "      <td>['Action', 'Drama', 'Supernatural']</td>\n",
       "      <td>['Historical']</td>\n",
       "      <td>[]</td>\n",
       "      <td>https://cdn.myanimelist.net/images/anime/9/509...</td>\n",
       "    </tr>\n",
       "    <tr>\n",
       "      <th>8611</th>\n",
       "      <td>53955</td>\n",
       "      <td>https://myanimelist.net/anime/53955/Slime-tach...</td>\n",
       "      <td>NaN</td>\n",
       "      <td>Slime-tachi no Idobata Kaigi 2nd Season</td>\n",
       "      <td>NaN</td>\n",
       "      <td>ONA</td>\n",
       "      <td>Light novel</td>\n",
       "      <td>14.0</td>\n",
       "      <td>Finished Airing</td>\n",
       "      <td>Dec 19, 2022 to Mar 25, 2023</td>\n",
       "      <td>1 min per ep</td>\n",
       "      <td>PG-13 - Teens 13 or older</td>\n",
       "      <td>5.75</td>\n",
       "      <td>325.0</td>\n",
       "      <td>10832.0</td>\n",
       "      <td>9998</td>\n",
       "      <td>3004</td>\n",
       "      <td>7</td>\n",
       "      <td>Mini anime for Kami-tachi ni Hirowareta Otoko ...</td>\n",
       "      <td>NaN</td>\n",
       "      <td>NaN</td>\n",
       "      <td>NaN</td>\n",
       "      <td>[]</td>\n",
       "      <td>[]</td>\n",
       "      <td>['AQUA ARIS']</td>\n",
       "      <td>['Comedy', 'Fantasy']</td>\n",
       "      <td>[]</td>\n",
       "      <td>[]</td>\n",
       "      <td>https://cdn.myanimelist.net/images/anime/1555/...</td>\n",
       "    </tr>\n",
       "  </tbody>\n",
       "</table>\n",
       "<p>1865 rows × 29 columns</p>\n",
       "</div>"
      ],
      "text/plain": [
       "      mal_id                                                url  \\\n",
       "6371   35120  https://myanimelist.net/anime/35120/Devilman__...   \n",
       "7728   42310  https://myanimelist.net/anime/42310/Cyberpunk_...   \n",
       "8397   51535  https://myanimelist.net/anime/51535/Shingeki_n...   \n",
       "4415   15689  https://myanimelist.net/anime/15689/Nekomonoga...   \n",
       "8009   48661  https://myanimelist.net/anime/48661/JoJo_no_Ki...   \n",
       "...      ...                                                ...   \n",
       "3636    9568  https://myanimelist.net/anime/9568/Peace_Maker...   \n",
       "8474   52420  https://myanimelist.net/anime/52420/Blue_Archi...   \n",
       "6896   37659  https://myanimelist.net/anime/37659/Taimanin_Y...   \n",
       "2368    3248  https://myanimelist.net/anime/3248/Tenpou_Ibun...   \n",
       "8611   53955  https://myanimelist.net/anime/53955/Slime-tach...   \n",
       "\n",
       "                                                trailer  \\\n",
       "6371  https://www.youtube.com/embed/ww06yGPM7Kc?enab...   \n",
       "7728  https://www.youtube.com/embed/JtqIas3bYhg?enab...   \n",
       "8397  https://www.youtube.com/embed/E7WytLM2KvY?enab...   \n",
       "4415  https://www.youtube.com/embed/bHef90RByXI?enab...   \n",
       "8009  https://www.youtube.com/embed/LdSVWTEibF0?enab...   \n",
       "...                                                 ...   \n",
       "3636                                                NaN   \n",
       "8474                                                NaN   \n",
       "6896                                                NaN   \n",
       "2368                                                NaN   \n",
       "8611                                                NaN   \n",
       "\n",
       "                                                  title  \\\n",
       "6371                                  Devilman: Crybaby   \n",
       "7728                             Cyberpunk: Edgerunners   \n",
       "8397  Shingeki no Kyojin: The Final Season - Kankets...   \n",
       "4415                               Nekomonogatari: Kuro   \n",
       "8009       JoJo no Kimyou na Bouken Part 6: Stone Ocean   \n",
       "...                                                 ...   \n",
       "3636                       Peace Maker Kurogane Special   \n",
       "8474    Blue Archive: 1.5-shuunen Kinen Short Animation   \n",
       "6896                          Taimanin Yukikaze Special   \n",
       "2368    Tenpou Ibun: Ayakashi Ayashi - Ayashi Shinkyoku   \n",
       "8611            Slime-tachi no Idobata Kaigi 2nd Season   \n",
       "\n",
       "                                          title_english        type  \\\n",
       "6371                                  Devilman: Crybaby         ONA   \n",
       "7728                                                NaN         ONA   \n",
       "8397  Attack on Titan: Final Season - The Final Chap...  TV Special   \n",
       "4415                               Nekomonogatari Black  TV Special   \n",
       "8009              JoJo's Bizarre Adventure: Stone Ocean         ONA   \n",
       "...                                                 ...         ...   \n",
       "3636             Peace Maker Kurogane: Festival of Gion     Special   \n",
       "8474              Blue Archive: New Summer Animation PV          PV   \n",
       "6896                                                NaN     Special   \n",
       "2368                      Ghost Slayers Ayashi: Inferno     Special   \n",
       "8611                                                NaN         ONA   \n",
       "\n",
       "            source  episodes           status                         aired  \\\n",
       "6371         Manga      10.0  Finished Airing                   Jan 5, 2018   \n",
       "7728          Game      10.0  Finished Airing                  Sep 13, 2022   \n",
       "8397         Manga       2.0  Finished Airing    Mar 4, 2023 to Nov 5, 2023   \n",
       "4415   Light novel       4.0  Finished Airing                  Dec 31, 2012   \n",
       "8009         Manga      12.0  Finished Airing                   Dec 1, 2021   \n",
       "...            ...       ...              ...                           ...   \n",
       "3636         Manga       1.0  Finished Airing                  Dec 21, 2003   \n",
       "8474          Game       1.0  Finished Airing                  Jul 16, 2022   \n",
       "6896  Visual novel       1.0  Finished Airing                  Jan 29, 2016   \n",
       "2368      Original       5.0  Finished Airing  Aug 22, 2007 to Oct 24, 2007   \n",
       "8611   Light novel      14.0  Finished Airing  Dec 19, 2022 to Mar 25, 2023   \n",
       "\n",
       "                duration                          rating  score  scored_by  \\\n",
       "6371       25 min per ep                R+ - Mild Nudity   7.75   697123.0   \n",
       "7728       25 min per ep                R+ - Mild Nudity   8.60   507018.0   \n",
       "8397  1 hr 12 min per ep  R - 17+ (violence & profanity)   8.90   370952.0   \n",
       "4415       27 min per ep  R - 17+ (violence & profanity)   7.92   338740.0   \n",
       "8009       24 min per ep  R - 17+ (violence & profanity)   8.13   280818.0   \n",
       "...                  ...                             ...    ...        ...   \n",
       "3636              17 min                   PG - Children   6.59      789.0   \n",
       "8474               9 min       PG-13 - Teens 13 or older   6.92     1352.0   \n",
       "6896               5 min                     Rx - Hentai   5.93      966.0   \n",
       "2368       24 min per ep       PG-13 - Teens 13 or older   6.77     1029.0   \n",
       "8611        1 min per ep       PG-13 - Teens 13 or older   5.75      325.0   \n",
       "\n",
       "         rank  popularity  members  favorites  \\\n",
       "6371   1115.0         125  1149732      24154   \n",
       "7728     87.0         263   745211      24975   \n",
       "8397     22.0         327   642912      15295   \n",
       "4415    759.0         398   554179       1241   \n",
       "8009    470.0         444   503242       6974   \n",
       "...       ...         ...      ...        ...   \n",
       "3636   6700.0        9984     3015          4   \n",
       "8474      NaN        9989     3011          7   \n",
       "6896      NaN        9994     3009         11   \n",
       "2368   5610.0        9994     3005          1   \n",
       "8611  10832.0        9998     3004          7   \n",
       "\n",
       "                                               synopsis  \\\n",
       "6371  Devils cannot take form without a living host....   \n",
       "7728  Dreams are doomed to die in Night City, a futu...   \n",
       "8397  In the wake of Eren Yeager's cataclysmic actio...   \n",
       "4415  After surviving a vampire attack, Koyomi Arara...   \n",
       "8009  Conspiring forces frame Jolyne Kuujou for a re...   \n",
       "...                                                 ...   \n",
       "3636                      Peace Maker Kurogane special.   \n",
       "8474  This is a short animation commemorating the 1....   \n",
       "6896                   Side story of Taimanin Yukikaze.   \n",
       "2368  Specials set six months after the end of Tenpo...   \n",
       "8611  Mini anime for Kami-tachi ni Hirowareta Otoko ...   \n",
       "\n",
       "                                             background season  year  \\\n",
       "6371  Devilman: Crybaby adapts the entire original m...    NaN   NaN   \n",
       "7728  Cyberpunk: Edgerunners is based on the Cyberpu...    NaN   NaN   \n",
       "8397  Shingeki no Kyojin: The Final Season - Kankets...    NaN   NaN   \n",
       "4415  Nekomonogatari: Kuro adapts the sixth and fina...    NaN   NaN   \n",
       "8009  JoJo no Kimyou na Bouken Part 6: Stone Ocean a...    NaN   NaN   \n",
       "...                                                 ...    ...   ...   \n",
       "3636                                                NaN    NaN   NaN   \n",
       "8474                                                NaN    NaN   NaN   \n",
       "6896                                                NaN    NaN   NaN   \n",
       "2368                                                NaN    NaN   NaN   \n",
       "8611                                                NaN    NaN   NaN   \n",
       "\n",
       "                                              producers  \\\n",
       "6371         ['Aniplex', 'Dynamic Planning', 'Netflix']   \n",
       "7728                                 ['CD Projekt Red']   \n",
       "8397  ['Production I.G', 'Dentsu', 'Mainichi Broadca...   \n",
       "4415                            ['Aniplex', 'Kodansha']   \n",
       "8009                             ['Warner Bros. Japan']   \n",
       "...                                                 ...   \n",
       "3636                                                 []   \n",
       "8474                                                 []   \n",
       "6896                        ['ZIZ Entertainment (ZIZ)']   \n",
       "2368                                                 []   \n",
       "8611                                                 []   \n",
       "\n",
       "                   licensors               studios  \\\n",
       "6371                      []      ['Science SARU']   \n",
       "7728                      []           ['Trigger']   \n",
       "8397                      []             ['MAPPA']   \n",
       "4415  ['Aniplex of America']             ['Shaft']   \n",
       "8009           ['VIZ Media']  ['David Production']   \n",
       "...                      ...                   ...   \n",
       "3636                      []             ['Gonzo']   \n",
       "8474                      []   ['Yostar Pictures']   \n",
       "6896                      []         ['Magic Bus']   \n",
       "2368                      []             ['Bones']   \n",
       "8611                      []         ['AQUA ARIS']   \n",
       "\n",
       "                                                 genres  \\\n",
       "6371  ['Action', 'Avant Garde', 'Horror', 'Supernatu...   \n",
       "7728                               ['Action', 'Sci-Fi']   \n",
       "8397                    ['Action', 'Drama', 'Suspense']   \n",
       "4415     ['Comedy', 'Romance', 'Supernatural', 'Ecchi']   \n",
       "8009            ['Action', 'Adventure', 'Supernatural']   \n",
       "...                                                 ...   \n",
       "3636                      ['Action', 'Comedy', 'Drama']   \n",
       "8474                                        ['Fantasy']   \n",
       "6896               ['Action', 'Supernatural', 'Hentai']   \n",
       "2368                ['Action', 'Drama', 'Supernatural']   \n",
       "8611                              ['Comedy', 'Fantasy']   \n",
       "\n",
       "                                themes demographics  \\\n",
       "6371             ['Gore', 'Mythology']  ['Shounen']   \n",
       "7728       ['Gore', 'Organized Crime']           []   \n",
       "8397  ['Gore', 'Military', 'Survival']  ['Shounen']   \n",
       "4415                                []           []   \n",
       "8009                                []  ['Shounen']   \n",
       "...                                ...          ...   \n",
       "3636         ['Historical', 'Samurai']  ['Shounen']   \n",
       "8474                                []           []   \n",
       "6896     ['Martial Arts', 'Mythology']           []   \n",
       "2368                    ['Historical']           []   \n",
       "8611                                []           []   \n",
       "\n",
       "                                                  image  \n",
       "6371  https://cdn.myanimelist.net/images/anime/2/899...  \n",
       "7728  https://cdn.myanimelist.net/images/anime/1818/...  \n",
       "8397  https://cdn.myanimelist.net/images/anime/1279/...  \n",
       "4415  https://cdn.myanimelist.net/images/anime/1170/...  \n",
       "8009  https://cdn.myanimelist.net/images/anime/1896/...  \n",
       "...                                                 ...  \n",
       "3636  https://cdn.myanimelist.net/images/anime/7/264...  \n",
       "8474  https://cdn.myanimelist.net/images/anime/1818/...  \n",
       "6896  https://cdn.myanimelist.net/images/anime/1159/...  \n",
       "2368  https://cdn.myanimelist.net/images/anime/9/509...  \n",
       "8611  https://cdn.myanimelist.net/images/anime/1555/...  \n",
       "\n",
       "[1865 rows x 29 columns]"
      ]
     },
     "execution_count": 14,
     "metadata": {},
     "output_type": "execute_result"
    }
   ],
   "source": [
    "data[~((data.type==\"TV\")|(data.type==\"Movie\")|(data.type==\"OVA\")|(data.type==\"OVA\"))].sort_values(by = 'popularity')"
   ]
  },
  {
   "cell_type": "code",
   "execution_count": 15,
   "id": "de823ccf",
   "metadata": {},
   "outputs": [],
   "source": [
    "import re\n",
    "\n",
    "pattern = r\"\\[Written by MAL Rewrite\\]|\\(.*Source:.*\\)\" \n",
    "\n",
    "# Removing the pattern using regular expressions\n",
    "data['synopsis'] = data['synopsis'].str.replace(pattern, '', regex=True).values\n",
    "\n"
   ]
  },
  {
   "cell_type": "code",
   "execution_count": 16,
   "id": "c5e5db39",
   "metadata": {},
   "outputs": [],
   "source": [
    "def remove_newline_numbers(text):\n",
    "    text = text.replace('\\n', '')\n",
    "    text = re.sub(r'\\d+', '', text)\n",
    "    text = re.sub(r'[^\\w\\s]', '', text)\n",
    "    return text.lower()"
   ]
  },
  {
   "cell_type": "code",
   "execution_count": 17,
   "id": "f2acd0e0",
   "metadata": {},
   "outputs": [],
   "source": [
    "data['synopsis_cleaned'] = data.synopsis.apply(remove_newline_numbers)"
   ]
  },
  {
   "cell_type": "code",
   "execution_count": 18,
   "id": "b7f34e91",
   "metadata": {},
   "outputs": [],
   "source": [
    "import spacy\n",
    "nlp = spacy.load('en_core_web_sm')\n",
    "data['synopsis_cleaned'] = data['synopsis_cleaned'].apply(lambda x: \" \".join([token.lemma_ for token in nlp(x) if not token.is_stop]))"
   ]
  },
  {
   "cell_type": "code",
   "execution_count": 19,
   "id": "b8e44262",
   "metadata": {},
   "outputs": [],
   "source": [
    "rating_map = {\n",
    "    \"PG-13 - Teens 13 or older\": \"PG-13\",\n",
    "    \"R - 17+ (violence & profanity)\": \"R17\",\n",
    "    \"Rx - Hentai\": \"Rx\",\n",
    "    \"R+ - Mild Nudity\": \"R+\",\n",
    "    \"G - All Ages\": \"G\",\n",
    "    \"PG - Children\": \"PG\"\n",
    "}\n",
    "\n",
    "# Use the map to replace the values in the 'rating' column\n",
    "data['rating'] = data['rating'].replace(rating_map)"
   ]
  },
  {
   "cell_type": "code",
   "execution_count": 20,
   "id": "c3b7f166",
   "metadata": {},
   "outputs": [
    {
     "data": {
      "text/plain": [
       "(8785, 30)"
      ]
     },
     "execution_count": 20,
     "metadata": {},
     "output_type": "execute_result"
    }
   ],
   "source": [
    "data.shape"
   ]
  },
  {
   "cell_type": "code",
   "execution_count": 21,
   "id": "ee3bb3ab",
   "metadata": {},
   "outputs": [],
   "source": [
    "data['themes'] = data['themes'].apply(lambda x:\"unknown_theme\" if x == [] else x )\n",
    "data['demographics'] = data['demographics'].apply(lambda x:\"unknown_demographics\" if x == [] else x )"
   ]
  },
  {
   "cell_type": "code",
   "execution_count": 22,
   "id": "f02beca7",
   "metadata": {},
   "outputs": [],
   "source": [
    "data.year = data.aired.str.split(',').str[1].str[1:5]"
   ]
  },
  {
   "cell_type": "code",
   "execution_count": 23,
   "id": "071cd217",
   "metadata": {},
   "outputs": [],
   "source": [
    "def get_season(x):\n",
    "    spring = [\"Mar\",\"Apr\",\"May\"]\n",
    "    summer = [\"Jun\",\"Jul\",\"Aug\"]\n",
    "    fall = [\"Sep\",\"Oct\",\"Nov\"]\n",
    "    winter = [\"Dec\",\"Jan\",\"Feb\"]\n",
    "    y = x[:3]\n",
    "    if y in spring:\n",
    "        return \"spring\"\n",
    "    elif y in winter:\n",
    "        return \"winter\"\n",
    "    elif y in fall:\n",
    "        return \"fall\"\n",
    "    elif y in summer:\n",
    "        return \"summer\"\n",
    "\n",
    "    "
   ]
  },
  {
   "cell_type": "code",
   "execution_count": 24,
   "id": "457f0730",
   "metadata": {},
   "outputs": [],
   "source": [
    "data.season = data.aired.apply(get_season)"
   ]
  },
  {
   "cell_type": "code",
   "execution_count": 25,
   "id": "f2ea6795",
   "metadata": {},
   "outputs": [],
   "source": [
    "def fill_na(row):\n",
    "    if pd.isna(row['year']):\n",
    "        if len(row['aired']) == 4:\n",
    "            return row['aired']\n",
    "        elif len(row['aired']) == 12:\n",
    "            return row['aired'][:4]\n",
    "        else:\n",
    "            return row['aired'][4:8]\n",
    "    else:\n",
    "        return row['year']\n",
    "\n",
    "# Apply the function to each row of the DataFrame\n",
    "data['year'] = data.apply(fill_na, axis=1)\n"
   ]
  },
  {
   "cell_type": "code",
   "execution_count": 26,
   "id": "ffbf4ffc",
   "metadata": {},
   "outputs": [],
   "source": [
    "data.season = data.season.fillna(\"unknownseason\")"
   ]
  },
  {
   "cell_type": "code",
   "execution_count": 27,
   "id": "4a652f96",
   "metadata": {},
   "outputs": [
    {
     "data": {
      "text/plain": [
       "mal_id                 0\n",
       "url                    0\n",
       "trailer             4907\n",
       "title                  0\n",
       "title_english       3028\n",
       "type                   0\n",
       "source                 0\n",
       "episodes              40\n",
       "status                 0\n",
       "aired                  0\n",
       "duration               0\n",
       "rating                 0\n",
       "score                  0\n",
       "scored_by              0\n",
       "rank                1046\n",
       "popularity             0\n",
       "members                0\n",
       "favorites              0\n",
       "synopsis               0\n",
       "background          7041\n",
       "season                 0\n",
       "year                   0\n",
       "producers              0\n",
       "licensors              0\n",
       "studios                0\n",
       "genres                 0\n",
       "themes                 0\n",
       "demographics           0\n",
       "image                  0\n",
       "synopsis_cleaned       0\n",
       "dtype: int64"
      ]
     },
     "execution_count": 27,
     "metadata": {},
     "output_type": "execute_result"
    }
   ],
   "source": [
    "data.isna().sum()"
   ]
  },
  {
   "cell_type": "code",
   "execution_count": 28,
   "id": "7d47ad96",
   "metadata": {},
   "outputs": [],
   "source": [
    "import ast\n",
    "\n",
    "def one_hot_encode(df, column):\n",
    "    \n",
    "    # Convert string representation of lists into actual lists\n",
    "    df[column] = df[column].apply(ast.literal_eval)\n",
    "\n",
    "    # Convert list of genres to string\n",
    "    df[column] = df[column].apply(lambda x: ','.join(x))\n",
    "\n",
    "    # Apply one-hot encoding and return the result\n",
    "    return df[column].str.get_dummies(sep=',')\n",
    "\n"
   ]
  },
  {
   "cell_type": "code",
   "execution_count": 29,
   "id": "4f9a1f8b",
   "metadata": {},
   "outputs": [],
   "source": [
    "genres_df = one_hot_encode(data, 'genres')\n",
    "producers_df = one_hot_encode(data, 'producers')\n",
    "studios_df = one_hot_encode(data, 'studios')\n",
    "themes_df = one_hot_encode(data, 'themes')\n",
    "demographics_df = one_hot_encode(data, 'demographics')\n",
    "licensors_df = one_hot_encode(data, 'licensors')"
   ]
  },
  {
   "cell_type": "code",
   "execution_count": 30,
   "id": "9d8ef841",
   "metadata": {},
   "outputs": [],
   "source": [
    "from sklearn.feature_extraction.text import TfidfVectorizer"
   ]
  },
  {
   "cell_type": "code",
   "execution_count": 31,
   "id": "fd01a630",
   "metadata": {},
   "outputs": [],
   "source": [
    "vectorizer = TfidfVectorizer(max_features=8000)  # Adjust max_features as needed\n",
    "overview_matrix = vectorizer.fit_transform(data['synopsis_cleaned'])"
   ]
  },
  {
   "cell_type": "code",
   "execution_count": 32,
   "id": "7fd62783",
   "metadata": {},
   "outputs": [],
   "source": [
    "overview_df = overview_matrix.toarray()\n",
    "overview_df = pd.DataFrame(overview_df)"
   ]
  },
  {
   "cell_type": "code",
   "execution_count": 33,
   "id": "42ee2102",
   "metadata": {},
   "outputs": [],
   "source": [
    "status_df = data.status.str.get_dummies()\n",
    "season_df = data.season.str.get_dummies()\n",
    "type_df = data.type.str.get_dummies()\n",
    "source_df = data.source.str.get_dummies()\n",
    "rating_df = data.rating.str.get_dummies()\n"
   ]
  },
  {
   "cell_type": "code",
   "execution_count": 82,
   "id": "f375278f",
   "metadata": {},
   "outputs": [],
   "source": [
    "combined_features = pd.concat([overview_df,type_df,source_df,genres_df,rating_df,themes_df,demographics_df],axis=1)"
   ]
  },
  {
   "cell_type": "code",
   "execution_count": 83,
   "id": "db7baa3b",
   "metadata": {},
   "outputs": [
    {
     "data": {
      "text/plain": [
       "(8785, 8108)"
      ]
     },
     "execution_count": 83,
     "metadata": {},
     "output_type": "execute_result"
    }
   ],
   "source": [
    "combined_features.shape"
   ]
  },
  {
   "cell_type": "code",
   "execution_count": 84,
   "id": "8ab3bafd",
   "metadata": {},
   "outputs": [],
   "source": [
    "from sklearn.metrics.pairwise import cosine_similarity\n",
    "similarity_matrix = cosine_similarity(combined_features)"
   ]
  },
  {
   "cell_type": "code",
   "execution_count": 85,
   "id": "f747419d",
   "metadata": {},
   "outputs": [],
   "source": [
    "def recommend(anime):\n",
    "    index = data[(data['title'] == anime) | (data['title_english'] == anime)].index[0]\n",
    "    distances = sorted(list(enumerate(similarity_matrix[index])),reverse=True,key= lambda x:x[1])\n",
    "    for i in distances[1:10]:\n",
    "        \n",
    "        print(data.iloc[i[0]].title,\"---\",i[1])"
   ]
  },
  {
   "cell_type": "code",
   "execution_count": 87,
   "id": "d63f3abf",
   "metadata": {},
   "outputs": [
    {
     "name": "stdout",
     "output_type": "stream",
     "text": [
      "Naruto: Shippuuden --- 0.9324073728341525\n",
      "Boruto: Naruto Next Generations --- 0.9285702614908151\n",
      "Nanatsu no Taizai: Imashime no Fukkatsu --- 0.8400943348225696\n",
      "Dragon Quest: Dai no Daibouken (2020) --- 0.8372779450193456\n",
      "Nanatsu no Taizai: Funnu no Shinpan --- 0.8326332341477566\n",
      "Magi: Sinbad no Bouken (TV) --- 0.8306382271044592\n",
      "Nanatsu no Taizai: Kamigami no Gekirin --- 0.8293357432895804\n",
      "Magi: The Kingdom of Magic --- 0.8288897030707874\n",
      "Nanatsu no Taizai: Mokushiroku no Yonkishi --- 0.8288316581832843\n"
     ]
    }
   ],
   "source": [
    "recommend(\"Naruto\")"
   ]
  },
  {
   "cell_type": "code",
   "execution_count": 88,
   "id": "c9fdc077",
   "metadata": {},
   "outputs": [],
   "source": [
    "import pickle\n",
    "pickle.dump(data,open('anime.pkl','wb'))\n",
    "pickle.dump(similarity_matrix,open('similarity.pkl','wb'))"
   ]
  },
  {
   "cell_type": "code",
   "execution_count": null,
   "id": "ef631e0f",
   "metadata": {},
   "outputs": [],
   "source": []
  }
 ],
 "metadata": {
  "kernelspec": {
   "display_name": "Python 3 (ipykernel)",
   "language": "python",
   "name": "python3"
  },
  "language_info": {
   "codemirror_mode": {
    "name": "ipython",
    "version": 3
   },
   "file_extension": ".py",
   "mimetype": "text/x-python",
   "name": "python",
   "nbconvert_exporter": "python",
   "pygments_lexer": "ipython3",
   "version": "3.11.5"
  }
 },
 "nbformat": 4,
 "nbformat_minor": 5
}
